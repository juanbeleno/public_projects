{
 "cells": [
  {
   "cell_type": "markdown",
   "id": "573070e4",
   "metadata": {},
   "source": [
    "# Dataset\n",
    "\n",
    "The NSF Research Awards Abstracts dataset comprises several paper abstracts, one per file, that were furnished by the NSF (National Science Foundation).\n",
    "\n",
    "For this especific project we used [a sample from 2020](https://www.nsf.gov/awardsearch/download?DownloadFileName=2020&All=true).\n",
    "\n",
    "I start by creating a single CSV file with only the abstract and filename"
   ]
  },
  {
   "cell_type": "code",
   "execution_count": 5,
   "id": "ce486db8",
   "metadata": {},
   "outputs": [],
   "source": [
    "import xml.etree.ElementTree as Xet \n",
    "import pandas as pd\n",
    "import os\n",
    "\n",
    "input_directory: str = os.path.join('data', 'inputs')\n",
    "filepaths = next(os.walk(input_directory), (None, None, []))[2]  # [] if no file\n",
    "\n",
    "data = []\n",
    "\n",
    "for filepath in filepaths:\n",
    "    xmlparse = Xet.parse(os.path.join(input_directory, filepath)) \n",
    "    root = xmlparse.getroot() \n",
    "    for tag in root:\n",
    "        data.append({\n",
    "            \"file\": filepath,\n",
    "            \"abstract\": tag.find(\"AbstractNarration\").text\n",
    "        })\n",
    "\n",
    "df = pd.DataFrame(data) \n",
    "\n",
    "# Writing dataframe to csv \n",
    "df.to_csv(os.path.join('data', 'processed', 'abstracts.csv'), index=False)"
   ]
  },
  {
   "cell_type": "code",
   "execution_count": null,
   "id": "de4fc463",
   "metadata": {},
   "outputs": [],
   "source": []
  }
 ],
 "metadata": {
  "kernelspec": {
   "display_name": "Python 3 (ipykernel)",
   "language": "python",
   "name": "python3"
  },
  "language_info": {
   "codemirror_mode": {
    "name": "ipython",
    "version": 3
   },
   "file_extension": ".py",
   "mimetype": "text/x-python",
   "name": "python",
   "nbconvert_exporter": "python",
   "pygments_lexer": "ipython3",
   "version": "3.10.9"
  }
 },
 "nbformat": 4,
 "nbformat_minor": 5
}
