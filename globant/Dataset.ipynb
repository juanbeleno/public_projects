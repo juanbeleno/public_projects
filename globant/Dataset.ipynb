{
 "cells": [
  {
   "cell_type": "markdown",
   "id": "e4ccd88e",
   "metadata": {},
   "source": [
    "# Dataset\n",
    "\n",
    "The NSF Research Awards Abstracts dataset comprises several paper abstracts, one per file, that were furnished by the NSF (National Science Foundation).\n",
    "\n",
    "For this especific project we used [a sample from 2020](https://www.nsf.gov/awardsearch/download?DownloadFileName=2020&All=true).\n",
    "\n",
    "I start by creating a single CSV file with only the title, abstract and identifier."
   ]
  },
  {
   "cell_type": "code",
   "execution_count": 8,
   "id": "ab0f5f02",
   "metadata": {},
   "outputs": [],
   "source": [
    "import xml.etree.ElementTree as Xet \n",
    "import pandas as pd\n",
    "import os\n",
    "\n",
    "input_directory: str = os.path.join('data', 'inputs')\n",
    "filepaths = next(os.walk(input_directory), (None, None, []))[2]  # [] if no file\n",
    "\n",
    "data = []\n",
    "\n",
    "for filepath in filepaths:\n",
    "    xmlparse = Xet.parse(os.path.join(input_directory, filepath)) \n",
    "    root = xmlparse.getroot() \n",
    "    for tag in root:\n",
    "        data.append({\n",
    "            \"award_id\": tag.find(\"AwardID\").text,\n",
    "            \"title\": tag.find(\"AwardTitle\").text,\n",
    "            \"abstract\": tag.find(\"AbstractNarration\").text\n",
    "        })\n",
    "\n",
    "abstracts_df = pd.DataFrame(data) \n",
    "\n",
    "# Writing dataframe to csv \n",
    "abstracts_df.to_csv(os.path.join('data', 'processed', 'abstracts.csv'), index=False)"
   ]
  },
  {
   "cell_type": "code",
   "execution_count": null,
   "id": "d8f3d73d",
   "metadata": {},
   "outputs": [],
   "source": [
    "https://huggingface.co/blog/getting-started-with-embeddings\n",
    "https://huggingface.co/blog/bertopic"
   ]
  },
  {
   "cell_type": "code",
   "execution_count": 34,
   "id": "eee43041",
   "metadata": {},
   "outputs": [
    {
     "data": {
      "text/plain": [
       "'\\n# imports\\nimport tiktoken\\n\\nfrom openai.embeddings_utils import get_embedding\\n\\n\\n# embedding model parameters\\nembedding_model = \"text-embedding-ada-002\"\\nembedding_encoding = \"cl100k_base\"  # this the encoding for text-embedding-ada-002\\nmax_tokens = 8000  # the maximum for text-embedding-ada-002 is 8191\\n\\nencoding = tiktoken.get_encoding(embedding_encoding)\\n\\n# omit reviews that are too long to embed\\nabstracts_df[\"n_tokens\"] = abstracts_df.abstract.apply(lambda x: len(encoding.encode(str(x))))\\nabstracts_df = abstracts_df[abstracts_df.n_tokens <= max_tokens].copy()\\nprint(f\\'# of valid abstracts: {len(abstracts_df)}\\')\\n\\n# Ensure you have your API key set in your environment per the README: https://github.com/openai/openai-python#usage\\n# This may take a few hours\\nimport time\\n\\nopenai_embeddings_filepath = os.path.join(\\'data\\', \\'processed\\', \\'openai_embeddings.csv\\')\\n\\nfor item in abstracts_df.to_dict(\\'records\\'):\\n    print(f\\'Processing award {item[\"award_id\"]}\\')\\n    try:\\n        openai_embeddings = get_embedding(item[\\'abstract\\'], engine=embedding_model)\\n    except Exception as e:\\n        print(f\\'Retrying after finding an error {str(e)}\\')\\n        time.sleep(60)\\n        openai_embeddings = get_embedding(item[\\'abstract\\'], engine=embedding_model)\\n    # Append to file using the write() method\\n    with open(openai_embeddings_filepath, \\'a\\') as f:\\n        f.write(f\\'{item[\"award_id\"]},{openai_embeddings}\\n\\')\\n    time.sleep(3)\\n'"
      ]
     },
     "execution_count": 34,
     "metadata": {},
     "output_type": "execute_result"
    }
   ],
   "source": [
    "# Rate limits for OpenAI are too strict to use them in personal projects\n",
    "\"\"\"\n",
    "# imports\n",
    "import tiktoken\n",
    "\n",
    "from openai.embeddings_utils import get_embedding\n",
    "\n",
    "\n",
    "# embedding model parameters\n",
    "embedding_model = \"text-embedding-ada-002\"\n",
    "embedding_encoding = \"cl100k_base\"  # this the encoding for text-embedding-ada-002\n",
    "max_tokens = 8000  # the maximum for text-embedding-ada-002 is 8191\n",
    "\n",
    "encoding = tiktoken.get_encoding(embedding_encoding)\n",
    "\n",
    "# omit reviews that are too long to embed\n",
    "abstracts_df[\"n_tokens\"] = abstracts_df.abstract.apply(lambda x: len(encoding.encode(str(x))))\n",
    "abstracts_df = abstracts_df[abstracts_df.n_tokens <= max_tokens].copy()\n",
    "print(f'# of valid abstracts: {len(abstracts_df)}')\n",
    "\n",
    "# Ensure you have your API key set in your environment per the README: https://github.com/openai/openai-python#usage\n",
    "# This may take a few hours\n",
    "import time\n",
    "\n",
    "openai_embeddings_filepath = os.path.join('data', 'processed', 'openai_embeddings.csv')\n",
    "\n",
    "for item in abstracts_df.to_dict('records'):\n",
    "    print(f'Processing award {item[\"award_id\"]}')\n",
    "    try:\n",
    "        openai_embeddings = get_embedding(item['abstract'], engine=embedding_model)\n",
    "    except Exception as e:\n",
    "        print(f'Retrying after finding an error {str(e)}')\n",
    "        time.sleep(60)\n",
    "        openai_embeddings = get_embedding(item['abstract'], engine=embedding_model)\n",
    "    # Append to file using the write() method\n",
    "    with open(openai_embeddings_filepath, 'a') as f:\n",
    "        f.write(f'{item[\"award_id\"]},{openai_embeddings}\\n')\n",
    "    time.sleep(3)\n",
    "\"\"\""
   ]
  },
  {
   "cell_type": "code",
   "execution_count": null,
   "id": "e1a0ed9c",
   "metadata": {},
   "outputs": [],
   "source": []
  }
 ],
 "metadata": {
  "kernelspec": {
   "display_name": "Python 3 (ipykernel)",
   "language": "python",
   "name": "python3"
  },
  "language_info": {
   "codemirror_mode": {
    "name": "ipython",
    "version": 3
   },
   "file_extension": ".py",
   "mimetype": "text/x-python",
   "name": "python",
   "nbconvert_exporter": "python",
   "pygments_lexer": "ipython3",
   "version": "3.10.9"
  }
 },
 "nbformat": 4,
 "nbformat_minor": 5
}
