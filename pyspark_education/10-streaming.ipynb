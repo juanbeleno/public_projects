{
 "cells": [
  {
   "cell_type": "markdown",
   "id": "cf8750c4",
   "metadata": {},
   "source": [
    "# Spark Streaming Fundamentals"
   ]
  },
  {
   "cell_type": "code",
   "execution_count": null,
   "id": "6e7d04ce",
   "metadata": {},
   "outputs": [],
   "source": [
    "import findspark\n",
    "findspark.init()"
   ]
  },
  {
   "cell_type": "markdown",
   "id": "b3830c45",
   "metadata": {},
   "source": [
    "Let's imagine that we want to process a set of streaming data that comes to us in JSON format. We want to count the number of events per action type."
   ]
  },
  {
   "attachments": {
    "Captura.PNG": {
     "image/png": "[encoded data removed]"
    }
   },
   "cell_type": "markdown",
   "id": "4a2f2f33",
   "metadata": {},
   "source": [
    "![Captura.PNG](attachment:Captura.PNG)"
   ]
  },
  {
   "cell_type": "code",
   "execution_count": null,
   "id": "bfcc1328",
   "metadata": {},
   "outputs": [],
   "source": [
    "from pyspark.sql.functions import *\n",
    "\n",
    "streamingInputDF = (\n",
    "  spark\n",
    "    .readStream                       \n",
    "    .schema(jsonSchema)               # Set the schema of the JSON data\n",
    "    .option(\"maxFilesPerTrigger\", 1)  # Treat a sequence of files as a stream by picking one file at a time\n",
    "    .json(inputPath)\n",
    ")\n"
   ]
  },
  {
   "cell_type": "code",
   "execution_count": null,
   "id": "04a1d03a",
   "metadata": {},
   "outputs": [],
   "source": [
    "streamingCountsDF = (                 \n",
    "  streamingInputDF\n",
    "    .groupBy(\n",
    "      streamingInputDF.action, \n",
    "      window(streamingInputDF.time, \"1 hour\"))\n",
    "    .count()\n",
    ")\n"
   ]
  },
  {
   "cell_type": "code",
   "execution_count": null,
   "id": "436c5227",
   "metadata": {},
   "outputs": [],
   "source": [
    "# Is this DF actually a streaming DF?\n",
    "streamingCountsDF.isStreaming"
   ]
  },
  {
   "cell_type": "markdown",
   "id": "48f3870b",
   "metadata": {},
   "source": [
    "streamingCountsDF is a streaming Dataframe. We can start applying the calculus by defining the output of the results. In our case, we want to query for counts so we'll set the entire 1-hour set of counts to be in an in-memory table."
   ]
  },
  {
   "cell_type": "code",
   "execution_count": null,
   "id": "98308ee3",
   "metadata": {},
   "outputs": [],
   "source": [
    "query = (\n",
    "  streamingCountsDF\n",
    "    .writeStream\n",
    "    .format(\"memory\")        # memory = store in-memory table \n",
    "    .queryName(\"counts\")     # counts = name of the in-memory table\n",
    "    .ouputMode(\"complete\") \n",
    "    .start()\n",
    ")  # complete = all the counts should be in the table\n",
    "   \n"
   ]
  },
  {
   "cell_type": "code",
   "execution_count": null,
   "id": "8af0b156",
   "metadata": {},
   "outputs": [],
   "source": []
  }
 ],
 "metadata": {
  "kernelspec": {
   "display_name": "Python 3 (ipykernel)",
   "language": "python",
   "name": "python3"
  },
  "language_info": {
   "codemirror_mode": {
    "name": "ipython",
    "version": 3
   },
   "file_extension": ".py",
   "mimetype": "text/x-python",
   "name": "python",
   "nbconvert_exporter": "python",
   "pygments_lexer": "ipython3",
   "version": "3.8.12"
  }
 },
 "nbformat": 4,
 "nbformat_minor": 5
}
