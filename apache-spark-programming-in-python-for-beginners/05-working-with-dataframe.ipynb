{
 "cells": [
  {
   "cell_type": "code",
   "execution_count": 0,
   "metadata": {
    "application/vnd.databricks.v1+cell": {
     "cellMetadata": {
      "byteLimit": 2048000,
      "rowLimit": 10000
     },
     "inputWidgets": {},
     "nuid": "6a7dfa53-2d9d-4b0c-a487-29318f7ab4dd",
     "showTitle": false,
     "title": ""
    }
   },
   "outputs": [],
   "source": [
    "from pyspark.sql.functions import to_date, to_timestamp, round, col"
   ]
  },
  {
   "cell_type": "code",
   "execution_count": 0,
   "metadata": {
    "application/vnd.databricks.v1+cell": {
     "cellMetadata": {
      "byteLimit": 2048000,
      "rowLimit": 10000
     },
     "inputWidgets": {},
     "nuid": "896e8d68-85aa-48f2-8e6f-5b190bfdd870",
     "showTitle": false,
     "title": ""
    }
   },
   "outputs": [],
   "source": [
    "# Loading a DataFrame using the format method\n",
    "# This is preferred because this is the standard format to load data from any format\n",
    "# Actions: start a spark job\n",
    "raw_fire_df = spark.read \\\n",
    "            .format(\"csv\") \\\n",
    "            .option(\"header\", \"true\") \\\n",
    "            .option(\"inferSchema\", \"true\") \\\n",
    "            .load(\"/databricks-datasets/learning-spark-v2/sf-fire/sf-fire-calls.csv\")"
   ]
  },
  {
   "cell_type": "code",
   "execution_count": 0,
   "metadata": {
    "application/vnd.databricks.v1+cell": {
     "cellMetadata": {
      "byteLimit": 2048000,
      "rowLimit": 10000
     },
     "inputWidgets": {},
     "nuid": "6c171fad-bbb9-4246-92b9-7db4ff2cd6dd",
     "showTitle": false,
     "title": ""
    }
   },
   "outputs": [
    {
     "output_type": "display_data",
     "data": {
      "text/html": [
       "<style scoped>\n",
       "  .table-result-container {\n",
       "    max-height: 300px;\n",
       "    overflow: auto;\n",
       "  }\n",
       "  table, th, td {\n",
       "    border: 1px solid black;\n",
       "    border-collapse: collapse;\n",
       "  }\n",
       "  th, td {\n",
       "    padding: 5px;\n",
       "  }\n",
       "  th {\n",
       "    text-align: left;\n",
       "  }\n",
       "</style><div class='table-result-container'><table class='table-result'><thead style='background-color: white'><tr><th>Call Number</th><th>Unit ID</th><th>Incident Number</th><th>CallType</th><th>Call Date</th><th>Watch Date</th><th>Call Final Disposition</th><th>Available DtTm</th><th>Address</th><th>City</th><th>Zipcode of Incident</th><th>Battalion</th><th>Station Area</th><th>Box</th><th>OrigPriority</th><th>Priority</th><th>Final Priority</th><th>ALS Unit</th><th>Call Type Group</th><th>NumAlarms</th><th>UnitType</th><th>Unit sequence in call dispatch</th><th>Fire Prevention District</th><th>Supervisor District</th><th>Neighborhood</th><th>Location</th><th>RowID</th><th>Delay</th></tr></thead><tbody><tr><td>20110014</td><td>M29</td><td>2003234</td><td>Medical Incident</td><td>2002-01-11</td><td>2002-01-10</td><td>Other</td><td>01/11/2002 01:58:43 AM</td><td>10TH ST/MARKET ST</td><td>SF</td><td>94103</td><td>B02</td><td>36</td><td>2338</td><td>1</td><td>1</td><td>2</td><td>true</td><td>null</td><td>1</td><td>MEDIC</td><td>1</td><td>2</td><td>6</td><td>Tenderloin</td><td>(37.7765408927183, -122.417501464907)</td><td>020110014-M29</td><td>5.233333333333333</td></tr><tr><td>20110015</td><td>M08</td><td>2003233</td><td>Medical Incident</td><td>2002-01-11</td><td>2002-01-10</td><td>Other</td><td>01/11/2002 02:10:17 AM</td><td>300 Block of 5TH ST</td><td>SF</td><td>94107</td><td>B03</td><td>08</td><td>2243</td><td>1</td><td>1</td><td>2</td><td>true</td><td>null</td><td>1</td><td>MEDIC</td><td>1</td><td>3</td><td>6</td><td>South of Market</td><td>(37.7792841462441, -122.402061300134)</td><td>020110015-M08</td><td>3.0833333333333335</td></tr><tr><td>20110016</td><td>B02</td><td>2003235</td><td>Structure Fire</td><td>2002-01-11</td><td>2002-01-10</td><td>Other</td><td>01/11/2002 01:47:00 AM</td><td>2000 Block of CALIFORNIA ST</td><td>SF</td><td>94109</td><td>B04</td><td>38</td><td>3362</td><td>3</td><td>3</td><td>3</td><td>false</td><td>null</td><td>1</td><td>CHIEF</td><td>6</td><td>4</td><td>5</td><td>Pacific Heights</td><td>(37.7895840679362, -122.428071912459)</td><td>020110016-B02</td><td>3.05</td></tr><tr><td>20110016</td><td>B04</td><td>2003235</td><td>Structure Fire</td><td>2002-01-11</td><td>2002-01-10</td><td>Other</td><td>01/11/2002 01:51:54 AM</td><td>2000 Block of CALIFORNIA ST</td><td>SF</td><td>94109</td><td>B04</td><td>38</td><td>3362</td><td>3</td><td>3</td><td>3</td><td>false</td><td>null</td><td>1</td><td>CHIEF</td><td>3</td><td>4</td><td>5</td><td>Pacific Heights</td><td>(37.7895840679362, -122.428071912459)</td><td>020110016-B04</td><td>2.316666666666667</td></tr><tr><td>20110016</td><td>D2</td><td>2003235</td><td>Structure Fire</td><td>2002-01-11</td><td>2002-01-10</td><td>Other</td><td>01/11/2002 01:47:00 AM</td><td>2000 Block of CALIFORNIA ST</td><td>SF</td><td>94109</td><td>B04</td><td>38</td><td>3362</td><td>3</td><td>3</td><td>3</td><td>false</td><td>null</td><td>1</td><td>CHIEF</td><td>4</td><td>4</td><td>5</td><td>Pacific Heights</td><td>(37.7895840679362, -122.428071912459)</td><td>020110016-D2</td><td>3.0166666666666666</td></tr><tr><td>20110016</td><td>E03</td><td>2003235</td><td>Structure Fire</td><td>2002-01-11</td><td>2002-01-10</td><td>Other</td><td>01/11/2002 01:47:00 AM</td><td>2000 Block of CALIFORNIA ST</td><td>SF</td><td>94109</td><td>B04</td><td>38</td><td>3362</td><td>3</td><td>3</td><td>3</td><td>false</td><td>null</td><td>1</td><td>ENGINE</td><td>7</td><td>4</td><td>5</td><td>Pacific Heights</td><td>(37.7895840679362, -122.428071912459)</td><td>020110016-E03</td><td>2.683333333333333</td></tr><tr><td>20110016</td><td>E38</td><td>2003235</td><td>Structure Fire</td><td>2002-01-11</td><td>2002-01-10</td><td>Other</td><td>01/11/2002 01:51:17 AM</td><td>2000 Block of CALIFORNIA ST</td><td>SF</td><td>94109</td><td>B04</td><td>38</td><td>3362</td><td>3</td><td>3</td><td>3</td><td>false</td><td>null</td><td>1</td><td>ENGINE</td><td>1</td><td>4</td><td>5</td><td>Pacific Heights</td><td>(37.7895840679362, -122.428071912459)</td><td>020110016-E38</td><td>2.1</td></tr><tr><td>20110016</td><td>E41</td><td>2003235</td><td>Structure Fire</td><td>2002-01-11</td><td>2002-01-10</td><td>Other</td><td>01/11/2002 01:47:00 AM</td><td>2000 Block of CALIFORNIA ST</td><td>SF</td><td>94109</td><td>B04</td><td>38</td><td>3362</td><td>3</td><td>3</td><td>3</td><td>false</td><td>null</td><td>1</td><td>ENGINE</td><td>8</td><td>4</td><td>5</td><td>Pacific Heights</td><td>(37.7895840679362, -122.428071912459)</td><td>020110016-E41</td><td>2.716666666666667</td></tr><tr><td>20110016</td><td>M03</td><td>2003235</td><td>Structure Fire</td><td>2002-01-11</td><td>2002-01-10</td><td>Other</td><td>01/11/2002 01:46:38 AM</td><td>2000 Block of CALIFORNIA ST</td><td>SF</td><td>94109</td><td>B04</td><td>38</td><td>3362</td><td>3</td><td>3</td><td>3</td><td>true</td><td>null</td><td>1</td><td>MEDIC</td><td>10</td><td>4</td><td>5</td><td>Pacific Heights</td><td>(37.7895840679362, -122.428071912459)</td><td>020110016-M03</td><td>2.7666666666666666</td></tr><tr><td>20110016</td><td>RS1</td><td>2003235</td><td>Structure Fire</td><td>2002-01-11</td><td>2002-01-10</td><td>Other</td><td>01/11/2002 01:46:57 AM</td><td>2000 Block of CALIFORNIA ST</td><td>SF</td><td>94109</td><td>B04</td><td>38</td><td>3362</td><td>3</td><td>3</td><td>3</td><td>false</td><td>null</td><td>1</td><td>RESCUE SQUAD</td><td>9</td><td>4</td><td>5</td><td>Pacific Heights</td><td>(37.7895840679362, -122.428071912459)</td><td>020110016-RS1</td><td>3.2666666666666666</td></tr></tbody></table></div>"
      ]
     },
     "metadata": {
      "application/vnd.databricks.v1+output": {
       "addedWidgets": {},
       "aggData": [],
       "aggError": "",
       "aggOverflow": false,
       "aggSchema": [],
       "aggSeriesLimitReached": false,
       "aggType": "",
       "arguments": {},
       "columnCustomDisplayInfos": {},
       "data": [
        [
         20110014,
         "M29",
         2003234,
         "Medical Incident",
         "2002-01-11",
         "2002-01-10",
         "Other",
         "01/11/2002 01:58:43 AM",
         "10TH ST/MARKET ST",
         "SF",
         94103,
         "B02",
         "36",
         "2338",
         "1",
         "1",
         2,
         true,
         null,
         1,
         "MEDIC",
         1,
         "2",
         "6",
         "Tenderloin",
         "(37.7765408927183, -122.417501464907)",
         "020110014-M29",
         5.233333333333333
        ],
        [
         20110015,
         "M08",
         2003233,
         "Medical Incident",
         "2002-01-11",
         "2002-01-10",
         "Other",
         "01/11/2002 02:10:17 AM",
         "300 Block of 5TH ST",
         "SF",
         94107,
         "B03",
         "08",
         "2243",
         "1",
         "1",
         2,
         true,
         null,
         1,
         "MEDIC",
         1,
         "3",
         "6",
         "South of Market",
         "(37.7792841462441, -122.402061300134)",
         "020110015-M08",
         3.0833333333333335
        ],
        [
         20110016,
         "B02",
         2003235,
         "Structure Fire",
         "2002-01-11",
         "2002-01-10",
         "Other",
         "01/11/2002 01:47:00 AM",
         "2000 Block of CALIFORNIA ST",
         "SF",
         94109,
         "B04",
         "38",
         "3362",
         "3",
         "3",
         3,
         false,
         null,
         1,
         "CHIEF",
         6,
         "4",
         "5",
         "Pacific Heights",
         "(37.7895840679362, -122.428071912459)",
         "020110016-B02",
         3.05
        ],
        [
         20110016,
         "B04",
         2003235,
         "Structure Fire",
         "2002-01-11",
         "2002-01-10",
         "Other",
         "01/11/2002 01:51:54 AM",
         "2000 Block of CALIFORNIA ST",
         "SF",
         94109,
         "B04",
         "38",
         "3362",
         "3",
         "3",
         3,
         false,
         null,
         1,
         "CHIEF",
         3,
         "4",
         "5",
         "Pacific Heights",
         "(37.7895840679362, -122.428071912459)",
         "020110016-B04",
         2.316666666666667
        ],
        [
         20110016,
         "D2",
         2003235,
         "Structure Fire",
         "2002-01-11",
         "2002-01-10",
         "Other",
         "01/11/2002 01:47:00 AM",
         "2000 Block of CALIFORNIA ST",
         "SF",
         94109,
         "B04",
         "38",
         "3362",
         "3",
         "3",
         3,
         false,
         null,
         1,
         "CHIEF",
         4,
         "4",
         "5",
         "Pacific Heights",
         "(37.7895840679362, -122.428071912459)",
         "020110016-D2",
         3.0166666666666666
        ],
        [
         20110016,
         "E03",
         2003235,
         "Structure Fire",
         "2002-01-11",
         "2002-01-10",
         "Other",
         "01/11/2002 01:47:00 AM",
         "2000 Block of CALIFORNIA ST",
         "SF",
         94109,
         "B04",
         "38",
         "3362",
         "3",
         "3",
         3,
         false,
         null,
         1,
         "ENGINE",
         7,
         "4",
         "5",
         "Pacific Heights",
         "(37.7895840679362, -122.428071912459)",
         "020110016-E03",
         2.683333333333333
        ],
        [
         20110016,
         "E38",
         2003235,
         "Structure Fire",
         "2002-01-11",
         "2002-01-10",
         "Other",
         "01/11/2002 01:51:17 AM",
         "2000 Block of CALIFORNIA ST",
         "SF",
         94109,
         "B04",
         "38",
         "3362",
         "3",
         "3",
         3,
         false,
         null,
         1,
         "ENGINE",
         1,
         "4",
         "5",
         "Pacific Heights",
         "(37.7895840679362, -122.428071912459)",
         "020110016-E38",
         2.1
        ],
        [
         20110016,
         "E41",
         2003235,
         "Structure Fire",
         "2002-01-11",
         "2002-01-10",
         "Other",
         "01/11/2002 01:47:00 AM",
         "2000 Block of CALIFORNIA ST",
         "SF",
         94109,
         "B04",
         "38",
         "3362",
         "3",
         "3",
         3,
         false,
         null,
         1,
         "ENGINE",
         8,
         "4",
         "5",
         "Pacific Heights",
         "(37.7895840679362, -122.428071912459)",
         "020110016-E41",
         2.716666666666667
        ],
        [
         20110016,
         "M03",
         2003235,
         "Structure Fire",
         "2002-01-11",
         "2002-01-10",
         "Other",
         "01/11/2002 01:46:38 AM",
         "2000 Block of CALIFORNIA ST",
         "SF",
         94109,
         "B04",
         "38",
         "3362",
         "3",
         "3",
         3,
         true,
         null,
         1,
         "MEDIC",
         10,
         "4",
         "5",
         "Pacific Heights",
         "(37.7895840679362, -122.428071912459)",
         "020110016-M03",
         2.7666666666666666
        ],
        [
         20110016,
         "RS1",
         2003235,
         "Structure Fire",
         "2002-01-11",
         "2002-01-10",
         "Other",
         "01/11/2002 01:46:57 AM",
         "2000 Block of CALIFORNIA ST",
         "SF",
         94109,
         "B04",
         "38",
         "3362",
         "3",
         "3",
         3,
         false,
         null,
         1,
         "RESCUE SQUAD",
         9,
         "4",
         "5",
         "Pacific Heights",
         "(37.7895840679362, -122.428071912459)",
         "020110016-RS1",
         3.2666666666666666
        ]
       ],
       "datasetInfos": [],
       "dbfsResultPath": null,
       "isJsonSchema": true,
       "metadata": {},
       "overflow": false,
       "plotOptions": {
        "customPlotOptions": {},
        "displayType": "table",
        "pivotAggregation": null,
        "pivotColumns": null,
        "xColumns": null,
        "yColumns": null
       },
       "removedWidgets": [],
       "schema": [
        {
         "metadata": "{}",
         "name": "Call Number",
         "type": "\"integer\""
        },
        {
         "metadata": "{}",
         "name": "Unit ID",
         "type": "\"string\""
        },
        {
         "metadata": "{}",
         "name": "Incident Number",
         "type": "\"integer\""
        },
        {
         "metadata": "{}",
         "name": "CallType",
         "type": "\"string\""
        },
        {
         "metadata": "{\"__detected_date_formats\":\"M/d/yyyy\"}",
         "name": "Call Date",
         "type": "\"date\""
        },
        {
         "metadata": "{\"__detected_date_formats\":\"M/d/yyyy\"}",
         "name": "Watch Date",
         "type": "\"date\""
        },
        {
         "metadata": "{}",
         "name": "Call Final Disposition",
         "type": "\"string\""
        },
        {
         "metadata": "{}",
         "name": "Available DtTm",
         "type": "\"string\""
        },
        {
         "metadata": "{}",
         "name": "Address",
         "type": "\"string\""
        },
        {
         "metadata": "{}",
         "name": "City",
         "type": "\"string\""
        },
        {
         "metadata": "{}",
         "name": "Zipcode of Incident",
         "type": "\"integer\""
        },
        {
         "metadata": "{}",
         "name": "Battalion",
         "type": "\"string\""
        },
        {
         "metadata": "{}",
         "name": "Station Area",
         "type": "\"string\""
        },
        {
         "metadata": "{}",
         "name": "Box",
         "type": "\"string\""
        },
        {
         "metadata": "{}",
         "name": "OrigPriority",
         "type": "\"string\""
        },
        {
         "metadata": "{}",
         "name": "Priority",
         "type": "\"string\""
        },
        {
         "metadata": "{}",
         "name": "Final Priority",
         "type": "\"integer\""
        },
        {
         "metadata": "{}",
         "name": "ALS Unit",
         "type": "\"boolean\""
        },
        {
         "metadata": "{}",
         "name": "Call Type Group",
         "type": "\"string\""
        },
        {
         "metadata": "{}",
         "name": "NumAlarms",
         "type": "\"integer\""
        },
        {
         "metadata": "{}",
         "name": "UnitType",
         "type": "\"string\""
        },
        {
         "metadata": "{}",
         "name": "Unit sequence in call dispatch",
         "type": "\"integer\""
        },
        {
         "metadata": "{}",
         "name": "Fire Prevention District",
         "type": "\"string\""
        },
        {
         "metadata": "{}",
         "name": "Supervisor District",
         "type": "\"string\""
        },
        {
         "metadata": "{}",
         "name": "Neighborhood",
         "type": "\"string\""
        },
        {
         "metadata": "{}",
         "name": "Location",
         "type": "\"string\""
        },
        {
         "metadata": "{}",
         "name": "RowID",
         "type": "\"string\""
        },
        {
         "metadata": "{}",
         "name": "Delay",
         "type": "\"double\""
        }
       ],
       "type": "table"
      }
     },
     "output_type": "display_data"
    }
   ],
   "source": [
    "# There are two problems with this DataFrame:\n",
    "# 1. Column names are not standardized (Whitespaces)\n",
    "# 2. Data fields are of string type\n",
    "display(raw_fire_df.limit(10))"
   ]
  },
  {
   "cell_type": "code",
   "execution_count": 0,
   "metadata": {
    "application/vnd.databricks.v1+cell": {
     "cellMetadata": {
      "byteLimit": 2048000,
      "rowLimit": 10000
     },
     "inputWidgets": {},
     "nuid": "544b9fd0-889a-495a-901e-6bf2319695fe",
     "showTitle": false,
     "title": ""
    }
   },
   "outputs": [],
   "source": [
    "# Transformation: modify the DataFrame without activating a spark job -- e.g., withColumnRenamed\n",
    "# Spark DataFrames are immutable, so we need to transform an existing DataFrame and asign it to a new DataFrame\n",
    "renamed_fire_df = raw_fire_df \\\n",
    "                    .withColumnRenamed(\"Call Number\", \"CallNumber\") \\\n",
    "                    .withColumnRenamed(\"Unit ID\", \"UnitID\") \\\n",
    "                    .withColumnRenamed(\"Incident Number\", \"IncidentNumber\") \\\n",
    "                    .withColumnRenamed(\"Call Date\", \"CallDate\") \\\n",
    "                    .withColumnRenamed(\"Watch Date\", \"WatchDate\") \\\n",
    "                    .withColumnRenamed(\"Call Final Disposition\", \"CallFinalDisposition\") \\\n",
    "                    .withColumnRenamed(\"Available DtTm\", \"AvailableDtTm\") \\\n",
    "                    .withColumnRenamed(\"Zipcode of Incident\", \"Zipcode\") \\\n",
    "                    .withColumnRenamed(\"Station Area\", \"StationArea\") \\\n",
    "                    .withColumnRenamed(\"Final Priority\", \"FinalPriority\") \\\n",
    "                    .withColumnRenamed(\"ALS Unit\", \"ALSUnit\") \\\n",
    "                    .withColumnRenamed(\"Call Type Group\", \"CallTypeGroup\") \\\n",
    "                    .withColumnRenamed(\"Unit sequence in call dispatch\", \"UnitSequenceInCallDispatch\") \\\n",
    "                    .withColumnRenamed(\"Fire Prevention District\", \"FirePreventionDistrict\") \\\n",
    "                    .withColumnRenamed(\"Supervisor District\", \"SupervisorDistrict\")"
   ]
  },
  {
   "cell_type": "code",
   "execution_count": 0,
   "metadata": {
    "application/vnd.databricks.v1+cell": {
     "cellMetadata": {
      "byteLimit": 2048000,
      "rowLimit": 10000
     },
     "inputWidgets": {},
     "nuid": "9558c2aa-49cc-4328-852c-3168e328f39a",
     "showTitle": false,
     "title": ""
    }
   },
   "outputs": [
    {
     "output_type": "display_data",
     "data": {
      "text/html": [
       "<style scoped>\n",
       "  .table-result-container {\n",
       "    max-height: 300px;\n",
       "    overflow: auto;\n",
       "  }\n",
       "  table, th, td {\n",
       "    border: 1px solid black;\n",
       "    border-collapse: collapse;\n",
       "  }\n",
       "  th, td {\n",
       "    padding: 5px;\n",
       "  }\n",
       "  th {\n",
       "    text-align: left;\n",
       "  }\n",
       "</style><div class='table-result-container'><table class='table-result'><thead style='background-color: white'><tr><th>CallNumber</th><th>UnitID</th><th>IncidentNumber</th><th>CallType</th><th>CallDate</th><th>WatchDate</th><th>CallFinalDisposition</th><th>AvailableDtTm</th><th>Address</th><th>City</th><th>Zipcode</th><th>Battalion</th><th>StationArea</th><th>Box</th><th>OrigPriority</th><th>Priority</th><th>FinalPriority</th><th>ALSUnit</th><th>CallTypeGroup</th><th>NumAlarms</th><th>UnitType</th><th>UnitSequenceInCallDispatch</th><th>FirePreventionDistrict</th><th>SupervisorDistrict</th><th>Neighborhood</th><th>Location</th><th>RowID</th><th>Delay</th></tr></thead><tbody><tr><td>20110014</td><td>M29</td><td>2003234</td><td>Medical Incident</td><td>2002-01-11</td><td>2002-01-10</td><td>Other</td><td>01/11/2002 01:58:43 AM</td><td>10TH ST/MARKET ST</td><td>SF</td><td>94103</td><td>B02</td><td>36</td><td>2338</td><td>1</td><td>1</td><td>2</td><td>true</td><td>null</td><td>1</td><td>MEDIC</td><td>1</td><td>2</td><td>6</td><td>Tenderloin</td><td>(37.7765408927183, -122.417501464907)</td><td>020110014-M29</td><td>5.233333333333333</td></tr><tr><td>20110015</td><td>M08</td><td>2003233</td><td>Medical Incident</td><td>2002-01-11</td><td>2002-01-10</td><td>Other</td><td>01/11/2002 02:10:17 AM</td><td>300 Block of 5TH ST</td><td>SF</td><td>94107</td><td>B03</td><td>08</td><td>2243</td><td>1</td><td>1</td><td>2</td><td>true</td><td>null</td><td>1</td><td>MEDIC</td><td>1</td><td>3</td><td>6</td><td>South of Market</td><td>(37.7792841462441, -122.402061300134)</td><td>020110015-M08</td><td>3.0833333333333335</td></tr><tr><td>20110016</td><td>B02</td><td>2003235</td><td>Structure Fire</td><td>2002-01-11</td><td>2002-01-10</td><td>Other</td><td>01/11/2002 01:47:00 AM</td><td>2000 Block of CALIFORNIA ST</td><td>SF</td><td>94109</td><td>B04</td><td>38</td><td>3362</td><td>3</td><td>3</td><td>3</td><td>false</td><td>null</td><td>1</td><td>CHIEF</td><td>6</td><td>4</td><td>5</td><td>Pacific Heights</td><td>(37.7895840679362, -122.428071912459)</td><td>020110016-B02</td><td>3.05</td></tr><tr><td>20110016</td><td>B04</td><td>2003235</td><td>Structure Fire</td><td>2002-01-11</td><td>2002-01-10</td><td>Other</td><td>01/11/2002 01:51:54 AM</td><td>2000 Block of CALIFORNIA ST</td><td>SF</td><td>94109</td><td>B04</td><td>38</td><td>3362</td><td>3</td><td>3</td><td>3</td><td>false</td><td>null</td><td>1</td><td>CHIEF</td><td>3</td><td>4</td><td>5</td><td>Pacific Heights</td><td>(37.7895840679362, -122.428071912459)</td><td>020110016-B04</td><td>2.316666666666667</td></tr><tr><td>20110016</td><td>D2</td><td>2003235</td><td>Structure Fire</td><td>2002-01-11</td><td>2002-01-10</td><td>Other</td><td>01/11/2002 01:47:00 AM</td><td>2000 Block of CALIFORNIA ST</td><td>SF</td><td>94109</td><td>B04</td><td>38</td><td>3362</td><td>3</td><td>3</td><td>3</td><td>false</td><td>null</td><td>1</td><td>CHIEF</td><td>4</td><td>4</td><td>5</td><td>Pacific Heights</td><td>(37.7895840679362, -122.428071912459)</td><td>020110016-D2</td><td>3.0166666666666666</td></tr><tr><td>20110016</td><td>E03</td><td>2003235</td><td>Structure Fire</td><td>2002-01-11</td><td>2002-01-10</td><td>Other</td><td>01/11/2002 01:47:00 AM</td><td>2000 Block of CALIFORNIA ST</td><td>SF</td><td>94109</td><td>B04</td><td>38</td><td>3362</td><td>3</td><td>3</td><td>3</td><td>false</td><td>null</td><td>1</td><td>ENGINE</td><td>7</td><td>4</td><td>5</td><td>Pacific Heights</td><td>(37.7895840679362, -122.428071912459)</td><td>020110016-E03</td><td>2.683333333333333</td></tr><tr><td>20110016</td><td>E38</td><td>2003235</td><td>Structure Fire</td><td>2002-01-11</td><td>2002-01-10</td><td>Other</td><td>01/11/2002 01:51:17 AM</td><td>2000 Block of CALIFORNIA ST</td><td>SF</td><td>94109</td><td>B04</td><td>38</td><td>3362</td><td>3</td><td>3</td><td>3</td><td>false</td><td>null</td><td>1</td><td>ENGINE</td><td>1</td><td>4</td><td>5</td><td>Pacific Heights</td><td>(37.7895840679362, -122.428071912459)</td><td>020110016-E38</td><td>2.1</td></tr><tr><td>20110016</td><td>E41</td><td>2003235</td><td>Structure Fire</td><td>2002-01-11</td><td>2002-01-10</td><td>Other</td><td>01/11/2002 01:47:00 AM</td><td>2000 Block of CALIFORNIA ST</td><td>SF</td><td>94109</td><td>B04</td><td>38</td><td>3362</td><td>3</td><td>3</td><td>3</td><td>false</td><td>null</td><td>1</td><td>ENGINE</td><td>8</td><td>4</td><td>5</td><td>Pacific Heights</td><td>(37.7895840679362, -122.428071912459)</td><td>020110016-E41</td><td>2.716666666666667</td></tr><tr><td>20110016</td><td>M03</td><td>2003235</td><td>Structure Fire</td><td>2002-01-11</td><td>2002-01-10</td><td>Other</td><td>01/11/2002 01:46:38 AM</td><td>2000 Block of CALIFORNIA ST</td><td>SF</td><td>94109</td><td>B04</td><td>38</td><td>3362</td><td>3</td><td>3</td><td>3</td><td>true</td><td>null</td><td>1</td><td>MEDIC</td><td>10</td><td>4</td><td>5</td><td>Pacific Heights</td><td>(37.7895840679362, -122.428071912459)</td><td>020110016-M03</td><td>2.7666666666666666</td></tr><tr><td>20110016</td><td>RS1</td><td>2003235</td><td>Structure Fire</td><td>2002-01-11</td><td>2002-01-10</td><td>Other</td><td>01/11/2002 01:46:57 AM</td><td>2000 Block of CALIFORNIA ST</td><td>SF</td><td>94109</td><td>B04</td><td>38</td><td>3362</td><td>3</td><td>3</td><td>3</td><td>false</td><td>null</td><td>1</td><td>RESCUE SQUAD</td><td>9</td><td>4</td><td>5</td><td>Pacific Heights</td><td>(37.7895840679362, -122.428071912459)</td><td>020110016-RS1</td><td>3.2666666666666666</td></tr></tbody></table></div>"
      ]
     },
     "metadata": {
      "application/vnd.databricks.v1+output": {
       "addedWidgets": {},
       "aggData": [],
       "aggError": "",
       "aggOverflow": false,
       "aggSchema": [],
       "aggSeriesLimitReached": false,
       "aggType": "",
       "arguments": {},
       "columnCustomDisplayInfos": {},
       "data": [
        [
         20110014,
         "M29",
         2003234,
         "Medical Incident",
         "2002-01-11",
         "2002-01-10",
         "Other",
         "01/11/2002 01:58:43 AM",
         "10TH ST/MARKET ST",
         "SF",
         94103,
         "B02",
         "36",
         "2338",
         "1",
         "1",
         2,
         true,
         null,
         1,
         "MEDIC",
         1,
         "2",
         "6",
         "Tenderloin",
         "(37.7765408927183, -122.417501464907)",
         "020110014-M29",
         5.233333333333333
        ],
        [
         20110015,
         "M08",
         2003233,
         "Medical Incident",
         "2002-01-11",
         "2002-01-10",
         "Other",
         "01/11/2002 02:10:17 AM",
         "300 Block of 5TH ST",
         "SF",
         94107,
         "B03",
         "08",
         "2243",
         "1",
         "1",
         2,
         true,
         null,
         1,
         "MEDIC",
         1,
         "3",
         "6",
         "South of Market",
         "(37.7792841462441, -122.402061300134)",
         "020110015-M08",
         3.0833333333333335
        ],
        [
         20110016,
         "B02",
         2003235,
         "Structure Fire",
         "2002-01-11",
         "2002-01-10",
         "Other",
         "01/11/2002 01:47:00 AM",
         "2000 Block of CALIFORNIA ST",
         "SF",
         94109,
         "B04",
         "38",
         "3362",
         "3",
         "3",
         3,
         false,
         null,
         1,
         "CHIEF",
         6,
         "4",
         "5",
         "Pacific Heights",
         "(37.7895840679362, -122.428071912459)",
         "020110016-B02",
         3.05
        ],
        [
         20110016,
         "B04",
         2003235,
         "Structure Fire",
         "2002-01-11",
         "2002-01-10",
         "Other",
         "01/11/2002 01:51:54 AM",
         "2000 Block of CALIFORNIA ST",
         "SF",
         94109,
         "B04",
         "38",
         "3362",
         "3",
         "3",
         3,
         false,
         null,
         1,
         "CHIEF",
         3,
         "4",
         "5",
         "Pacific Heights",
         "(37.7895840679362, -122.428071912459)",
         "020110016-B04",
         2.316666666666667
        ],
        [
         20110016,
         "D2",
         2003235,
         "Structure Fire",
         "2002-01-11",
         "2002-01-10",
         "Other",
         "01/11/2002 01:47:00 AM",
         "2000 Block of CALIFORNIA ST",
         "SF",
         94109,
         "B04",
         "38",
         "3362",
         "3",
         "3",
         3,
         false,
         null,
         1,
         "CHIEF",
         4,
         "4",
         "5",
         "Pacific Heights",
         "(37.7895840679362, -122.428071912459)",
         "020110016-D2",
         3.0166666666666666
        ],
        [
         20110016,
         "E03",
         2003235,
         "Structure Fire",
         "2002-01-11",
         "2002-01-10",
         "Other",
         "01/11/2002 01:47:00 AM",
         "2000 Block of CALIFORNIA ST",
         "SF",
         94109,
         "B04",
         "38",
         "3362",
         "3",
         "3",
         3,
         false,
         null,
         1,
         "ENGINE",
         7,
         "4",
         "5",
         "Pacific Heights",
         "(37.7895840679362, -122.428071912459)",
         "020110016-E03",
         2.683333333333333
        ],
        [
         20110016,
         "E38",
         2003235,
         "Structure Fire",
         "2002-01-11",
         "2002-01-10",
         "Other",
         "01/11/2002 01:51:17 AM",
         "2000 Block of CALIFORNIA ST",
         "SF",
         94109,
         "B04",
         "38",
         "3362",
         "3",
         "3",
         3,
         false,
         null,
         1,
         "ENGINE",
         1,
         "4",
         "5",
         "Pacific Heights",
         "(37.7895840679362, -122.428071912459)",
         "020110016-E38",
         2.1
        ],
        [
         20110016,
         "E41",
         2003235,
         "Structure Fire",
         "2002-01-11",
         "2002-01-10",
         "Other",
         "01/11/2002 01:47:00 AM",
         "2000 Block of CALIFORNIA ST",
         "SF",
         94109,
         "B04",
         "38",
         "3362",
         "3",
         "3",
         3,
         false,
         null,
         1,
         "ENGINE",
         8,
         "4",
         "5",
         "Pacific Heights",
         "(37.7895840679362, -122.428071912459)",
         "020110016-E41",
         2.716666666666667
        ],
        [
         20110016,
         "M03",
         2003235,
         "Structure Fire",
         "2002-01-11",
         "2002-01-10",
         "Other",
         "01/11/2002 01:46:38 AM",
         "2000 Block of CALIFORNIA ST",
         "SF",
         94109,
         "B04",
         "38",
         "3362",
         "3",
         "3",
         3,
         true,
         null,
         1,
         "MEDIC",
         10,
         "4",
         "5",
         "Pacific Heights",
         "(37.7895840679362, -122.428071912459)",
         "020110016-M03",
         2.7666666666666666
        ],
        [
         20110016,
         "RS1",
         2003235,
         "Structure Fire",
         "2002-01-11",
         "2002-01-10",
         "Other",
         "01/11/2002 01:46:57 AM",
         "2000 Block of CALIFORNIA ST",
         "SF",
         94109,
         "B04",
         "38",
         "3362",
         "3",
         "3",
         3,
         false,
         null,
         1,
         "RESCUE SQUAD",
         9,
         "4",
         "5",
         "Pacific Heights",
         "(37.7895840679362, -122.428071912459)",
         "020110016-RS1",
         3.2666666666666666
        ]
       ],
       "datasetInfos": [],
       "dbfsResultPath": null,
       "isJsonSchema": true,
       "metadata": {},
       "overflow": false,
       "plotOptions": {
        "customPlotOptions": {},
        "displayType": "table",
        "pivotAggregation": null,
        "pivotColumns": null,
        "xColumns": null,
        "yColumns": null
       },
       "removedWidgets": [],
       "schema": [
        {
         "metadata": "{}",
         "name": "CallNumber",
         "type": "\"integer\""
        },
        {
         "metadata": "{}",
         "name": "UnitID",
         "type": "\"string\""
        },
        {
         "metadata": "{}",
         "name": "IncidentNumber",
         "type": "\"integer\""
        },
        {
         "metadata": "{}",
         "name": "CallType",
         "type": "\"string\""
        },
        {
         "metadata": "{\"__detected_date_formats\":\"M/d/yyyy\"}",
         "name": "CallDate",
         "type": "\"date\""
        },
        {
         "metadata": "{\"__detected_date_formats\":\"M/d/yyyy\"}",
         "name": "WatchDate",
         "type": "\"date\""
        },
        {
         "metadata": "{}",
         "name": "CallFinalDisposition",
         "type": "\"string\""
        },
        {
         "metadata": "{}",
         "name": "AvailableDtTm",
         "type": "\"string\""
        },
        {
         "metadata": "{}",
         "name": "Address",
         "type": "\"string\""
        },
        {
         "metadata": "{}",
         "name": "City",
         "type": "\"string\""
        },
        {
         "metadata": "{}",
         "name": "Zipcode",
         "type": "\"integer\""
        },
        {
         "metadata": "{}",
         "name": "Battalion",
         "type": "\"string\""
        },
        {
         "metadata": "{}",
         "name": "StationArea",
         "type": "\"string\""
        },
        {
         "metadata": "{}",
         "name": "Box",
         "type": "\"string\""
        },
        {
         "metadata": "{}",
         "name": "OrigPriority",
         "type": "\"string\""
        },
        {
         "metadata": "{}",
         "name": "Priority",
         "type": "\"string\""
        },
        {
         "metadata": "{}",
         "name": "FinalPriority",
         "type": "\"integer\""
        },
        {
         "metadata": "{}",
         "name": "ALSUnit",
         "type": "\"boolean\""
        },
        {
         "metadata": "{}",
         "name": "CallTypeGroup",
         "type": "\"string\""
        },
        {
         "metadata": "{}",
         "name": "NumAlarms",
         "type": "\"integer\""
        },
        {
         "metadata": "{}",
         "name": "UnitType",
         "type": "\"string\""
        },
        {
         "metadata": "{}",
         "name": "UnitSequenceInCallDispatch",
         "type": "\"integer\""
        },
        {
         "metadata": "{}",
         "name": "FirePreventionDistrict",
         "type": "\"string\""
        },
        {
         "metadata": "{}",
         "name": "SupervisorDistrict",
         "type": "\"string\""
        },
        {
         "metadata": "{}",
         "name": "Neighborhood",
         "type": "\"string\""
        },
        {
         "metadata": "{}",
         "name": "Location",
         "type": "\"string\""
        },
        {
         "metadata": "{}",
         "name": "RowID",
         "type": "\"string\""
        },
        {
         "metadata": "{}",
         "name": "Delay",
         "type": "\"double\""
        }
       ],
       "type": "table"
      }
     },
     "output_type": "display_data"
    }
   ],
   "source": [
    "display(renamed_fire_df.limit(10))"
   ]
  },
  {
   "cell_type": "code",
   "execution_count": 0,
   "metadata": {
    "application/vnd.databricks.v1+cell": {
     "cellMetadata": {
      "byteLimit": 2048000,
      "rowLimit": 10000
     },
     "inputWidgets": {},
     "nuid": "3f79e1be-e898-429c-9e77-fee92a377367",
     "showTitle": false,
     "title": ""
    }
   },
   "outputs": [
    {
     "output_type": "stream",
     "name": "stdout",
     "output_type": "stream",
     "text": [
      "root\n |-- CallNumber: integer (nullable = true)\n |-- UnitID: string (nullable = true)\n |-- IncidentNumber: integer (nullable = true)\n |-- CallType: string (nullable = true)\n |-- CallDate: date (nullable = true)\n |-- WatchDate: date (nullable = true)\n |-- CallFinalDisposition: string (nullable = true)\n |-- AvailableDtTm: string (nullable = true)\n |-- Address: string (nullable = true)\n |-- City: string (nullable = true)\n |-- Zipcode: integer (nullable = true)\n |-- Battalion: string (nullable = true)\n |-- StationArea: string (nullable = true)\n |-- Box: string (nullable = true)\n |-- OrigPriority: string (nullable = true)\n |-- Priority: string (nullable = true)\n |-- FinalPriority: integer (nullable = true)\n |-- ALSUnit: boolean (nullable = true)\n |-- CallTypeGroup: string (nullable = true)\n |-- NumAlarms: integer (nullable = true)\n |-- UnitType: string (nullable = true)\n |-- UnitSequenceInCallDispatch: integer (nullable = true)\n |-- FirePreventionDistrict: string (nullable = true)\n |-- SupervisorDistrict: string (nullable = true)\n |-- Neighborhood: string (nullable = true)\n |-- Location: string (nullable = true)\n |-- RowID: string (nullable = true)\n |-- Delay: double (nullable = true)\n\n"
     ]
    }
   ],
   "source": [
    "# Utility Methods: They don't transform a DataFrame nor activate a spark job\n",
    "renamed_fire_df.printSchema()"
   ]
  },
  {
   "cell_type": "code",
   "execution_count": 0,
   "metadata": {
    "application/vnd.databricks.v1+cell": {
     "cellMetadata": {
      "byteLimit": 2048000,
      "rowLimit": 10000
     },
     "inputWidgets": {},
     "nuid": "ece3efa0-83ac-40ee-97be-ea70f379f96e",
     "showTitle": false,
     "title": ""
    }
   },
   "outputs": [],
   "source": [
    "# withColumn is a common transformation\n",
    "fire_df = renamed_fire_df \\\n",
    "            .withColumn(\"AvailableDtTm\", to_timestamp(\"AvailableDtTm\", \"MM/dd/yyyy hh:mm:ss a\")) \\\n",
    "            .withColumn(\"Delay\", round(col(\"Delay\"), 2))"
   ]
  },
  {
   "cell_type": "code",
   "execution_count": 0,
   "metadata": {
    "application/vnd.databricks.v1+cell": {
     "cellMetadata": {
      "byteLimit": 2048000,
      "rowLimit": 10000
     },
     "inputWidgets": {},
     "nuid": "b857faea-85b1-436d-a5af-2deb0b4a4d2b",
     "showTitle": false,
     "title": ""
    }
   },
   "outputs": [
    {
     "output_type": "display_data",
     "data": {
      "text/html": [
       "<style scoped>\n",
       "  .table-result-container {\n",
       "    max-height: 300px;\n",
       "    overflow: auto;\n",
       "  }\n",
       "  table, th, td {\n",
       "    border: 1px solid black;\n",
       "    border-collapse: collapse;\n",
       "  }\n",
       "  th, td {\n",
       "    padding: 5px;\n",
       "  }\n",
       "  th {\n",
       "    text-align: left;\n",
       "  }\n",
       "</style><div class='table-result-container'><table class='table-result'><thead style='background-color: white'><tr><th>CallNumber</th><th>UnitID</th><th>IncidentNumber</th><th>CallType</th><th>CallDate</th><th>WatchDate</th><th>CallFinalDisposition</th><th>AvailableDtTm</th><th>Address</th><th>City</th><th>Zipcode</th><th>Battalion</th><th>StationArea</th><th>Box</th><th>OrigPriority</th><th>Priority</th><th>FinalPriority</th><th>ALSUnit</th><th>CallTypeGroup</th><th>NumAlarms</th><th>UnitType</th><th>UnitSequenceInCallDispatch</th><th>FirePreventionDistrict</th><th>SupervisorDistrict</th><th>Neighborhood</th><th>Location</th><th>RowID</th><th>Delay</th></tr></thead><tbody><tr><td>20110014</td><td>M29</td><td>2003234</td><td>Medical Incident</td><td>2002-01-11</td><td>2002-01-10</td><td>Other</td><td>2002-01-11T01:58:43Z</td><td>10TH ST/MARKET ST</td><td>SF</td><td>94103</td><td>B02</td><td>36</td><td>2338</td><td>1</td><td>1</td><td>2</td><td>true</td><td>null</td><td>1</td><td>MEDIC</td><td>1</td><td>2</td><td>6</td><td>Tenderloin</td><td>(37.7765408927183, -122.417501464907)</td><td>020110014-M29</td><td>5.23</td></tr><tr><td>20110015</td><td>M08</td><td>2003233</td><td>Medical Incident</td><td>2002-01-11</td><td>2002-01-10</td><td>Other</td><td>2002-01-11T02:10:17Z</td><td>300 Block of 5TH ST</td><td>SF</td><td>94107</td><td>B03</td><td>08</td><td>2243</td><td>1</td><td>1</td><td>2</td><td>true</td><td>null</td><td>1</td><td>MEDIC</td><td>1</td><td>3</td><td>6</td><td>South of Market</td><td>(37.7792841462441, -122.402061300134)</td><td>020110015-M08</td><td>3.08</td></tr><tr><td>20110016</td><td>B02</td><td>2003235</td><td>Structure Fire</td><td>2002-01-11</td><td>2002-01-10</td><td>Other</td><td>2002-01-11T01:47:00Z</td><td>2000 Block of CALIFORNIA ST</td><td>SF</td><td>94109</td><td>B04</td><td>38</td><td>3362</td><td>3</td><td>3</td><td>3</td><td>false</td><td>null</td><td>1</td><td>CHIEF</td><td>6</td><td>4</td><td>5</td><td>Pacific Heights</td><td>(37.7895840679362, -122.428071912459)</td><td>020110016-B02</td><td>3.05</td></tr><tr><td>20110016</td><td>B04</td><td>2003235</td><td>Structure Fire</td><td>2002-01-11</td><td>2002-01-10</td><td>Other</td><td>2002-01-11T01:51:54Z</td><td>2000 Block of CALIFORNIA ST</td><td>SF</td><td>94109</td><td>B04</td><td>38</td><td>3362</td><td>3</td><td>3</td><td>3</td><td>false</td><td>null</td><td>1</td><td>CHIEF</td><td>3</td><td>4</td><td>5</td><td>Pacific Heights</td><td>(37.7895840679362, -122.428071912459)</td><td>020110016-B04</td><td>2.32</td></tr><tr><td>20110016</td><td>D2</td><td>2003235</td><td>Structure Fire</td><td>2002-01-11</td><td>2002-01-10</td><td>Other</td><td>2002-01-11T01:47:00Z</td><td>2000 Block of CALIFORNIA ST</td><td>SF</td><td>94109</td><td>B04</td><td>38</td><td>3362</td><td>3</td><td>3</td><td>3</td><td>false</td><td>null</td><td>1</td><td>CHIEF</td><td>4</td><td>4</td><td>5</td><td>Pacific Heights</td><td>(37.7895840679362, -122.428071912459)</td><td>020110016-D2</td><td>3.02</td></tr><tr><td>20110016</td><td>E03</td><td>2003235</td><td>Structure Fire</td><td>2002-01-11</td><td>2002-01-10</td><td>Other</td><td>2002-01-11T01:47:00Z</td><td>2000 Block of CALIFORNIA ST</td><td>SF</td><td>94109</td><td>B04</td><td>38</td><td>3362</td><td>3</td><td>3</td><td>3</td><td>false</td><td>null</td><td>1</td><td>ENGINE</td><td>7</td><td>4</td><td>5</td><td>Pacific Heights</td><td>(37.7895840679362, -122.428071912459)</td><td>020110016-E03</td><td>2.68</td></tr><tr><td>20110016</td><td>E38</td><td>2003235</td><td>Structure Fire</td><td>2002-01-11</td><td>2002-01-10</td><td>Other</td><td>2002-01-11T01:51:17Z</td><td>2000 Block of CALIFORNIA ST</td><td>SF</td><td>94109</td><td>B04</td><td>38</td><td>3362</td><td>3</td><td>3</td><td>3</td><td>false</td><td>null</td><td>1</td><td>ENGINE</td><td>1</td><td>4</td><td>5</td><td>Pacific Heights</td><td>(37.7895840679362, -122.428071912459)</td><td>020110016-E38</td><td>2.1</td></tr><tr><td>20110016</td><td>E41</td><td>2003235</td><td>Structure Fire</td><td>2002-01-11</td><td>2002-01-10</td><td>Other</td><td>2002-01-11T01:47:00Z</td><td>2000 Block of CALIFORNIA ST</td><td>SF</td><td>94109</td><td>B04</td><td>38</td><td>3362</td><td>3</td><td>3</td><td>3</td><td>false</td><td>null</td><td>1</td><td>ENGINE</td><td>8</td><td>4</td><td>5</td><td>Pacific Heights</td><td>(37.7895840679362, -122.428071912459)</td><td>020110016-E41</td><td>2.72</td></tr><tr><td>20110016</td><td>M03</td><td>2003235</td><td>Structure Fire</td><td>2002-01-11</td><td>2002-01-10</td><td>Other</td><td>2002-01-11T01:46:38Z</td><td>2000 Block of CALIFORNIA ST</td><td>SF</td><td>94109</td><td>B04</td><td>38</td><td>3362</td><td>3</td><td>3</td><td>3</td><td>true</td><td>null</td><td>1</td><td>MEDIC</td><td>10</td><td>4</td><td>5</td><td>Pacific Heights</td><td>(37.7895840679362, -122.428071912459)</td><td>020110016-M03</td><td>2.77</td></tr><tr><td>20110016</td><td>RS1</td><td>2003235</td><td>Structure Fire</td><td>2002-01-11</td><td>2002-01-10</td><td>Other</td><td>2002-01-11T01:46:57Z</td><td>2000 Block of CALIFORNIA ST</td><td>SF</td><td>94109</td><td>B04</td><td>38</td><td>3362</td><td>3</td><td>3</td><td>3</td><td>false</td><td>null</td><td>1</td><td>RESCUE SQUAD</td><td>9</td><td>4</td><td>5</td><td>Pacific Heights</td><td>(37.7895840679362, -122.428071912459)</td><td>020110016-RS1</td><td>3.27</td></tr></tbody></table></div>"
      ]
     },
     "metadata": {
      "application/vnd.databricks.v1+output": {
       "addedWidgets": {},
       "aggData": [],
       "aggError": "",
       "aggOverflow": false,
       "aggSchema": [],
       "aggSeriesLimitReached": false,
       "aggType": "",
       "arguments": {},
       "columnCustomDisplayInfos": {},
       "data": [
        [
         20110014,
         "M29",
         2003234,
         "Medical Incident",
         "2002-01-11",
         "2002-01-10",
         "Other",
         "2002-01-11T01:58:43Z",
         "10TH ST/MARKET ST",
         "SF",
         94103,
         "B02",
         "36",
         "2338",
         "1",
         "1",
         2,
         true,
         null,
         1,
         "MEDIC",
         1,
         "2",
         "6",
         "Tenderloin",
         "(37.7765408927183, -122.417501464907)",
         "020110014-M29",
         5.23
        ],
        [
         20110015,
         "M08",
         2003233,
         "Medical Incident",
         "2002-01-11",
         "2002-01-10",
         "Other",
         "2002-01-11T02:10:17Z",
         "300 Block of 5TH ST",
         "SF",
         94107,
         "B03",
         "08",
         "2243",
         "1",
         "1",
         2,
         true,
         null,
         1,
         "MEDIC",
         1,
         "3",
         "6",
         "South of Market",
         "(37.7792841462441, -122.402061300134)",
         "020110015-M08",
         3.08
        ],
        [
         20110016,
         "B02",
         2003235,
         "Structure Fire",
         "2002-01-11",
         "2002-01-10",
         "Other",
         "2002-01-11T01:47:00Z",
         "2000 Block of CALIFORNIA ST",
         "SF",
         94109,
         "B04",
         "38",
         "3362",
         "3",
         "3",
         3,
         false,
         null,
         1,
         "CHIEF",
         6,
         "4",
         "5",
         "Pacific Heights",
         "(37.7895840679362, -122.428071912459)",
         "020110016-B02",
         3.05
        ],
        [
         20110016,
         "B04",
         2003235,
         "Structure Fire",
         "2002-01-11",
         "2002-01-10",
         "Other",
         "2002-01-11T01:51:54Z",
         "2000 Block of CALIFORNIA ST",
         "SF",
         94109,
         "B04",
         "38",
         "3362",
         "3",
         "3",
         3,
         false,
         null,
         1,
         "CHIEF",
         3,
         "4",
         "5",
         "Pacific Heights",
         "(37.7895840679362, -122.428071912459)",
         "020110016-B04",
         2.32
        ],
        [
         20110016,
         "D2",
         2003235,
         "Structure Fire",
         "2002-01-11",
         "2002-01-10",
         "Other",
         "2002-01-11T01:47:00Z",
         "2000 Block of CALIFORNIA ST",
         "SF",
         94109,
         "B04",
         "38",
         "3362",
         "3",
         "3",
         3,
         false,
         null,
         1,
         "CHIEF",
         4,
         "4",
         "5",
         "Pacific Heights",
         "(37.7895840679362, -122.428071912459)",
         "020110016-D2",
         3.02
        ],
        [
         20110016,
         "E03",
         2003235,
         "Structure Fire",
         "2002-01-11",
         "2002-01-10",
         "Other",
         "2002-01-11T01:47:00Z",
         "2000 Block of CALIFORNIA ST",
         "SF",
         94109,
         "B04",
         "38",
         "3362",
         "3",
         "3",
         3,
         false,
         null,
         1,
         "ENGINE",
         7,
         "4",
         "5",
         "Pacific Heights",
         "(37.7895840679362, -122.428071912459)",
         "020110016-E03",
         2.68
        ],
        [
         20110016,
         "E38",
         2003235,
         "Structure Fire",
         "2002-01-11",
         "2002-01-10",
         "Other",
         "2002-01-11T01:51:17Z",
         "2000 Block of CALIFORNIA ST",
         "SF",
         94109,
         "B04",
         "38",
         "3362",
         "3",
         "3",
         3,
         false,
         null,
         1,
         "ENGINE",
         1,
         "4",
         "5",
         "Pacific Heights",
         "(37.7895840679362, -122.428071912459)",
         "020110016-E38",
         2.1
        ],
        [
         20110016,
         "E41",
         2003235,
         "Structure Fire",
         "2002-01-11",
         "2002-01-10",
         "Other",
         "2002-01-11T01:47:00Z",
         "2000 Block of CALIFORNIA ST",
         "SF",
         94109,
         "B04",
         "38",
         "3362",
         "3",
         "3",
         3,
         false,
         null,
         1,
         "ENGINE",
         8,
         "4",
         "5",
         "Pacific Heights",
         "(37.7895840679362, -122.428071912459)",
         "020110016-E41",
         2.72
        ],
        [
         20110016,
         "M03",
         2003235,
         "Structure Fire",
         "2002-01-11",
         "2002-01-10",
         "Other",
         "2002-01-11T01:46:38Z",
         "2000 Block of CALIFORNIA ST",
         "SF",
         94109,
         "B04",
         "38",
         "3362",
         "3",
         "3",
         3,
         true,
         null,
         1,
         "MEDIC",
         10,
         "4",
         "5",
         "Pacific Heights",
         "(37.7895840679362, -122.428071912459)",
         "020110016-M03",
         2.77
        ],
        [
         20110016,
         "RS1",
         2003235,
         "Structure Fire",
         "2002-01-11",
         "2002-01-10",
         "Other",
         "2002-01-11T01:46:57Z",
         "2000 Block of CALIFORNIA ST",
         "SF",
         94109,
         "B04",
         "38",
         "3362",
         "3",
         "3",
         3,
         false,
         null,
         1,
         "RESCUE SQUAD",
         9,
         "4",
         "5",
         "Pacific Heights",
         "(37.7895840679362, -122.428071912459)",
         "020110016-RS1",
         3.27
        ]
       ],
       "datasetInfos": [],
       "dbfsResultPath": null,
       "isJsonSchema": true,
       "metadata": {},
       "overflow": false,
       "plotOptions": {
        "customPlotOptions": {},
        "displayType": "table",
        "pivotAggregation": null,
        "pivotColumns": null,
        "xColumns": null,
        "yColumns": null
       },
       "removedWidgets": [],
       "schema": [
        {
         "metadata": "{}",
         "name": "CallNumber",
         "type": "\"integer\""
        },
        {
         "metadata": "{}",
         "name": "UnitID",
         "type": "\"string\""
        },
        {
         "metadata": "{}",
         "name": "IncidentNumber",
         "type": "\"integer\""
        },
        {
         "metadata": "{}",
         "name": "CallType",
         "type": "\"string\""
        },
        {
         "metadata": "{\"__detected_date_formats\":\"M/d/yyyy\"}",
         "name": "CallDate",
         "type": "\"date\""
        },
        {
         "metadata": "{\"__detected_date_formats\":\"M/d/yyyy\"}",
         "name": "WatchDate",
         "type": "\"date\""
        },
        {
         "metadata": "{}",
         "name": "CallFinalDisposition",
         "type": "\"string\""
        },
        {
         "metadata": "{}",
         "name": "AvailableDtTm",
         "type": "\"timestamp\""
        },
        {
         "metadata": "{}",
         "name": "Address",
         "type": "\"string\""
        },
        {
         "metadata": "{}",
         "name": "City",
         "type": "\"string\""
        },
        {
         "metadata": "{}",
         "name": "Zipcode",
         "type": "\"integer\""
        },
        {
         "metadata": "{}",
         "name": "Battalion",
         "type": "\"string\""
        },
        {
         "metadata": "{}",
         "name": "StationArea",
         "type": "\"string\""
        },
        {
         "metadata": "{}",
         "name": "Box",
         "type": "\"string\""
        },
        {
         "metadata": "{}",
         "name": "OrigPriority",
         "type": "\"string\""
        },
        {
         "metadata": "{}",
         "name": "Priority",
         "type": "\"string\""
        },
        {
         "metadata": "{}",
         "name": "FinalPriority",
         "type": "\"integer\""
        },
        {
         "metadata": "{}",
         "name": "ALSUnit",
         "type": "\"boolean\""
        },
        {
         "metadata": "{}",
         "name": "CallTypeGroup",
         "type": "\"string\""
        },
        {
         "metadata": "{}",
         "name": "NumAlarms",
         "type": "\"integer\""
        },
        {
         "metadata": "{}",
         "name": "UnitType",
         "type": "\"string\""
        },
        {
         "metadata": "{}",
         "name": "UnitSequenceInCallDispatch",
         "type": "\"integer\""
        },
        {
         "metadata": "{}",
         "name": "FirePreventionDistrict",
         "type": "\"string\""
        },
        {
         "metadata": "{}",
         "name": "SupervisorDistrict",
         "type": "\"string\""
        },
        {
         "metadata": "{}",
         "name": "Neighborhood",
         "type": "\"string\""
        },
        {
         "metadata": "{}",
         "name": "Location",
         "type": "\"string\""
        },
        {
         "metadata": "{}",
         "name": "RowID",
         "type": "\"string\""
        },
        {
         "metadata": "{}",
         "name": "Delay",
         "type": "\"double\""
        }
       ],
       "type": "table"
      }
     },
     "output_type": "display_data"
    }
   ],
   "source": [
    "display(fire_df.limit(10))"
   ]
  },
  {
   "cell_type": "code",
   "execution_count": 0,
   "metadata": {
    "application/vnd.databricks.v1+cell": {
     "cellMetadata": {
      "byteLimit": 2048000,
      "rowLimit": 10000
     },
     "inputWidgets": {},
     "nuid": "e7dd946d-b1a4-45c3-a1c2-fa35c647b117",
     "showTitle": false,
     "title": ""
    }
   },
   "outputs": [
    {
     "output_type": "stream",
     "name": "stdout",
     "output_type": "stream",
     "text": [
      "root\n |-- CallNumber: integer (nullable = true)\n |-- UnitID: string (nullable = true)\n |-- IncidentNumber: integer (nullable = true)\n |-- CallType: string (nullable = true)\n |-- CallDate: date (nullable = true)\n |-- WatchDate: date (nullable = true)\n |-- CallFinalDisposition: string (nullable = true)\n |-- AvailableDtTm: timestamp (nullable = true)\n |-- Address: string (nullable = true)\n |-- City: string (nullable = true)\n |-- Zipcode: integer (nullable = true)\n |-- Battalion: string (nullable = true)\n |-- StationArea: string (nullable = true)\n |-- Box: string (nullable = true)\n |-- OrigPriority: string (nullable = true)\n |-- Priority: string (nullable = true)\n |-- FinalPriority: integer (nullable = true)\n |-- ALSUnit: boolean (nullable = true)\n |-- CallTypeGroup: string (nullable = true)\n |-- NumAlarms: integer (nullable = true)\n |-- UnitType: string (nullable = true)\n |-- UnitSequenceInCallDispatch: integer (nullable = true)\n |-- FirePreventionDistrict: string (nullable = true)\n |-- SupervisorDistrict: string (nullable = true)\n |-- Neighborhood: string (nullable = true)\n |-- Location: string (nullable = true)\n |-- RowID: string (nullable = true)\n |-- Delay: double (nullable = true)\n\n"
     ]
    }
   ],
   "source": [
    "fire_df.printSchema()"
   ]
  }
 ],
 "metadata": {
  "application/vnd.databricks.v1+notebook": {
   "dashboards": [],
   "language": "python",
   "notebookMetadata": {
    "pythonIndentUnit": 4
   },
   "notebookName": "05-working-with-dataframe",
   "widgets": {}
  }
 },
 "nbformat": 4,
 "nbformat_minor": 0
}
