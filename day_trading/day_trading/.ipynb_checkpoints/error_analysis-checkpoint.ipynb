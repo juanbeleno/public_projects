{
 "cells": [
  {
   "cell_type": "code",
   "execution_count": 1,
   "id": "61e84805",
   "metadata": {},
   "outputs": [],
   "source": [
    "# Define ticket\n",
    "ticket = 'AAPL'\n",
    "\n",
    "# Use a new working directory for relative imports\n",
    "from sys import path\n",
    "import os\n",
    "\n",
    "os.chdir(os.path.dirname(path[0]))\n",
    "# print(\"New Working Directory \" , os.getcwd())"
   ]
  },
  {
   "cell_type": "code",
   "execution_count": null,
   "id": "123a7e9c",
   "metadata": {},
   "outputs": [],
   "source": [
    "from day_trading.files import DayTradingFiles\n",
    "import pandas as pd\n",
    "import json\n",
    "import joblib\n",
    "import os\n",
    "\n",
    "# Prepare the models, targets, and features\n",
    "files = DayTradingFiles()\n",
    "\n",
    "high_regressor = joblib.load(os.path.join(files.output_directory, f'high_model_{ticket}.joblib'))\n",
    "low_regressor = joblib.load(os.path.join(files.output_directory, f'low_model_{ticket}.joblib'))\n",
    "\n",
    "with open(os.path.join(files.output_directory, f'target_high_{ticket}.json')) as json_file:\n",
    "    targets_high = json.load(json_file)\n",
    "\n",
    "with open(os.path.join(files.output_directory, f'target_low_{ticket}.json')) as json_file:\n",
    "    targets_low = json.load(json_file)\n",
    "\n",
    "features = pd.read_csv(os.path.join(files.output_directory, f'features_{ticket}.csv'))\n"
   ]
  },
  {
   "cell_type": "code",
   "execution_count": 3,
   "id": "f947832b",
   "metadata": {},
   "outputs": [
    {
     "name": "stdout",
     "output_type": "stream",
     "text": [
      "Feature Importance for high regressor:\n",
      "['Return_5', 12.332124309539521]\n",
      "['ExpMovingAvg_10', 7.748367659085037]\n",
      "['Return_50', 2.981148824766444]\n",
      "['ExpMovingAvg_30', 2.073650024970339]\n",
      "['close', 1.2884507144133237]\n",
      "['MovingAvg_30', 0.9279952102659234]\n",
      "['MovingAvg_20', 0.48265384670653216]\n",
      "['MovingAvg_50', 0.3613001760634982]\n",
      "['high', 0.32335039584148006]\n",
      "['Volatility_5', 0.16730069230516773]\n",
      "['Volatility_10', 0.15668963531570992]\n",
      "['Volatility_30', 0.1512402792451378]\n",
      "['open', 0.13359771370268952]\n",
      "['Volatility_20', 0.09560296174231991]\n",
      "['MovingAvg_10', 0.09320294551302348]\n",
      "['hour', 0.05016052248227531]\n",
      "['minute', 0.002178805798462331]\n",
      "['volume', 8.89297152190289e-08]\n",
      "['ticket_AAPL', -2.1190871279941348e-10]\n",
      "['day_of_week', -0.002168049922558261]\n",
      "['MovingAvg_5', -0.016926960083293436]\n",
      "['ExpMovingAvg_50', -0.14494077741407677]\n",
      "['low', -0.20916159864936187]\n",
      "['Volatility_50', -0.6003252946530071]\n",
      "['ExpMovingAvg_5', -3.3246119202339655]\n",
      "['Return_10', -3.7784386991344827]\n",
      "['Return_30', -4.899681946148947]\n",
      "['Return_20', -8.702512211332179]\n",
      "['ExpMovingAvg_20', -8.744207086817656]\n",
      "--------------------------------------\n",
      "Feature Importance for low regressor:\n",
      "['Return_5', 10.816407996858848]\n",
      "['ExpMovingAvg_10', 7.2190468628807505]\n",
      "['Return_50', 3.6849770506729316]\n",
      "['ExpMovingAvg_30', 3.452836987908463]\n",
      "['close', 1.344306092509677]\n",
      "['MovingAvg_30', 0.7864609748638843]\n",
      "['MovingAvg_20', 0.511080638672593]\n",
      "['MovingAvg_50', 0.16981880042637001]\n",
      "['open', 0.16079453459005041]\n",
      "['MovingAvg_10', 0.1524879040121524]\n",
      "['Volatility_5', 0.11450443501257006]\n",
      "['high', 0.10302537852097636]\n",
      "['Volatility_10', 0.052092505315487904]\n",
      "['Volatility_30', 0.04895061716708972]\n",
      "['hour', 0.0280572392581867]\n",
      "['minute', 0.0012319569708953229]\n",
      "['volume', 4.7525248254366936e-08]\n",
      "['ticket_AAPL', -2.0710699821790968e-10]\n",
      "['day_of_week', -0.006808038723886781]\n",
      "['MovingAvg_5', -0.02334774173067633]\n",
      "['low', -0.10220181929721461]\n",
      "['Volatility_20', -0.11125127254657556]\n",
      "['Volatility_50', -0.36175628457712805]\n",
      "['ExpMovingAvg_50', -0.3744089979545181]\n",
      "['ExpMovingAvg_5', -2.9408489094157835]\n",
      "['Return_30', -5.525189454221227]\n",
      "['Return_10', -5.570953774954954]\n",
      "['Return_20', -9.112975305840193]\n",
      "['ExpMovingAvg_20', -9.463323865899547]\n"
     ]
    },
    {
     "data": {
      "text/plain": [
       "\"\\nsorted_idx = np.argsort(high_regressor.feature_importances_)[::-1]\\nprint(f'Feature Importance for high regressor:')\\nfor index in sorted_idx:\\n    print([features.columns[index], high_regressor.feature_importances_[index]])\\n\\nprint('--------------------------------------')\\nsorted_idx = np.argsort(low_regressor.feature_importances_)[::-1]\\nprint(f'Feature Importance for low regressor:')\\nfor index in sorted_idx:\\n    print([features.columns[index], low_regressor.feature_importances_[index]])\\n\""
      ]
     },
     "execution_count": 3,
     "metadata": {},
     "output_type": "execute_result"
    }
   ],
   "source": [
    "import numpy as np\n",
    "\n",
    "# Feature importance\n",
    "sorted_idx = np.argsort(high_regressor.coef_)[::-1]\n",
    "print(f'Feature Importance for high regressor:')\n",
    "for index in sorted_idx:\n",
    "    print([features.columns[index], high_regressor.coef_[index]])\n",
    "\n",
    "print('--------------------------------------')\n",
    "sorted_idx = np.argsort(low_regressor.coef_)[::-1]\n",
    "print(f'Feature Importance for low regressor:')\n",
    "for index in sorted_idx:\n",
    "    print([features.columns[index], low_regressor.coef_[index]])\n",
    "\n",
    "\"\"\"\n",
    "sorted_idx = np.argsort(high_regressor.feature_importances_)[::-1]\n",
    "print(f'Feature Importance for high regressor:')\n",
    "for index in sorted_idx:\n",
    "    print([features.columns[index], high_regressor.feature_importances_[index]])\n",
    "\n",
    "print('--------------------------------------')\n",
    "sorted_idx = np.argsort(low_regressor.feature_importances_)[::-1]\n",
    "print(f'Feature Importance for low regressor:')\n",
    "for index in sorted_idx:\n",
    "    print([features.columns[index], low_regressor.feature_importances_[index]])\n",
    "\"\"\""
   ]
  },
  {
   "cell_type": "code",
   "execution_count": 4,
   "id": "e1093f2c",
   "metadata": {},
   "outputs": [
    {
     "name": "stdout",
     "output_type": "stream",
     "text": [
      "Sample High Predictions: [143.69033856 142.99328287 143.64327389 143.53809303 143.23623042\n",
      " 142.63546572 142.47005731 142.17706117 142.95315815 142.57351035\n",
      " 142.44599506 142.20710786 142.22949789 142.34480316 142.07781396\n",
      " 142.00551839 141.60165581 141.42398898 141.35739134 141.01231987]\n"
     ]
    }
   ],
   "source": [
    "# Make predictions\n",
    "high_predictions = high_regressor.predict(features)\n",
    "low_predictions = low_regressor.predict(features)\n",
    "\n",
    "print(f'Sample High Predictions: {high_predictions[:20]}')"
   ]
  },
  {
   "cell_type": "code",
   "execution_count": 5,
   "id": "3d295280",
   "metadata": {},
   "outputs": [
    {
     "name": "stdout",
     "output_type": "stream",
     "text": [
      "MAE Low: 0.41321050345872706\n",
      "MAE High: 0.4386809152185996\n"
     ]
    }
   ],
   "source": [
    "from sklearn.metrics import mean_absolute_error\n",
    "\n",
    "low_mae = mean_absolute_error(targets_low, low_predictions)\n",
    "high_mae = mean_absolute_error(targets_high, high_predictions)\n",
    "\n",
    "print(f'MAE Low: {low_mae}')\n",
    "print(f'MAE High: {high_mae}')"
   ]
  },
  {
   "cell_type": "code",
   "execution_count": 6,
   "id": "8cf79104",
   "metadata": {},
   "outputs": [
    {
     "name": "stdout",
     "output_type": "stream",
     "text": [
      "Sample High Deltas: [-1.00033612 -0.30328043 -0.95327145 -0.84809059 -0.92623286 -0.4154645\n",
      " -0.25005609  0.04294005 -0.73315693 -0.3835079  -0.44599506 -0.20710786\n",
      " -0.22949789 -0.48480255 -0.28782067 -0.44051594 -0.33165153 -0.15398471\n",
      "  0.10261537  0.71767586]\n"
     ]
    },
    {
     "data": {
      "text/plain": [
       "<AxesSubplot:xlabel='x', ylabel='delta_high'>"
      ]
     },
     "execution_count": 6,
     "metadata": {},
     "output_type": "execute_result"
    },
    {
     "data": {
      "image/png": "[encoded data removed]",
      "text/plain": [
       "<Figure size 864x648 with 1 Axes>"
      ]
     },
     "metadata": {},
     "output_type": "display_data"
    }
   ],
   "source": [
    "import seaborn as sns\n",
    "sns.set(rc={'figure.figsize':(12, 9)})\n",
    "\n",
    "# Analyze the errors\n",
    "delta_high_values = targets_high - high_predictions\n",
    "delta_low_values = targets_low - low_predictions\n",
    "\n",
    "df = features.copy()\n",
    "df['x'] = df.index\n",
    "df['delta_low'] = delta_low_values\n",
    "df['delta_high'] = delta_high_values\n",
    "df['target_low'] = targets_low\n",
    "df['targets_high'] = targets_high\n",
    "df['high_predictions'] = high_predictions\n",
    "df['low_predictions'] = low_predictions\n",
    "\n",
    "print(f'Sample High Deltas: {delta_high_values[:20]}')\n",
    "\n",
    "sns.barplot(data=df, x=\"x\", y=\"delta_high\")"
   ]
  },
  {
   "cell_type": "code",
   "execution_count": 7,
   "id": "f33644a3",
   "metadata": {},
   "outputs": [
    {
     "data": {
      "text/plain": [
       "<AxesSubplot:xlabel='x', ylabel='delta_low'>"
      ]
     },
     "execution_count": 7,
     "metadata": {},
     "output_type": "execute_result"
    },
    {
     "data": {
      "image/png": "[encoded data removed]",
      "text/plain": [
       "<Figure size 864x648 with 1 Axes>"
      ]
     },
     "metadata": {},
     "output_type": "display_data"
    }
   ],
   "source": [
    "sns.barplot(data=df, x=\"x\", y=\"delta_low\")"
   ]
  },
  {
   "cell_type": "code",
   "execution_count": 8,
   "id": "2289cbe1",
   "metadata": {},
   "outputs": [
    {
     "data": {
      "text/html": [
       "<div>\n",
       "<style scoped>\n",
       "    .dataframe tbody tr th:only-of-type {\n",
       "        vertical-align: middle;\n",
       "    }\n",
       "\n",
       "    .dataframe tbody tr th {\n",
       "        vertical-align: top;\n",
       "    }\n",
       "\n",
       "    .dataframe thead th {\n",
       "        text-align: right;\n",
       "    }\n",
       "</style>\n",
       "<table border=\"1\" class=\"dataframe\">\n",
       "  <thead>\n",
       "    <tr style=\"text-align: right;\">\n",
       "      <th></th>\n",
       "      <th>high</th>\n",
       "      <th>low</th>\n",
       "      <th>close</th>\n",
       "      <th>open</th>\n",
       "      <th>volume</th>\n",
       "      <th>ticket_AAPL</th>\n",
       "      <th>day_of_week</th>\n",
       "      <th>hour</th>\n",
       "      <th>minute</th>\n",
       "      <th>Return_5</th>\n",
       "      <th>...</th>\n",
       "      <th>MovingAvg_50</th>\n",
       "      <th>ExpMovingAvg_50</th>\n",
       "      <th>Volatility_50</th>\n",
       "      <th>x</th>\n",
       "      <th>delta_low</th>\n",
       "      <th>delta_high</th>\n",
       "      <th>target_low</th>\n",
       "      <th>targets_high</th>\n",
       "      <th>high_predictions</th>\n",
       "      <th>low_predictions</th>\n",
       "    </tr>\n",
       "  </thead>\n",
       "  <tbody>\n",
       "    <tr>\n",
       "      <th>count</th>\n",
       "      <td>383.000000</td>\n",
       "      <td>383.000000</td>\n",
       "      <td>383.000000</td>\n",
       "      <td>383.000000</td>\n",
       "      <td>3.830000e+02</td>\n",
       "      <td>383.0</td>\n",
       "      <td>383.000000</td>\n",
       "      <td>383.000000</td>\n",
       "      <td>383.000000</td>\n",
       "      <td>383.000000</td>\n",
       "      <td>...</td>\n",
       "      <td>383.000000</td>\n",
       "      <td>383.000000</td>\n",
       "      <td>383.000000</td>\n",
       "      <td>383.00000</td>\n",
       "      <td>383.000000</td>\n",
       "      <td>383.000000</td>\n",
       "      <td>383.000000</td>\n",
       "      <td>383.000000</td>\n",
       "      <td>383.000000</td>\n",
       "      <td>383.000000</td>\n",
       "    </tr>\n",
       "    <tr>\n",
       "      <th>mean</th>\n",
       "      <td>144.083500</td>\n",
       "      <td>143.666973</td>\n",
       "      <td>143.886873</td>\n",
       "      <td>143.868686</td>\n",
       "      <td>9.019024e+05</td>\n",
       "      <td>1.0</td>\n",
       "      <td>1.963446</td>\n",
       "      <td>16.180157</td>\n",
       "      <td>28.446475</td>\n",
       "      <td>0.000786</td>\n",
       "      <td>...</td>\n",
       "      <td>143.418771</td>\n",
       "      <td>143.456583</td>\n",
       "      <td>0.365024</td>\n",
       "      <td>191.00000</td>\n",
       "      <td>0.039872</td>\n",
       "      <td>0.013510</td>\n",
       "      <td>144.162838</td>\n",
       "      <td>144.552551</td>\n",
       "      <td>144.539041</td>\n",
       "      <td>144.122966</td>\n",
       "    </tr>\n",
       "    <tr>\n",
       "      <th>std</th>\n",
       "      <td>1.442684</td>\n",
       "      <td>1.452523</td>\n",
       "      <td>1.446153</td>\n",
       "      <td>1.450204</td>\n",
       "      <td>7.892745e+05</td>\n",
       "      <td>0.0</td>\n",
       "      <td>1.402586</td>\n",
       "      <td>1.869127</td>\n",
       "      <td>17.278944</td>\n",
       "      <td>0.006014</td>\n",
       "      <td>...</td>\n",
       "      <td>1.484217</td>\n",
       "      <td>1.389940</td>\n",
       "      <td>0.144633</td>\n",
       "      <td>110.70682</td>\n",
       "      <td>0.617775</td>\n",
       "      <td>0.670754</td>\n",
       "      <td>1.461467</td>\n",
       "      <td>1.476179</td>\n",
       "      <td>1.437722</td>\n",
       "      <td>1.437224</td>\n",
       "    </tr>\n",
       "    <tr>\n",
       "      <th>min</th>\n",
       "      <td>140.589996</td>\n",
       "      <td>140.270004</td>\n",
       "      <td>140.330002</td>\n",
       "      <td>140.320297</td>\n",
       "      <td>3.242660e+05</td>\n",
       "      <td>1.0</td>\n",
       "      <td>0.000000</td>\n",
       "      <td>13.000000</td>\n",
       "      <td>0.000000</td>\n",
       "      <td>-0.026430</td>\n",
       "      <td>...</td>\n",
       "      <td>139.128317</td>\n",
       "      <td>139.282367</td>\n",
       "      <td>0.153655</td>\n",
       "      <td>0.00000</td>\n",
       "      <td>-2.160331</td>\n",
       "      <td>-1.737311</td>\n",
       "      <td>140.850006</td>\n",
       "      <td>141.270004</td>\n",
       "      <td>140.830525</td>\n",
       "      <td>140.507295</td>\n",
       "    </tr>\n",
       "    <tr>\n",
       "      <th>25%</th>\n",
       "      <td>142.894997</td>\n",
       "      <td>142.614998</td>\n",
       "      <td>142.723198</td>\n",
       "      <td>142.710007</td>\n",
       "      <td>5.453785e+05</td>\n",
       "      <td>1.0</td>\n",
       "      <td>1.000000</td>\n",
       "      <td>15.000000</td>\n",
       "      <td>15.000000</td>\n",
       "      <td>-0.002010</td>\n",
       "      <td>...</td>\n",
       "      <td>143.220993</td>\n",
       "      <td>143.249752</td>\n",
       "      <td>0.255113</td>\n",
       "      <td>95.50000</td>\n",
       "      <td>-0.306039</td>\n",
       "      <td>-0.366890</td>\n",
       "      <td>143.130005</td>\n",
       "      <td>143.524948</td>\n",
       "      <td>143.549943</td>\n",
       "      <td>143.027316</td>\n",
       "    </tr>\n",
       "    <tr>\n",
       "      <th>50%</th>\n",
       "      <td>144.000000</td>\n",
       "      <td>143.520004</td>\n",
       "      <td>143.782104</td>\n",
       "      <td>143.759995</td>\n",
       "      <td>7.016440e+05</td>\n",
       "      <td>1.0</td>\n",
       "      <td>2.000000</td>\n",
       "      <td>16.000000</td>\n",
       "      <td>30.000000</td>\n",
       "      <td>0.000486</td>\n",
       "      <td>...</td>\n",
       "      <td>143.790482</td>\n",
       "      <td>143.809997</td>\n",
       "      <td>0.283601</td>\n",
       "      <td>191.00000</td>\n",
       "      <td>-0.070346</td>\n",
       "      <td>-0.138160</td>\n",
       "      <td>144.339996</td>\n",
       "      <td>144.696594</td>\n",
       "      <td>144.394691</td>\n",
       "      <td>144.015379</td>\n",
       "    </tr>\n",
       "    <tr>\n",
       "      <th>75%</th>\n",
       "      <td>145.300003</td>\n",
       "      <td>144.914993</td>\n",
       "      <td>145.107498</td>\n",
       "      <td>145.117500</td>\n",
       "      <td>9.588000e+05</td>\n",
       "      <td>1.0</td>\n",
       "      <td>3.000000</td>\n",
       "      <td>18.000000</td>\n",
       "      <td>45.000000</td>\n",
       "      <td>0.002900</td>\n",
       "      <td>...</td>\n",
       "      <td>144.397595</td>\n",
       "      <td>144.305248</td>\n",
       "      <td>0.525404</td>\n",
       "      <td>286.50000</td>\n",
       "      <td>0.267376</td>\n",
       "      <td>0.219628</td>\n",
       "      <td>145.279999</td>\n",
       "      <td>145.735001</td>\n",
       "      <td>145.700090</td>\n",
       "      <td>145.310962</td>\n",
       "    </tr>\n",
       "    <tr>\n",
       "      <th>max</th>\n",
       "      <td>147.649994</td>\n",
       "      <td>147.410004</td>\n",
       "      <td>147.630096</td>\n",
       "      <td>147.441101</td>\n",
       "      <td>8.262616e+06</td>\n",
       "      <td>1.0</td>\n",
       "      <td>4.000000</td>\n",
       "      <td>19.000000</td>\n",
       "      <td>55.000000</td>\n",
       "      <td>0.027876</td>\n",
       "      <td>...</td>\n",
       "      <td>145.827794</td>\n",
       "      <td>145.910876</td>\n",
       "      <td>0.613187</td>\n",
       "      <td>382.00000</td>\n",
       "      <td>2.896310</td>\n",
       "      <td>3.405932</td>\n",
       "      <td>147.619995</td>\n",
       "      <td>147.847900</td>\n",
       "      <td>148.381421</td>\n",
       "      <td>147.970011</td>\n",
       "    </tr>\n",
       "  </tbody>\n",
       "</table>\n",
       "<p>8 rows × 36 columns</p>\n",
       "</div>"
      ],
      "text/plain": [
       "             high         low       close        open        volume  \\\n",
       "count  383.000000  383.000000  383.000000  383.000000  3.830000e+02   \n",
       "mean   144.083500  143.666973  143.886873  143.868686  9.019024e+05   \n",
       "std      1.442684    1.452523    1.446153    1.450204  7.892745e+05   \n",
       "min    140.589996  140.270004  140.330002  140.320297  3.242660e+05   \n",
       "25%    142.894997  142.614998  142.723198  142.710007  5.453785e+05   \n",
       "50%    144.000000  143.520004  143.782104  143.759995  7.016440e+05   \n",
       "75%    145.300003  144.914993  145.107498  145.117500  9.588000e+05   \n",
       "max    147.649994  147.410004  147.630096  147.441101  8.262616e+06   \n",
       "\n",
       "       ticket_AAPL  day_of_week        hour      minute    Return_5  ...  \\\n",
       "count        383.0   383.000000  383.000000  383.000000  383.000000  ...   \n",
       "mean           1.0     1.963446   16.180157   28.446475    0.000786  ...   \n",
       "std            0.0     1.402586    1.869127   17.278944    0.006014  ...   \n",
       "min            1.0     0.000000   13.000000    0.000000   -0.026430  ...   \n",
       "25%            1.0     1.000000   15.000000   15.000000   -0.002010  ...   \n",
       "50%            1.0     2.000000   16.000000   30.000000    0.000486  ...   \n",
       "75%            1.0     3.000000   18.000000   45.000000    0.002900  ...   \n",
       "max            1.0     4.000000   19.000000   55.000000    0.027876  ...   \n",
       "\n",
       "       MovingAvg_50  ExpMovingAvg_50  Volatility_50          x   delta_low  \\\n",
       "count    383.000000       383.000000     383.000000  383.00000  383.000000   \n",
       "mean     143.418771       143.456583       0.365024  191.00000    0.039872   \n",
       "std        1.484217         1.389940       0.144633  110.70682    0.617775   \n",
       "min      139.128317       139.282367       0.153655    0.00000   -2.160331   \n",
       "25%      143.220993       143.249752       0.255113   95.50000   -0.306039   \n",
       "50%      143.790482       143.809997       0.283601  191.00000   -0.070346   \n",
       "75%      144.397595       144.305248       0.525404  286.50000    0.267376   \n",
       "max      145.827794       145.910876       0.613187  382.00000    2.896310   \n",
       "\n",
       "       delta_high  target_low  targets_high  high_predictions  low_predictions  \n",
       "count  383.000000  383.000000    383.000000        383.000000       383.000000  \n",
       "mean     0.013510  144.162838    144.552551        144.539041       144.122966  \n",
       "std      0.670754    1.461467      1.476179          1.437722         1.437224  \n",
       "min     -1.737311  140.850006    141.270004        140.830525       140.507295  \n",
       "25%     -0.366890  143.130005    143.524948        143.549943       143.027316  \n",
       "50%     -0.138160  144.339996    144.696594        144.394691       144.015379  \n",
       "75%      0.219628  145.279999    145.735001        145.700090       145.310962  \n",
       "max      3.405932  147.619995    147.847900        148.381421       147.970011  \n",
       "\n",
       "[8 rows x 36 columns]"
      ]
     },
     "execution_count": 8,
     "metadata": {},
     "output_type": "execute_result"
    }
   ],
   "source": [
    "df.describe()"
   ]
  },
  {
   "cell_type": "code",
   "execution_count": 9,
   "id": "a4de61fc",
   "metadata": {},
   "outputs": [
    {
     "name": "stdout",
     "output_type": "stream",
     "text": [
      "           high         low       close        open   volume  ticket_AAPL  \\\n",
      "373  146.335007  146.130005  146.279999  146.259995   484864            1   \n",
      "374  146.250000  146.110001  146.110001  146.220001   422262            1   \n",
      "375  146.380005  146.059998  146.370193  146.110001   503485            1   \n",
      "376  146.460007  146.238998  146.270004  146.380005   604785            1   \n",
      "377  146.649994  146.250000  146.649994  146.261002   819354            1   \n",
      "378  146.860001  146.600006  146.830002  146.649994  1051318            1   \n",
      "379  146.869995  146.720001  146.759995  146.835007   930565            1   \n",
      "380  146.990005  146.690002  146.985001  146.769897   950142            1   \n",
      "381  147.458099  147.070007  147.445007  147.070007  1643321            1   \n",
      "382  147.649994  147.410004  147.630096  147.441101  1227865            1   \n",
      "\n",
      "     day_of_week  hour  minute  Return_5  ...  MovingAvg_50  ExpMovingAvg_50  \\\n",
      "373            4    18      35  0.000691  ...    145.395834       145.511752   \n",
      "374            4    18      40  0.000171  ...    145.423634       145.535213   \n",
      "375            4    18      45  0.002433  ...    145.462438       145.567957   \n",
      "376            4    18      50  0.000787  ...    145.496039       145.595489   \n",
      "377            4    18      55  0.002598  ...    145.530492       145.636842   \n",
      "378            4    19       0  0.003760  ...    145.570692       145.683632   \n",
      "379            4    19       5  0.004449  ...    145.623892       145.725843   \n",
      "380            4    19      10  0.004200  ...    145.685492       145.775221   \n",
      "381            4    19      15  0.008033  ...    145.753192       145.840703   \n",
      "382            4    19      20  0.006683  ...    145.827794       145.910876   \n",
      "\n",
      "     Volatility_50    x  delta_low  delta_high  target_low  targets_high  \\\n",
      "373       0.255923  373   0.529634    0.572684  147.070007    147.458099   \n",
      "374       0.256879  374   1.054353    0.954612  147.410004    147.649994   \n",
      "375       0.254763  375   0.983080    0.837165  147.619995    147.847900   \n",
      "376       0.254895  376   1.080266    0.931967  147.619995    147.847900   \n",
      "377       0.256001  377   0.695227    0.502767  147.619995    147.847900   \n",
      "378       0.255979  378   0.547620    0.399780  147.619995    147.847900   \n",
      "379       0.231963  379   0.593672    0.453906  147.619995    147.847900   \n",
      "380       0.230391  380   0.347267    0.186346  147.619995    147.847900   \n",
      "381       0.236861  381  -0.210859   -0.434426  147.619995    147.847900   \n",
      "382       0.235112  382  -0.350016   -0.533521  147.619995    147.847900   \n",
      "\n",
      "     high_predictions  low_predictions  \n",
      "373        146.885415       146.540373  \n",
      "374        146.695382       146.355651  \n",
      "375        147.010735       146.636916  \n",
      "376        146.915934       146.539729  \n",
      "377        147.345134       146.924768  \n",
      "378        147.448120       147.072375  \n",
      "379        147.393994       147.026323  \n",
      "380        147.661554       147.272728  \n",
      "381        148.282327       147.830854  \n",
      "382        148.381421       147.970011  \n",
      "\n",
      "[10 rows x 36 columns]\n"
     ]
    }
   ],
   "source": [
    "print(df.tail(10))"
   ]
  },
  {
   "cell_type": "code",
   "execution_count": 10,
   "id": "732ced38",
   "metadata": {},
   "outputs": [
    {
     "data": {
      "text/plain": [
       "\"\\ntable = pd.pivot_table(\\n    df, values='delta_low', index=['hour'],\\n    columns=['day_of_week'], aggfunc=np.mean)\\nprint(table)\""
      ]
     },
     "execution_count": 10,
     "metadata": {},
     "output_type": "execute_result"
    }
   ],
   "source": [
    "'''\n",
    "table = pd.pivot_table(\n",
    "    df, values='delta_low', index=['hour'],\n",
    "    columns=['day_of_week'], aggfunc=np.mean)\n",
    "print(table)'''"
   ]
  },
  {
   "cell_type": "code",
   "execution_count": 11,
   "id": "f812c9f8",
   "metadata": {},
   "outputs": [
    {
     "data": {
      "text/plain": [
       "\"table = pd.pivot_table(\\n    df, values='delta_high', index=['hour'],\\n    columns=['day_of_week'], aggfunc=np.mean)\\nprint(table)\""
      ]
     },
     "execution_count": 11,
     "metadata": {},
     "output_type": "execute_result"
    }
   ],
   "source": [
    "'''table = pd.pivot_table(\n",
    "    df, values='delta_high', index=['hour'],\n",
    "    columns=['day_of_week'], aggfunc=np.mean)\n",
    "print(table)'''"
   ]
  },
  {
   "cell_type": "code",
   "execution_count": 12,
   "id": "d9cd7999",
   "metadata": {},
   "outputs": [
    {
     "data": {
      "text/plain": [
       "\"print(df.groupby('hour')['delta_high'].mean())\\nprint(df.groupby('hour')['delta_high'].std())\""
      ]
     },
     "execution_count": 12,
     "metadata": {},
     "output_type": "execute_result"
    }
   ],
   "source": [
    "'''print(df.groupby('hour')['delta_high'].mean())\n",
    "print(df.groupby('hour')['delta_high'].std())'''"
   ]
  },
  {
   "cell_type": "code",
   "execution_count": 13,
   "id": "4de33d9a",
   "metadata": {},
   "outputs": [
    {
     "data": {
      "text/plain": [
       "\"print(df.groupby('hour')['delta_low'].mean())\\nprint(df.groupby('hour')['delta_low'].std())\""
      ]
     },
     "execution_count": 13,
     "metadata": {},
     "output_type": "execute_result"
    }
   ],
   "source": [
    "'''print(df.groupby('hour')['delta_low'].mean())\n",
    "print(df.groupby('hour')['delta_low'].std())'''"
   ]
  },
  {
   "cell_type": "code",
   "execution_count": null,
   "id": "4fbac804",
   "metadata": {},
   "outputs": [],
   "source": []
  }
 ],
 "metadata": {
  "kernelspec": {
   "display_name": "Python 3",
   "language": "python",
   "name": "python3"
  },
  "language_info": {
   "codemirror_mode": {
    "name": "ipython",
    "version": 3
   },
   "file_extension": ".py",
   "mimetype": "text/x-python",
   "name": "python",
   "nbconvert_exporter": "python",
   "pygments_lexer": "ipython3",
   "version": "3.8.8"
  }
 },
 "nbformat": 4,
 "nbformat_minor": 5
}
