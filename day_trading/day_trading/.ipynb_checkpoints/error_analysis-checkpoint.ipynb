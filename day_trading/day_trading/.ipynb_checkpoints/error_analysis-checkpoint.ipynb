{
 "cells": [
  {
   "cell_type": "code",
   "execution_count": 1,
   "id": "61e84805",
   "metadata": {},
   "outputs": [],
   "source": [
    "# Define ticket\n",
    "ticket = 'AAPL'\n",
    "\n",
    "# Use a new working directory for relative imports\n",
    "from sys import path\n",
    "import os\n",
    "\n",
    "os.chdir(os.path.dirname(path[0]))\n",
    "# print(\"New Working Directory \" , os.getcwd())"
   ]
  },
  {
   "cell_type": "code",
   "execution_count": 2,
   "id": "123a7e9c",
   "metadata": {},
   "outputs": [
    {
     "name": "stderr",
     "output_type": "stream",
     "text": [
      "/Users/juanbeleno/opt/anaconda3/lib/python3.8/site-packages/sklearn/utils/fixes.py:28: UserWarning: Module day_trading was already imported from None, but /Users/juanbeleno/Desktop/Repositories/nlp_public_projects/day_trading is being added to sys.path\n",
      "  from pkg_resources import parse_version  # type: ignore\n",
      "/Users/juanbeleno/opt/anaconda3/lib/python3.8/site-packages/sklearn/base.py:310: UserWarning: Trying to unpickle estimator LinearRegression from version 1.0.2 when using version 0.24.2. This might lead to breaking code or invalid results. Use at your own risk.\n",
      "  warnings.warn(\n"
     ]
    }
   ],
   "source": [
    "from day_trading.files import DayTradingFiles\n",
    "import pandas as pd\n",
    "import joblib\n",
    "import os\n",
    "\n",
    "# Prepare the models, targets, and features\n",
    "files = DayTradingFiles()\n",
    "\n",
    "high_regressor = joblib.load(os.path.join(files.output_directory, f'high_model_{ticket}.joblib'))\n",
    "low_regressor = joblib.load(os.path.join(files.output_directory, f'low_model_{ticket}.joblib'))\n",
    "\n",
    "validation_data = pd.read_csv(os.path.join(files.output_directory, f'validation_{ticket}.csv'))\n",
    "targets_high = validation_data['target_high']\n",
    "targets_low = validation_data['target_low']\n",
    "features = validation_data[[col in validation_data.columns for col not in ['target_high', 'target_low']]]\n"
   ]
  },
  {
   "cell_type": "code",
   "execution_count": 3,
   "id": "f947832b",
   "metadata": {},
   "outputs": [
    {
     "name": "stdout",
     "output_type": "stream",
     "text": [
      "Feature Importance for high regressor:\n",
      "['Return_5', 11.127052277970984]\n",
      "['ExpMovingAvg_10', 8.395287436169053]\n",
      "['Return_50', 4.084249344522593]\n",
      "['ExpMovingAvg_30', 3.0889948840295554]\n",
      "['close', 1.3063549332976874]\n",
      "['MovingAvg_30', 0.9609704260137016]\n",
      "['MovingAvg_20', 0.6189478773999181]\n",
      "['MovingAvg_50', 0.35295011822784317]\n",
      "['high', 0.3176585653237728]\n",
      "['Volatility_30', 0.20078962330347425]\n",
      "['Volatility_5', 0.14623521992353014]\n",
      "['open', 0.1378732269859368]\n",
      "['Volatility_10', 0.12720702728666874]\n",
      "['MovingAvg_10', 0.11408382870848452]\n",
      "['hour', 0.05227644021496982]\n",
      "['Volatility_20', 0.05220931519054801]\n",
      "['minute', 0.00225303310612717]\n",
      "['volume', 9.435601898306223e-08]\n",
      "['day_of_week', -0.005117741643599478]\n",
      "['MovingAvg_5', -0.04849384739782541]\n",
      "['low', -0.22327397307871022]\n",
      "['ExpMovingAvg_50', -0.31675462433644075]\n",
      "['Volatility_50', -0.6402155823101747]\n",
      "['ExpMovingAvg_5', -3.3723218863457016]\n",
      "['Return_30', -5.242974705863721]\n",
      "['Return_10', -6.316350478763201]\n",
      "['Return_20', -9.985460329849818]\n",
      "['ExpMovingAvg_20', -10.340160545474495]\n",
      "--------------------------------------\n",
      "Feature Importance for low regressor:\n",
      "['Return_5', 9.394261851634003]\n",
      "['ExpMovingAvg_10', 7.640661834213409]\n",
      "['Return_50', 4.492293157252719]\n",
      "['ExpMovingAvg_30', 4.163335052448076]\n",
      "['close', 1.3630308532341773]\n",
      "['MovingAvg_30', 0.8082539868093016]\n",
      "['MovingAvg_20', 0.6241485452705222]\n",
      "['MovingAvg_10', 0.17296615782807873]\n",
      "['MovingAvg_50', 0.16999756623275225]\n",
      "['open', 0.1664534516549359]\n",
      "['Volatility_30', 0.09814904238798905]\n",
      "['high', 0.09674649896913137]\n",
      "['Volatility_5', 0.09151756229593426]\n",
      "['Volatility_10', 0.03011845447041826]\n",
      "['hour', 0.02998380781502998]\n",
      "['minute', 0.0012934876033167792]\n",
      "['volume', 5.25814759781242e-08]\n",
      "['day_of_week', -0.010364049046483725]\n",
      "['MovingAvg_5', -0.0321173941167433]\n",
      "['low', -0.11228588855694636]\n",
      "['Volatility_20', -0.15424472530604552]\n",
      "['Volatility_50', -0.3874661578347662]\n",
      "['ExpMovingAvg_50', -0.5005895338534696]\n",
      "['ExpMovingAvg_5', -2.972503076660615]\n",
      "['Return_30', -5.70245766935442]\n",
      "['Return_10', -7.482888069118135]\n",
      "['Return_20', -10.048909360000213]\n",
      "['ExpMovingAvg_20', -10.59302964399666]\n"
     ]
    },
    {
     "data": {
      "text/plain": [
       "\"\\nsorted_idx = np.argsort(high_regressor.feature_importances_)[::-1]\\nprint(f'Feature Importance for high regressor:')\\nfor index in sorted_idx:\\n    print([features.columns[index], high_regressor.feature_importances_[index]])\\n\\nprint('--------------------------------------')\\nsorted_idx = np.argsort(low_regressor.feature_importances_)[::-1]\\nprint(f'Feature Importance for low regressor:')\\nfor index in sorted_idx:\\n    print([features.columns[index], low_regressor.feature_importances_[index]])\\n\""
      ]
     },
     "execution_count": 3,
     "metadata": {},
     "output_type": "execute_result"
    }
   ],
   "source": [
    "import numpy as np\n",
    "\n",
    "# Feature importance\n",
    "sorted_idx = np.argsort(high_regressor.coef_)[::-1]\n",
    "print(f'Feature Importance for high regressor:')\n",
    "for index in sorted_idx:\n",
    "    print([features.columns[index], high_regressor.coef_[index]])\n",
    "\n",
    "print('--------------------------------------')\n",
    "sorted_idx = np.argsort(low_regressor.coef_)[::-1]\n",
    "print(f'Feature Importance for low regressor:')\n",
    "for index in sorted_idx:\n",
    "    print([features.columns[index], low_regressor.coef_[index]])\n",
    "\n",
    "\"\"\"\n",
    "sorted_idx = np.argsort(high_regressor.feature_importances_)[::-1]\n",
    "print(f'Feature Importance for high regressor:')\n",
    "for index in sorted_idx:\n",
    "    print([features.columns[index], high_regressor.feature_importances_[index]])\n",
    "\n",
    "print('--------------------------------------')\n",
    "sorted_idx = np.argsort(low_regressor.feature_importances_)[::-1]\n",
    "print(f'Feature Importance for low regressor:')\n",
    "for index in sorted_idx:\n",
    "    print([features.columns[index], low_regressor.feature_importances_[index]])\n",
    "\"\"\""
   ]
  },
  {
   "cell_type": "code",
   "execution_count": 4,
   "id": "e1093f2c",
   "metadata": {},
   "outputs": [
    {
     "name": "stdout",
     "output_type": "stream",
     "text": [
      "Sample High Predictions: [148.21025672 147.00095026 147.31558692 147.12352852 146.75367053\n",
      " 146.11869291 146.21046051 146.37247521 146.27927088 146.30177452\n",
      " 146.05594386 145.89253561 145.77387851 145.51502051 145.70581919\n",
      " 146.15475996 145.84873074 145.48805429 145.34729992 145.08411784]\n"
     ]
    }
   ],
   "source": [
    "# Make predictions\n",
    "high_predictions = high_regressor.predict(features)\n",
    "low_predictions = low_regressor.predict(features)\n",
    "\n",
    "print(f'Sample High Predictions: {high_predictions[:20]}')"
   ]
  },
  {
   "cell_type": "code",
   "execution_count": 5,
   "id": "3d295280",
   "metadata": {},
   "outputs": [
    {
     "name": "stdout",
     "output_type": "stream",
     "text": [
      "MAE Low: 0.3714956789216698\n",
      "MAE High: 0.3695718843609659\n"
     ]
    }
   ],
   "source": [
    "from sklearn.metrics import mean_absolute_error\n",
    "\n",
    "low_mae = mean_absolute_error(targets_low, low_predictions)\n",
    "high_mae = mean_absolute_error(targets_high, high_predictions)\n",
    "\n",
    "print(f'MAE Low: {low_mae}')\n",
    "print(f'MAE High: {high_mae}')"
   ]
  },
  {
   "cell_type": "code",
   "execution_count": 6,
   "id": "8cf79104",
   "metadata": {},
   "outputs": [
    {
     "name": "stdout",
     "output_type": "stream",
     "text": [
      "Sample High Deltas: [-1.6402494  -0.43094293 -0.76558387 -0.57352547 -0.73366626 -0.1586862\n",
      " -0.2504538  -0.41246849 -0.31926416 -0.51178124 -0.26894129 -0.10553305\n",
      "  0.01312405  0.27198206  0.08118337 -0.45476301 -0.42873258 -0.30806161\n",
      " -0.16730725 -0.2842216 ]\n"
     ]
    },
    {
     "data": {
      "text/plain": [
       "<AxesSubplot:xlabel='x', ylabel='delta_high'>"
      ]
     },
     "execution_count": 6,
     "metadata": {},
     "output_type": "execute_result"
    },
    {
     "data": {
      "image/png": "[encoded data removed]",
      "text/plain": [
       "<Figure size 864x648 with 1 Axes>"
      ]
     },
     "metadata": {},
     "output_type": "display_data"
    }
   ],
   "source": [
    "import seaborn as sns\n",
    "sns.set(rc={'figure.figsize':(12, 9)})\n",
    "\n",
    "# Analyze the errors\n",
    "delta_high_values = targets_high - high_predictions\n",
    "delta_low_values = targets_low - low_predictions\n",
    "\n",
    "df = features.copy()\n",
    "df['x'] = df.index\n",
    "df['delta_low'] = delta_low_values\n",
    "df['delta_high'] = delta_high_values\n",
    "df['target_low'] = targets_low\n",
    "df['targets_high'] = targets_high\n",
    "df['high_predictions'] = high_predictions\n",
    "df['low_predictions'] = low_predictions\n",
    "\n",
    "print(f'Sample High Deltas: {delta_high_values[:20]}')\n",
    "\n",
    "sns.barplot(data=df, x=\"x\", y=\"delta_high\")"
   ]
  },
  {
   "cell_type": "code",
   "execution_count": 7,
   "id": "f33644a3",
   "metadata": {},
   "outputs": [
    {
     "data": {
      "text/plain": [
       "<AxesSubplot:xlabel='x', ylabel='delta_low'>"
      ]
     },
     "execution_count": 7,
     "metadata": {},
     "output_type": "execute_result"
    },
    {
     "data": {
      "image/png": "[encoded data removed]",
      "text/plain": [
       "<Figure size 864x648 with 1 Axes>"
      ]
     },
     "metadata": {},
     "output_type": "display_data"
    }
   ],
   "source": [
    "sns.barplot(data=df, x=\"x\", y=\"delta_low\")"
   ]
  },
  {
   "cell_type": "code",
   "execution_count": 8,
   "id": "2289cbe1",
   "metadata": {},
   "outputs": [
    {
     "data": {
      "text/html": [
       "<div>\n",
       "<style scoped>\n",
       "    .dataframe tbody tr th:only-of-type {\n",
       "        vertical-align: middle;\n",
       "    }\n",
       "\n",
       "    .dataframe tbody tr th {\n",
       "        vertical-align: top;\n",
       "    }\n",
       "\n",
       "    .dataframe thead th {\n",
       "        text-align: right;\n",
       "    }\n",
       "</style>\n",
       "<table border=\"1\" class=\"dataframe\">\n",
       "  <thead>\n",
       "    <tr style=\"text-align: right;\">\n",
       "      <th></th>\n",
       "      <th>high</th>\n",
       "      <th>low</th>\n",
       "      <th>close</th>\n",
       "      <th>open</th>\n",
       "      <th>volume</th>\n",
       "      <th>day_of_week</th>\n",
       "      <th>hour</th>\n",
       "      <th>minute</th>\n",
       "      <th>Return_5</th>\n",
       "      <th>MovingAvg_5</th>\n",
       "      <th>...</th>\n",
       "      <th>MovingAvg_50</th>\n",
       "      <th>ExpMovingAvg_50</th>\n",
       "      <th>Volatility_50</th>\n",
       "      <th>x</th>\n",
       "      <th>delta_low</th>\n",
       "      <th>delta_high</th>\n",
       "      <th>target_low</th>\n",
       "      <th>targets_high</th>\n",
       "      <th>high_predictions</th>\n",
       "      <th>low_predictions</th>\n",
       "    </tr>\n",
       "  </thead>\n",
       "  <tbody>\n",
       "    <tr>\n",
       "      <th>count</th>\n",
       "      <td>383.000000</td>\n",
       "      <td>383.000000</td>\n",
       "      <td>383.000000</td>\n",
       "      <td>383.000000</td>\n",
       "      <td>3.830000e+02</td>\n",
       "      <td>383.000000</td>\n",
       "      <td>383.000000</td>\n",
       "      <td>383.000000</td>\n",
       "      <td>383.000000</td>\n",
       "      <td>383.000000</td>\n",
       "      <td>...</td>\n",
       "      <td>383.000000</td>\n",
       "      <td>383.000000</td>\n",
       "      <td>383.000000</td>\n",
       "      <td>383.00000</td>\n",
       "      <td>383.000000</td>\n",
       "      <td>383.000000</td>\n",
       "      <td>383.000000</td>\n",
       "      <td>383.000000</td>\n",
       "      <td>383.000000</td>\n",
       "      <td>383.000000</td>\n",
       "    </tr>\n",
       "    <tr>\n",
       "      <th>mean</th>\n",
       "      <td>145.357555</td>\n",
       "      <td>144.926581</td>\n",
       "      <td>145.153286</td>\n",
       "      <td>145.136890</td>\n",
       "      <td>8.948558e+05</td>\n",
       "      <td>2.036554</td>\n",
       "      <td>16.180157</td>\n",
       "      <td>28.446475</td>\n",
       "      <td>0.000677</td>\n",
       "      <td>145.114123</td>\n",
       "      <td>...</td>\n",
       "      <td>144.729987</td>\n",
       "      <td>144.732247</td>\n",
       "      <td>0.342160</td>\n",
       "      <td>191.00000</td>\n",
       "      <td>-0.007862</td>\n",
       "      <td>-0.021213</td>\n",
       "      <td>145.396502</td>\n",
       "      <td>145.793256</td>\n",
       "      <td>145.814469</td>\n",
       "      <td>145.404365</td>\n",
       "    </tr>\n",
       "    <tr>\n",
       "      <th>std</th>\n",
       "      <td>1.881676</td>\n",
       "      <td>1.923867</td>\n",
       "      <td>1.905125</td>\n",
       "      <td>1.905707</td>\n",
       "      <td>7.658210e+05</td>\n",
       "      <td>1.402586</td>\n",
       "      <td>1.869127</td>\n",
       "      <td>17.278944</td>\n",
       "      <td>0.005474</td>\n",
       "      <td>1.852212</td>\n",
       "      <td>...</td>\n",
       "      <td>1.463139</td>\n",
       "      <td>1.450719</td>\n",
       "      <td>0.126779</td>\n",
       "      <td>110.70682</td>\n",
       "      <td>0.486920</td>\n",
       "      <td>0.470043</td>\n",
       "      <td>1.909489</td>\n",
       "      <td>1.876719</td>\n",
       "      <td>1.876746</td>\n",
       "      <td>1.898941</td>\n",
       "    </tr>\n",
       "    <tr>\n",
       "      <th>min</th>\n",
       "      <td>141.740005</td>\n",
       "      <td>140.639999</td>\n",
       "      <td>141.290100</td>\n",
       "      <td>141.300003</td>\n",
       "      <td>2.876820e+05</td>\n",
       "      <td>0.000000</td>\n",
       "      <td>13.000000</td>\n",
       "      <td>0.000000</td>\n",
       "      <td>-0.026430</td>\n",
       "      <td>141.884000</td>\n",
       "      <td>...</td>\n",
       "      <td>142.328769</td>\n",
       "      <td>142.341216</td>\n",
       "      <td>0.169937</td>\n",
       "      <td>0.00000</td>\n",
       "      <td>-2.194712</td>\n",
       "      <td>-1.643901</td>\n",
       "      <td>142.000000</td>\n",
       "      <td>142.820007</td>\n",
       "      <td>142.626763</td>\n",
       "      <td>141.983345</td>\n",
       "    </tr>\n",
       "    <tr>\n",
       "      <th>25%</th>\n",
       "      <td>143.748299</td>\n",
       "      <td>143.339996</td>\n",
       "      <td>143.585449</td>\n",
       "      <td>143.570801</td>\n",
       "      <td>5.297260e+05</td>\n",
       "      <td>1.000000</td>\n",
       "      <td>15.000000</td>\n",
       "      <td>15.000000</td>\n",
       "      <td>-0.002152</td>\n",
       "      <td>143.610400</td>\n",
       "      <td>...</td>\n",
       "      <td>143.742665</td>\n",
       "      <td>143.782284</td>\n",
       "      <td>0.255719</td>\n",
       "      <td>95.50000</td>\n",
       "      <td>-0.313292</td>\n",
       "      <td>-0.349143</td>\n",
       "      <td>143.830002</td>\n",
       "      <td>144.339996</td>\n",
       "      <td>144.254898</td>\n",
       "      <td>143.840151</td>\n",
       "    </tr>\n",
       "    <tr>\n",
       "      <th>50%</th>\n",
       "      <td>145.179993</td>\n",
       "      <td>144.729996</td>\n",
       "      <td>144.940002</td>\n",
       "      <td>144.929993</td>\n",
       "      <td>6.947890e+05</td>\n",
       "      <td>2.000000</td>\n",
       "      <td>16.000000</td>\n",
       "      <td>30.000000</td>\n",
       "      <td>0.000653</td>\n",
       "      <td>144.832977</td>\n",
       "      <td>...</td>\n",
       "      <td>144.228766</td>\n",
       "      <td>144.164824</td>\n",
       "      <td>0.283601</td>\n",
       "      <td>191.00000</td>\n",
       "      <td>-0.057176</td>\n",
       "      <td>-0.099606</td>\n",
       "      <td>145.040100</td>\n",
       "      <td>145.360001</td>\n",
       "      <td>145.496637</td>\n",
       "      <td>145.134543</td>\n",
       "    </tr>\n",
       "    <tr>\n",
       "      <th>75%</th>\n",
       "      <td>146.312500</td>\n",
       "      <td>145.940048</td>\n",
       "      <td>146.147499</td>\n",
       "      <td>146.135002</td>\n",
       "      <td>9.610725e+05</td>\n",
       "      <td>3.000000</td>\n",
       "      <td>18.000000</td>\n",
       "      <td>45.000000</td>\n",
       "      <td>0.003183</td>\n",
       "      <td>146.074001</td>\n",
       "      <td>...</td>\n",
       "      <td>145.163072</td>\n",
       "      <td>145.226152</td>\n",
       "      <td>0.478549</td>\n",
       "      <td>286.50000</td>\n",
       "      <td>0.258758</td>\n",
       "      <td>0.236678</td>\n",
       "      <td>146.259995</td>\n",
       "      <td>146.535004</td>\n",
       "      <td>146.811801</td>\n",
       "      <td>146.382471</td>\n",
       "    </tr>\n",
       "    <tr>\n",
       "      <th>max</th>\n",
       "      <td>150.229996</td>\n",
       "      <td>150.000000</td>\n",
       "      <td>150.209900</td>\n",
       "      <td>150.201096</td>\n",
       "      <td>8.262616e+06</td>\n",
       "      <td>4.000000</td>\n",
       "      <td>19.000000</td>\n",
       "      <td>55.000000</td>\n",
       "      <td>0.025792</td>\n",
       "      <td>150.035977</td>\n",
       "      <td>...</td>\n",
       "      <td>148.735247</td>\n",
       "      <td>148.763970</td>\n",
       "      <td>0.613187</td>\n",
       "      <td>382.00000</td>\n",
       "      <td>1.469358</td>\n",
       "      <td>1.554660</td>\n",
       "      <td>150.000000</td>\n",
       "      <td>150.229996</td>\n",
       "      <td>150.934828</td>\n",
       "      <td>150.569431</td>\n",
       "    </tr>\n",
       "  </tbody>\n",
       "</table>\n",
       "<p>8 rows × 35 columns</p>\n",
       "</div>"
      ],
      "text/plain": [
       "             high         low       close        open        volume  \\\n",
       "count  383.000000  383.000000  383.000000  383.000000  3.830000e+02   \n",
       "mean   145.357555  144.926581  145.153286  145.136890  8.948558e+05   \n",
       "std      1.881676    1.923867    1.905125    1.905707  7.658210e+05   \n",
       "min    141.740005  140.639999  141.290100  141.300003  2.876820e+05   \n",
       "25%    143.748299  143.339996  143.585449  143.570801  5.297260e+05   \n",
       "50%    145.179993  144.729996  144.940002  144.929993  6.947890e+05   \n",
       "75%    146.312500  145.940048  146.147499  146.135002  9.610725e+05   \n",
       "max    150.229996  150.000000  150.209900  150.201096  8.262616e+06   \n",
       "\n",
       "       day_of_week        hour      minute    Return_5  MovingAvg_5  ...  \\\n",
       "count   383.000000  383.000000  383.000000  383.000000   383.000000  ...   \n",
       "mean      2.036554   16.180157   28.446475    0.000677   145.114123  ...   \n",
       "std       1.402586    1.869127   17.278944    0.005474     1.852212  ...   \n",
       "min       0.000000   13.000000    0.000000   -0.026430   141.884000  ...   \n",
       "25%       1.000000   15.000000   15.000000   -0.002152   143.610400  ...   \n",
       "50%       2.000000   16.000000   30.000000    0.000653   144.832977  ...   \n",
       "75%       3.000000   18.000000   45.000000    0.003183   146.074001  ...   \n",
       "max       4.000000   19.000000   55.000000    0.025792   150.035977  ...   \n",
       "\n",
       "       MovingAvg_50  ExpMovingAvg_50  Volatility_50          x   delta_low  \\\n",
       "count    383.000000       383.000000     383.000000  383.00000  383.000000   \n",
       "mean     144.729987       144.732247       0.342160  191.00000   -0.007862   \n",
       "std        1.463139         1.450719       0.126779  110.70682    0.486920   \n",
       "min      142.328769       142.341216       0.169937    0.00000   -2.194712   \n",
       "25%      143.742665       143.782284       0.255719   95.50000   -0.313292   \n",
       "50%      144.228766       144.164824       0.283601  191.00000   -0.057176   \n",
       "75%      145.163072       145.226152       0.478549  286.50000    0.258758   \n",
       "max      148.735247       148.763970       0.613187  382.00000    1.469358   \n",
       "\n",
       "       delta_high  target_low  targets_high  high_predictions  low_predictions  \n",
       "count  383.000000  383.000000    383.000000        383.000000       383.000000  \n",
       "mean    -0.021213  145.396502    145.793256        145.814469       145.404365  \n",
       "std      0.470043    1.909489      1.876719          1.876746         1.898941  \n",
       "min     -1.643901  142.000000    142.820007        142.626763       141.983345  \n",
       "25%     -0.349143  143.830002    144.339996        144.254898       143.840151  \n",
       "50%     -0.099606  145.040100    145.360001        145.496637       145.134543  \n",
       "75%      0.236678  146.259995    146.535004        146.811801       146.382471  \n",
       "max      1.554660  150.000000    150.229996        150.934828       150.569431  \n",
       "\n",
       "[8 rows x 35 columns]"
      ]
     },
     "execution_count": 8,
     "metadata": {},
     "output_type": "execute_result"
    }
   ],
   "source": [
    "df.describe()"
   ]
  },
  {
   "cell_type": "code",
   "execution_count": 9,
   "id": "a4de61fc",
   "metadata": {},
   "outputs": [
    {
     "name": "stdout",
     "output_type": "stream",
     "text": [
      "           high         low       close        open   volume  day_of_week  \\\n",
      "373  149.460007  149.250000  149.445099  149.320007   536519            0   \n",
      "374  149.660004  149.274994  149.505295  149.449997   918315            0   \n",
      "375  149.690002  149.419998  149.664993  149.509995   744212            0   \n",
      "376  149.729996  149.520004  149.690002  149.666397   535734            0   \n",
      "377  149.869995  149.580002  149.789703  149.684906   807250            0   \n",
      "378  150.089996  149.720001  150.079895  149.785004  1609142            0   \n",
      "379  150.149994  149.770004  149.848495  150.070007  1059371            0   \n",
      "380  150.069901  149.830002  150.031601  149.839996   784439            0   \n",
      "381  150.229996  150.000000  150.209900  150.029999   894904            0   \n",
      "382  150.205002  149.890106  150.009995  150.201096   784361            0   \n",
      "\n",
      "     hour  minute  Return_5  MovingAvg_5  ...  MovingAvg_50  ExpMovingAvg_50  \\\n",
      "373    18      35  0.002534   149.295020  ...    148.260333       148.276274   \n",
      "374    18      40  0.002181   149.360080  ...    148.312839       148.324471   \n",
      "375    18      45  0.002781   149.443079  ...    148.362539       148.377040   \n",
      "376    18      50  0.002713   149.524078  ...    148.417739       148.428529   \n",
      "377    18      55  0.003179   149.619019  ...    148.482133       148.481908   \n",
      "378    19       0  0.004248   149.745978  ...    148.542331       148.544574   \n",
      "379    19       5  0.002296   149.814618  ...    148.593101       148.595709   \n",
      "380    19      10  0.002450   149.887939  ...    148.643849       148.652018   \n",
      "381    19      15  0.003473   149.991919  ...    148.696047       148.713111   \n",
      "382    19      20  0.001471   150.035977  ...    148.735247       148.763970   \n",
      "\n",
      "     Volatility_50    x  delta_low  delta_high  target_low  targets_high  \\\n",
      "373       0.199509  373   0.206374    0.119499  150.000000    150.229996   \n",
      "374       0.197548  374   0.104824   -0.038830  150.000000    150.229996   \n",
      "375       0.194940  375  -0.030927   -0.149407  150.000000    150.229996   \n",
      "376       0.190132  376  -0.057176   -0.155023  150.000000    150.229996   \n",
      "377       0.180517  377  -0.178133   -0.309252  150.000000    150.229996   \n",
      "378       0.172443  378  -0.477711   -0.629955  150.000000    150.229996   \n",
      "379       0.175275  379  -0.230431   -0.393195  150.000000    150.229996   \n",
      "380       0.175258  380  -0.369771   -0.498004  150.000000    150.229996   \n",
      "381       0.176021  381  -0.639439   -0.729827  149.929993    150.205002   \n",
      "382       0.169937  382  -0.443942   -0.630938  149.929993    150.130005   \n",
      "\n",
      "     high_predictions  low_predictions  \n",
      "373        150.110497       149.793626  \n",
      "374        150.268826       149.895176  \n",
      "375        150.379403       150.030927  \n",
      "376        150.385019       150.057176  \n",
      "377        150.539248       150.178133  \n",
      "378        150.859951       150.477711  \n",
      "379        150.623191       150.230431  \n",
      "380        150.727999       150.369771  \n",
      "381        150.934828       150.569431  \n",
      "382        150.760943       150.373934  \n",
      "\n",
      "[10 rows x 35 columns]\n"
     ]
    }
   ],
   "source": [
    "print(df.tail(10))"
   ]
  },
  {
   "cell_type": "code",
   "execution_count": 10,
   "id": "732ced38",
   "metadata": {},
   "outputs": [
    {
     "data": {
      "text/plain": [
       "\"\\ntable = pd.pivot_table(\\n    df, values='delta_low', index=['hour'],\\n    columns=['day_of_week'], aggfunc=np.mean)\\nprint(table)\""
      ]
     },
     "execution_count": 10,
     "metadata": {},
     "output_type": "execute_result"
    }
   ],
   "source": [
    "'''\n",
    "table = pd.pivot_table(\n",
    "    df, values='delta_low', index=['hour'],\n",
    "    columns=['day_of_week'], aggfunc=np.mean)\n",
    "print(table)'''"
   ]
  },
  {
   "cell_type": "code",
   "execution_count": 11,
   "id": "f812c9f8",
   "metadata": {},
   "outputs": [
    {
     "data": {
      "text/plain": [
       "\"table = pd.pivot_table(\\n    df, values='delta_high', index=['hour'],\\n    columns=['day_of_week'], aggfunc=np.mean)\\nprint(table)\""
      ]
     },
     "execution_count": 11,
     "metadata": {},
     "output_type": "execute_result"
    }
   ],
   "source": [
    "'''table = pd.pivot_table(\n",
    "    df, values='delta_high', index=['hour'],\n",
    "    columns=['day_of_week'], aggfunc=np.mean)\n",
    "print(table)'''"
   ]
  },
  {
   "cell_type": "code",
   "execution_count": 12,
   "id": "d9cd7999",
   "metadata": {},
   "outputs": [
    {
     "data": {
      "text/plain": [
       "\"print(df.groupby('hour')['delta_high'].mean())\\nprint(df.groupby('hour')['delta_high'].std())\""
      ]
     },
     "execution_count": 12,
     "metadata": {},
     "output_type": "execute_result"
    }
   ],
   "source": [
    "'''print(df.groupby('hour')['delta_high'].mean())\n",
    "print(df.groupby('hour')['delta_high'].std())'''"
   ]
  },
  {
   "cell_type": "code",
   "execution_count": 13,
   "id": "4de33d9a",
   "metadata": {},
   "outputs": [
    {
     "data": {
      "text/plain": [
       "\"print(df.groupby('hour')['delta_low'].mean())\\nprint(df.groupby('hour')['delta_low'].std())\""
      ]
     },
     "execution_count": 13,
     "metadata": {},
     "output_type": "execute_result"
    }
   ],
   "source": [
    "'''print(df.groupby('hour')['delta_low'].mean())\n",
    "print(df.groupby('hour')['delta_low'].std())'''"
   ]
  },
  {
   "cell_type": "code",
   "execution_count": null,
   "id": "4fbac804",
   "metadata": {},
   "outputs": [],
   "source": []
  }
 ],
 "metadata": {
  "kernelspec": {
   "display_name": "Python 3",
   "language": "python",
   "name": "python3"
  },
  "language_info": {
   "codemirror_mode": {
    "name": "ipython",
    "version": 3
   },
   "file_extension": ".py",
   "mimetype": "text/x-python",
   "name": "python",
   "nbconvert_exporter": "python",
   "pygments_lexer": "ipython3",
   "version": "3.8.8"
  }
 },
 "nbformat": 4,
 "nbformat_minor": 5
}
