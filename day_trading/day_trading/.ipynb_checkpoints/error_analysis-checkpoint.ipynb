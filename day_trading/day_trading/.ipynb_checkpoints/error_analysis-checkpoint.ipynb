{
 "cells": [
  {
   "cell_type": "code",
   "execution_count": 1,
   "id": "61e84805",
   "metadata": {},
   "outputs": [],
   "source": [
    "# Define ticket\n",
    "ticket = 'AAPL'\n",
    "\n",
    "# Use a new working directory for relative imports\n",
    "from sys import path\n",
    "import os\n",
    "\n",
    "os.chdir(os.path.dirname(path[0]))\n",
    "# print(\"New Working Directory \" , os.getcwd())"
   ]
  },
  {
   "cell_type": "code",
   "execution_count": 2,
   "id": "123a7e9c",
   "metadata": {},
   "outputs": [
    {
     "name": "stdout",
     "output_type": "stream",
     "text": [
      "Getting the data for the ticket\n",
      "Getting data for AAPL\n",
      "Convert the HTTP response into a pandas DataFrame\n",
      "Processing data for AAPL\n",
      "Processing data for AAPL\n",
      "Processing data for AAPL\n",
      "There are 6981 data points.\n",
      "Calculating the cummulative features.\n",
      "Defining the targets.\n",
      "# Samples with NaN: 6981\n",
      "# Samples without NaN: 6975\n",
      "Two weeks ago: 2022-11-03 17:24:20.840888\n",
      "Defining the training data.\n",
      "Defining the test data.\n",
      "Training distribution High: 0 (20.99%) - 1 (79.01%)\n",
      "Validation distribution High: 0 (30.42%) - 1 (69.58%)\n",
      "Training distribution Low: 0 (90.63%) - 1 (9.37%)\n",
      "Validation distribution Low: 0 (83.81%) - 1 (16.19%)\n",
      "            high         low       close        open   volume  day_of_week  \\\n",
      "6212  140.175003  139.960007  140.054993  140.130005   674799            3   \n",
      "6213  140.100006  139.919998  140.024994  140.050003   418230            3   \n",
      "6214  140.160004  139.880005  140.100006  140.024994  2420045            3   \n",
      "6215  140.199997  139.990005  140.009995  140.100006   348222            3   \n",
      "6216  140.082108  139.889999  139.960007  139.889999   381977            3   \n",
      "6217  140.020004  139.759995  139.904999  139.958801   534867            3   \n",
      "6218  139.939896  139.520004  139.520004  139.929993   609181            3   \n",
      "6219  139.639999  139.350006  139.389999  139.529999  1140479            3   \n",
      "6220  139.460007  139.210007  139.410004  139.389999   888830            3   \n",
      "6221  139.419998  139.085007  139.360001  139.410004  1198240            3   \n",
      "\n",
      "      hour  minute  Return_high_3  Return_low_3        RSI      MACD  \\\n",
      "6212    17      25      -0.002313     -0.002210  41.210208  0.102676   \n",
      "6213    17      30      -0.003981     -0.003419  40.313052  0.113835   \n",
      "6214    17      35      -0.002207     -0.001642  44.494974  0.115581   \n",
      "6215    17      40       0.000178      0.000214  40.560272  0.122165   \n",
      "6216    17      45      -0.000128     -0.000214  44.930508  0.129478   \n",
      "6217    17      50      -0.000999     -0.000858  42.180425  0.137640   \n",
      "6218    17      55      -0.001855     -0.003357  27.422426  0.170729   \n",
      "6219    18       0      -0.003156     -0.003860  24.100130  0.203987   \n",
      "6220    18       5      -0.003999     -0.003935  25.586506  0.225890   \n",
      "6221    18      10      -0.003715     -0.003118  24.218594  0.243852   \n",
      "\n",
      "      MACD_Signal  MACD_Histogram      VWAP  future_high  future_low  \n",
      "6212     0.160111       -0.057434  0.000167   140.199997  139.880005  \n",
      "6213     0.150856       -0.037020  0.000167   140.199997  139.880005  \n",
      "6214     0.143801       -0.028219  0.000167   140.199997  139.759995  \n",
      "6215     0.139474       -0.017309  0.000167   140.082108  139.520004  \n",
      "6216     0.137474       -0.007996  0.000167   140.020004  139.350006  \n",
      "6217     0.137508        0.000132  0.000167   139.939896  139.210007  \n",
      "6218     0.144152        0.026577  0.000167   139.639999  139.085007  \n",
      "6219     0.156119        0.047868  0.000167   139.570007  139.085007  \n",
      "6220     0.170073        0.055817  0.000167   140.000000  139.085007  \n",
      "6221     0.184829        0.059023  0.000167   140.119995  139.321106  \n"
     ]
    }
   ],
   "source": [
    "from day_trading.files import DayTradingFiles\n",
    "from day_trading.dataset import DayTradingDataset\n",
    "from sklearn.linear_model import LogisticRegression\n",
    "from xgboost import XGBClassifier\n",
    "import pandas as pd\n",
    "import os\n",
    "\n",
    "# Prepare the models, targets, and features\n",
    "files = DayTradingFiles()\n",
    "dataset = DayTradingDataset()\n",
    "\n",
    "(\n",
    "    features_train_df, target_high_train, target_low_train,\n",
    "    features_test_df, target_high_test, target_low_test\n",
    ") = dataset.test_train_split(ticket, 'long')\n",
    "\n",
    "\n",
    "high_model = LogisticRegression()\n",
    "low_model = LogisticRegression()\n",
    "\n",
    "# Train the models\n",
    "high_model.fit(features_train_df, target_high_train)\n",
    "low_model.fit(features_train_df, target_low_train)\n",
    "\n",
    "num_train_samples = features_train_df.shape[0]\n",
    "num_test_samples = features_test_df.shape[0]\n",
    "print(f'Training distribution High: 0 ({(num_train_samples - sum(target_high_train))*100/num_train_samples:0.2f}%) - 1 ({sum(target_high_train)*100/num_train_samples:0.2f}%)')\n",
    "print(f'Validation distribution High: 0 ({(num_test_samples - sum(target_high_test))*100/num_test_samples:0.2f}%) - 1 ({sum(target_high_test)*100/num_test_samples:0.2f}%)')\n",
    "print(f'Training distribution Low: 0 ({(num_train_samples - sum(target_low_train))*100/num_train_samples:0.2f}%) - 1 ({sum(target_low_train)*100/num_train_samples:0.2f}%)')\n",
    "print(f'Validation distribution Low: 0 ({(num_test_samples - sum(target_low_test))*100/num_test_samples:0.2f}%) - 1 ({sum(target_low_test)*100/num_test_samples:0.2f}%)')\n",
    "\n",
    "print(features_test_df.head(10))"
   ]
  },
  {
   "cell_type": "code",
   "execution_count": 3,
   "id": "f947832b",
   "metadata": {},
   "outputs": [
    {
     "name": "stdout",
     "output_type": "stream",
     "text": [
      "Feature Importance for high regressor:\n",
      "['volume', -6.963215027184919e-07]\n",
      "['MACD', -6.050301294675436e-08]\n",
      "['MACD_Signal', -4.737262123369874e-08]\n",
      "['MACD_Histogram', -1.3130391713055335e-08]\n",
      "['Return_high_3', -6.603832567375034e-09]\n",
      "['Return_low_3', -9.690526450095568e-10]\n",
      "['VWAP', 2.612286533795128e-09]\n",
      "['day_of_week', 2.603812328965135e-05]\n",
      "['hour', 0.00022810216529973263]\n",
      "['minute', 0.0003264744912359893]\n",
      "['RSI', 0.0006781841263543012]\n",
      "['future_low', 0.0021416871717926337]\n",
      "['future_high', 0.0021424973740229105]\n",
      "['low', 0.0021480879822032475]\n",
      "['close', 0.002149239192565999]\n",
      "['open', 0.002149295004153369]\n",
      "['high', 0.002150107942529101]\n",
      "--------------------------------------\n",
      "Feature Importance for low regressor:\n",
      "['future_low', -0.0031813041885193705]\n",
      "['future_high', -0.003180444427386655]\n",
      "['high', -0.003173523321312882]\n",
      "['close', -0.003172241699388583]\n",
      "['open', -0.003172090408464433]\n",
      "['low', -0.0031707272154201925]\n",
      "['RSI', -0.0010496238568997217]\n",
      "['minute', -0.0004730673894464879]\n",
      "['hour', -0.0003380670539004744]\n",
      "['day_of_week', -3.76513870725343e-05]\n",
      "['MACD_Signal', -1.431457294967376e-07]\n",
      "['Return_low_3', -1.779921929439712e-08]\n",
      "['Return_high_3', -8.383412048046062e-09]\n",
      "['VWAP', -3.854371918390522e-09]\n",
      "['MACD', 2.0230669951965925e-07]\n",
      "['MACD_Histogram', 3.4545242901639685e-07]\n",
      "['volume', 6.682422527508477e-07]\n"
     ]
    },
    {
     "data": {
      "text/plain": [
       "\"\\nsorted_idx = np.argsort(high_regressor.feature_importances_)[::-1]\\nprint(f'Feature Importance for high regressor:')\\nfor index in sorted_idx:\\n    print([features_test_df.columns[index], high_regressor.feature_importances_[index]])\\n\\nprint('--------------------------------------')\\nsorted_idx = np.argsort(low_regressor.feature_importances_)[::-1]\\nprint(f'Feature Importance for low regressor:')\\nfor index in sorted_idx:\\n    print([features_test_df.columns[index], low_regressor.feature_importances_[index]])\\n\""
      ]
     },
     "execution_count": 3,
     "metadata": {},
     "output_type": "execute_result"
    }
   ],
   "source": [
    "import numpy as np\n",
    "\n",
    "# Feature importance\n",
    "sorted_idx = np.argsort(high_model.coef_)[::-1][0]\n",
    "print(f'Feature Importance for high regressor:')\n",
    "for index in sorted_idx:\n",
    "    print([features_train_df.columns[index], high_model.coef_[0][index]])\n",
    "\n",
    "print('--------------------------------------')\n",
    "sorted_idx = np.argsort(low_model.coef_)[::-1][0]\n",
    "print(f'Feature Importance for low regressor:')\n",
    "for index in sorted_idx:\n",
    "    print([features_train_df.columns[index], low_model.coef_[0][index]])\n",
    "\n",
    "\"\"\"\n",
    "sorted_idx = np.argsort(high_regressor.feature_importances_)[::-1]\n",
    "print(f'Feature Importance for high regressor:')\n",
    "for index in sorted_idx:\n",
    "    print([features_test_df.columns[index], high_regressor.feature_importances_[index]])\n",
    "\n",
    "print('--------------------------------------')\n",
    "sorted_idx = np.argsort(low_regressor.feature_importances_)[::-1]\n",
    "print(f'Feature Importance for low regressor:')\n",
    "for index in sorted_idx:\n",
    "    print([features_test_df.columns[index], low_regressor.feature_importances_[index]])\n",
    "\"\"\""
   ]
  },
  {
   "cell_type": "code",
   "execution_count": 4,
   "id": "e1093f2c",
   "metadata": {},
   "outputs": [
    {
     "name": "stdout",
     "output_type": "stream",
     "text": [
      "Sample High Predictions: [1 1 1 1 1 1 1 1 1 1 1 1 1 1 1 1 1 1 1 1]\n"
     ]
    }
   ],
   "source": [
    "# Make predictions\n",
    "high_predictions = high_model.predict(features_test_df)\n",
    "low_predictions = low_model.predict(features_test_df)\n",
    "\n",
    "print(f'Sample High Predictions: {high_predictions[:20]}')"
   ]
  },
  {
   "cell_type": "code",
   "execution_count": 5,
   "id": "3d295280",
   "metadata": {},
   "outputs": [
    {
     "name": "stdout",
     "output_type": "stream",
     "text": [
      "Low Precision: 0.7272727272727273\n",
      "Low Recall: 0.06451612903225806\n",
      "Low Accuracy: 0.8446475195822454\n",
      "Low F1-Score: 0.11851851851851852\n",
      "Low Confusion Matrix:\n",
      "\n",
      "----------------------------------\n",
      "High Precision: 0.7023004059539919\n",
      "High Recall: 0.9737335834896811\n",
      "High Accuracy: 0.6945169712793734\n",
      "High F1-Score: 0.8160377358490565\n",
      "High Confusion Matrix:\n",
      "\n"
     ]
    },
    {
     "data": {
      "image/png": "[encoded data removed]",
      "text/plain": [
       "<Figure size 432x288 with 2 Axes>"
      ]
     },
     "metadata": {
      "needs_background": "light"
     },
     "output_type": "display_data"
    },
    {
     "data": {
      "image/png": "[encoded data removed]",
      "text/plain": [
       "<Figure size 432x288 with 2 Axes>"
      ]
     },
     "metadata": {
      "needs_background": "light"
     },
     "output_type": "display_data"
    }
   ],
   "source": [
    "from sklearn.metrics import (\n",
    "    precision_score, recall_score, accuracy_score,\n",
    "    confusion_matrix, f1_score, ConfusionMatrixDisplay\n",
    ")\n",
    "\n",
    "print(f'Low Precision: {precision_score(target_low_test, low_predictions)}')\n",
    "print(f'Low Recall: {recall_score(target_low_test, low_predictions)}')\n",
    "print(f'Low Accuracy: {accuracy_score(target_low_test, low_predictions)}')\n",
    "print(f'Low F1-Score: {f1_score(target_low_test, low_predictions)}')\n",
    "print(f'Low Confusion Matrix:\\n')\n",
    "cm_display = ConfusionMatrixDisplay(confusion_matrix(target_low_test, low_predictions)).plot()\n",
    "\n",
    "print('----------------------------------')\n",
    "print(f'High Precision: {precision_score(target_high_test, high_predictions)}')\n",
    "print(f'High Recall: {recall_score(target_high_test, high_predictions)}')\n",
    "print(f'High Accuracy: {accuracy_score(target_high_test, high_predictions)}')\n",
    "print(f'High F1-Score: {f1_score(target_high_test, high_predictions)}')\n",
    "print(f'High Confusion Matrix:\\n')\n",
    "cm_display = ConfusionMatrixDisplay(confusion_matrix(target_high_test, high_predictions)).plot()"
   ]
  },
  {
   "cell_type": "code",
   "execution_count": null,
   "id": "8cf79104",
   "metadata": {},
   "outputs": [
    {
     "name": "stdout",
     "output_type": "stream",
     "text": [
      "Sample High Deltas: [ 0  0  0  0  0  0  0  0 -1 -1 -1  0  0  0  0 -1  0  0  0  0]\n"
     ]
    },
    {
     "data": {
      "text/plain": [
       "<AxesSubplot:xlabel='x', ylabel='delta_high'>"
      ]
     },
     "execution_count": 6,
     "metadata": {},
     "output_type": "execute_result"
    }
   ],
   "source": [
    "import seaborn as sns\n",
    "sns.set(rc={'figure.figsize':(12, 9)})\n",
    "\n",
    "# Analyze the errors\n",
    "delta_high_values = target_high_test - high_predictions\n",
    "delta_low_values = target_low_test - low_predictions\n",
    "\n",
    "df = features_test_df.copy()\n",
    "df['x'] = df.index\n",
    "df['delta_low'] = delta_low_values\n",
    "df['delta_high'] = delta_high_values\n",
    "df['target_low'] = target_low_test\n",
    "df['targets_high'] = target_high_test\n",
    "df['high_predictions'] = high_predictions\n",
    "df['low_predictions'] = low_predictions\n",
    "\n",
    "print(f'Sample High Deltas: {delta_high_values[:20]}')\n",
    "\n",
    "sns.barplot(data=df, x=\"x\", y=\"delta_high\")"
   ]
  },
  {
   "cell_type": "code",
   "execution_count": null,
   "id": "f33644a3",
   "metadata": {},
   "outputs": [],
   "source": [
    "sns.barplot(data=df, x=\"x\", y=\"delta_low\")"
   ]
  },
  {
   "cell_type": "code",
   "execution_count": null,
   "id": "2289cbe1",
   "metadata": {},
   "outputs": [],
   "source": [
    "df.describe()"
   ]
  },
  {
   "cell_type": "code",
   "execution_count": null,
   "id": "a4de61fc",
   "metadata": {},
   "outputs": [],
   "source": [
    "print(df.tail(10))"
   ]
  },
  {
   "cell_type": "code",
   "execution_count": null,
   "id": "732ced38",
   "metadata": {},
   "outputs": [],
   "source": [
    "table = pd.pivot_table(\n",
    "    df, values='delta_low', index=['hour'],\n",
    "    columns=['day_of_week'], aggfunc=np.mean)\n",
    "print(table)\n",
    "\n",
    "print('------------------------------------------------------------------------')\n",
    "\n",
    "table = pd.pivot_table(\n",
    "    df, values='delta_low', index=['hour'],\n",
    "    columns=['minute'], aggfunc=np.mean)\n",
    "print(table)"
   ]
  },
  {
   "cell_type": "code",
   "execution_count": null,
   "id": "f812c9f8",
   "metadata": {},
   "outputs": [],
   "source": [
    "table = pd.pivot_table(\n",
    "    df, values='delta_high', index=['hour'],\n",
    "    columns=['day_of_week'], aggfunc=np.mean)\n",
    "print(table)"
   ]
  },
  {
   "cell_type": "code",
   "execution_count": null,
   "id": "d9cd7999",
   "metadata": {},
   "outputs": [],
   "source": [
    "print(df.groupby('hour')['delta_high'].mean())\n",
    "print(df.groupby('hour')['delta_high'].std())"
   ]
  },
  {
   "cell_type": "code",
   "execution_count": null,
   "id": "4de33d9a",
   "metadata": {},
   "outputs": [],
   "source": [
    "print(df.groupby('hour')['delta_low'].mean())\n",
    "print(df.groupby('hour')['delta_low'].std())"
   ]
  },
  {
   "cell_type": "code",
   "execution_count": null,
   "id": "4fbac804",
   "metadata": {},
   "outputs": [],
   "source": []
  }
 ],
 "metadata": {
  "kernelspec": {
   "display_name": "Python 3",
   "language": "python",
   "name": "python3"
  },
  "language_info": {
   "codemirror_mode": {
    "name": "ipython",
    "version": 3
   },
   "file_extension": ".py",
   "mimetype": "text/x-python",
   "name": "python",
   "nbconvert_exporter": "python",
   "pygments_lexer": "ipython3",
   "version": "3.8.8"
  }
 },
 "nbformat": 4,
 "nbformat_minor": 5
}
