{
 "cells": [
  {
   "cell_type": "code",
   "execution_count": 1,
   "id": "61e84805",
   "metadata": {},
   "outputs": [],
   "source": [
    "# Use a new working directory for relative imports\n",
    "from sys import path\n",
    "import os\n",
    "\n",
    "os.chdir(os.path.dirname(path[0]))\n",
    "# print(\"New Working Directory \" , os.getcwd())"
   ]
  },
  {
   "cell_type": "code",
   "execution_count": null,
   "id": "123a7e9c",
   "metadata": {},
   "outputs": [],
   "source": [
    "from day_trading.files import DayTradingFiles\n",
    "import pandas as pd\n",
    "import json\n",
    "import joblib\n",
    "\n",
    "# Prepare the models, targets, and features\n",
    "files = DayTradingFiles()\n",
    "\n",
    "high_regressor = joblib.load(files.high_model_filepath)\n",
    "low_regressor = joblib.load(files.low_model_filepath)\n",
    "\n",
    "with open(files.target_high_filepath) as json_file:\n",
    "    targets_high = json.load(json_file)\n",
    "\n",
    "with open(files.target_low_filepath) as json_file:\n",
    "    targets_low = json.load(json_file)\n",
    "\n",
    "features = pd.read_csv(files.features_filepath)\n"
   ]
  },
  {
   "cell_type": "code",
   "execution_count": 3,
   "id": "f947832b",
   "metadata": {},
   "outputs": [
    {
     "name": "stdout",
     "output_type": "stream",
     "text": [
      "Feature Importance for high regressor:\n",
      "['Return_5', 10.689267635328696]\n",
      "['ExpMovingAvg_10', 9.315294018517983]\n",
      "['ExpMovingAvg_30', 2.67463224463544]\n",
      "['close', 1.3951734531864588]\n",
      "['MovingAvg_30', 1.1297608287811618]\n",
      "['MovingAvg_20', 0.6293848542775047]\n",
      "['MovingAvg_50', 0.41383935140296657]\n",
      "['Return_50', 0.39789082456247277]\n",
      "['Volatility_10', 0.3311546576983974]\n",
      "['Volatility_30', 0.2558086171505988]\n",
      "['open', 0.2537683385213928]\n",
      "['high', 0.23834624688318864]\n",
      "['Volatility_5', 0.1718325066015568]\n",
      "['hour', 0.05203054054024949]\n",
      "['MovingAvg_10', 0.031775586235240426]\n",
      "['day_of_week', 0.00486396185894492]\n",
      "['minute', 0.0024223756465242973]\n",
      "['volume', 7.169191673874744e-08]\n",
      "['MovingAvg_5', -0.05734328898746615]\n",
      "['Volatility_20', -0.17538153469776419]\n",
      "['ExpMovingAvg_50', -0.2924440733820855]\n",
      "['low', -0.30260043392752733]\n",
      "['Volatility_50', -0.7252310148842075]\n",
      "['Return_10', -2.344911949935965]\n",
      "['ExpMovingAvg_5', -3.8709282623848478]\n",
      "['Return_30', -6.112580298333686]\n",
      "['Return_20', -6.691691110208366]\n",
      "['ExpMovingAvg_20', -10.569163555534848]\n",
      "--------------------------------------\n",
      "Feature Importance for low regressor:\n",
      "['Return_5', 10.20436230412761]\n",
      "['ExpMovingAvg_10', 8.538128664246445]\n",
      "['ExpMovingAvg_30', 3.0860155038417374]\n",
      "['close', 1.3994976201684806]\n",
      "['MovingAvg_30', 1.0949278503576512]\n",
      "['MovingAvg_20', 0.6810725037000523]\n",
      "['Return_50', 0.6222237192632558]\n",
      "['MovingAvg_50', 0.32418213527144657]\n",
      "['Volatility_10', 0.22748122919266392]\n",
      "['open', 0.19662236007741446]\n",
      "['MovingAvg_10', 0.17936438553597253]\n",
      "['Volatility_30', 0.17308010606201557]\n",
      "['high', 0.09764636674032195]\n",
      "['Volatility_5', 0.09344913262213994]\n",
      "['hour', 0.030825839620016064]\n",
      "['day_of_week', 0.002987026034926169]\n",
      "['minute', 0.001507446328782993]\n",
      "['volume', 3.0356926903930613e-08]\n",
      "['MovingAvg_5', -0.08641389280685216]\n",
      "['low', -0.13785883637012095]\n",
      "['ExpMovingAvg_50', -0.36745878823765155]\n",
      "['Volatility_20', -0.369752340615933]\n",
      "['Volatility_50', -0.449248531122873]\n",
      "['ExpMovingAvg_5', -3.390984517341069]\n",
      "['Return_10', -3.8599186444011013]\n",
      "['Return_30', -7.020472491900127]\n",
      "['Return_20', -7.644899180633085]\n",
      "['ExpMovingAvg_20', -10.621310901770528]\n"
     ]
    },
    {
     "data": {
      "text/plain": [
       "\"\\nsorted_idx = np.argsort(high_regressor.feature_importances_)[::-1]\\nprint(f'Feature Importance for high regressor:')\\nfor index in sorted_idx:\\n    print([features.columns[index], high_regressor.feature_importances_[index]])\\n\\nprint('--------------------------------------')\\nsorted_idx = np.argsort(low_regressor.feature_importances_)[::-1]\\nprint(f'Feature Importance for low regressor:')\\nfor index in sorted_idx:\\n    print([features.columns[index], low_regressor.feature_importances_[index]])\\n\""
      ]
     },
     "execution_count": 3,
     "metadata": {},
     "output_type": "execute_result"
    }
   ],
   "source": [
    "import numpy as np\n",
    "\n",
    "# Feature importance\n",
    "sorted_idx = np.argsort(high_regressor.coef_)[::-1]\n",
    "print(f'Feature Importance for high regressor:')\n",
    "for index in sorted_idx:\n",
    "    print([features.columns[index], high_regressor.coef_[index]])\n",
    "\n",
    "print('--------------------------------------')\n",
    "sorted_idx = np.argsort(low_regressor.coef_)[::-1]\n",
    "print(f'Feature Importance for low regressor:')\n",
    "for index in sorted_idx:\n",
    "    print([features.columns[index], low_regressor.coef_[index]])\n",
    "\n",
    "\"\"\"\n",
    "sorted_idx = np.argsort(high_regressor.feature_importances_)[::-1]\n",
    "print(f'Feature Importance for high regressor:')\n",
    "for index in sorted_idx:\n",
    "    print([features.columns[index], high_regressor.feature_importances_[index]])\n",
    "\n",
    "print('--------------------------------------')\n",
    "sorted_idx = np.argsort(low_regressor.feature_importances_)[::-1]\n",
    "print(f'Feature Importance for low regressor:')\n",
    "for index in sorted_idx:\n",
    "    print([features.columns[index], low_regressor.feature_importances_[index]])\n",
    "\"\"\""
   ]
  },
  {
   "cell_type": "code",
   "execution_count": 4,
   "id": "e1093f2c",
   "metadata": {},
   "outputs": [
    {
     "name": "stdout",
     "output_type": "stream",
     "text": [
      "Sample High Predictions: [143.33285091 142.15387198 142.77309946 143.11236119 143.34493624\n",
      " 143.01859286 142.91733455 142.4244569  142.43333612 142.54886879\n",
      " 142.77013636 142.92168402 143.5036476  143.38856369 142.99657044\n",
      " 142.67046882 142.79156533 142.90907291 143.14215142 143.58574736]\n"
     ]
    }
   ],
   "source": [
    "# Make predictions\n",
    "high_predictions = high_regressor.predict(features)\n",
    "low_predictions = low_regressor.predict(features)\n",
    "\n",
    "print(f'Sample High Predictions: {high_predictions[:20]}')"
   ]
  },
  {
   "cell_type": "code",
   "execution_count": 5,
   "id": "3d295280",
   "metadata": {},
   "outputs": [
    {
     "name": "stdout",
     "output_type": "stream",
     "text": [
      "MAE Low: 0.36400479102615224\n",
      "MAE High: 0.3889164524778851\n"
     ]
    }
   ],
   "source": [
    "from sklearn.metrics import mean_absolute_error\n",
    "\n",
    "low_mae = mean_absolute_error(targets_low, low_predictions)\n",
    "high_mae = mean_absolute_error(targets_high, high_predictions)\n",
    "\n",
    "print(f'MAE Low: {low_mae}')\n",
    "print(f'MAE High: {high_mae}')"
   ]
  },
  {
   "cell_type": "code",
   "execution_count": 6,
   "id": "8cf79104",
   "metadata": {},
   "outputs": [
    {
     "name": "stdout",
     "output_type": "stream",
     "text": [
      "Sample High Deltas: [-0.7228503   0.45612863 -0.16309885 -0.50236058 -0.51493441 -0.12859347\n",
      " -0.02733516  0.46554249  0.45666327  0.3411306   0.11986303  0.06821467\n",
      " -0.51374891 -0.28855758  0.10343566  0.42953728  0.30844078  0.19093319\n",
      " -0.04214532 -0.48574126]\n"
     ]
    },
    {
     "data": {
      "text/plain": [
       "<AxesSubplot:xlabel='x', ylabel='delta_high'>"
      ]
     },
     "execution_count": 6,
     "metadata": {},
     "output_type": "execute_result"
    },
    {
     "data": {
      "image/png": "[encoded data removed]",
      "text/plain": [
       "<Figure size 864x648 with 1 Axes>"
      ]
     },
     "metadata": {},
     "output_type": "display_data"
    }
   ],
   "source": [
    "import seaborn as sns\n",
    "sns.set(rc={'figure.figsize':(12, 9)})\n",
    "\n",
    "# Analyze the errors\n",
    "delta_high_values = targets_high - high_predictions\n",
    "delta_low_values = targets_low - low_predictions\n",
    "\n",
    "df = features.copy()\n",
    "df['x'] = df.index\n",
    "df['delta_low'] = delta_low_values\n",
    "df['delta_high'] = delta_high_values\n",
    "df['target_low'] = targets_low\n",
    "df['targets_high'] = targets_high\n",
    "df['high_predictions'] = high_predictions\n",
    "df['low_predictions'] = low_predictions\n",
    "\n",
    "print(f'Sample High Deltas: {delta_high_values[:20]}')\n",
    "\n",
    "sns.barplot(data=df, x=\"x\", y=\"delta_high\")"
   ]
  },
  {
   "cell_type": "code",
   "execution_count": 7,
   "id": "f33644a3",
   "metadata": {},
   "outputs": [
    {
     "data": {
      "text/plain": [
       "<AxesSubplot:xlabel='x', ylabel='delta_low'>"
      ]
     },
     "execution_count": 7,
     "metadata": {},
     "output_type": "execute_result"
    },
    {
     "data": {
      "image/png": "[encoded data removed]",
      "text/plain": [
       "<Figure size 864x648 with 1 Axes>"
      ]
     },
     "metadata": {},
     "output_type": "display_data"
    }
   ],
   "source": [
    "sns.barplot(data=df, x=\"x\", y=\"delta_low\")"
   ]
  },
  {
   "cell_type": "code",
   "execution_count": 8,
   "id": "2289cbe1",
   "metadata": {},
   "outputs": [
    {
     "data": {
      "text/html": [
       "<div>\n",
       "<style scoped>\n",
       "    .dataframe tbody tr th:only-of-type {\n",
       "        vertical-align: middle;\n",
       "    }\n",
       "\n",
       "    .dataframe tbody tr th {\n",
       "        vertical-align: top;\n",
       "    }\n",
       "\n",
       "    .dataframe thead th {\n",
       "        text-align: right;\n",
       "    }\n",
       "</style>\n",
       "<table border=\"1\" class=\"dataframe\">\n",
       "  <thead>\n",
       "    <tr style=\"text-align: right;\">\n",
       "      <th></th>\n",
       "      <th>high</th>\n",
       "      <th>low</th>\n",
       "      <th>close</th>\n",
       "      <th>open</th>\n",
       "      <th>volume</th>\n",
       "      <th>day_of_week</th>\n",
       "      <th>hour</th>\n",
       "      <th>minute</th>\n",
       "      <th>Return_5</th>\n",
       "      <th>MovingAvg_5</th>\n",
       "      <th>...</th>\n",
       "      <th>MovingAvg_50</th>\n",
       "      <th>ExpMovingAvg_50</th>\n",
       "      <th>Volatility_50</th>\n",
       "      <th>x</th>\n",
       "      <th>delta_low</th>\n",
       "      <th>delta_high</th>\n",
       "      <th>target_low</th>\n",
       "      <th>targets_high</th>\n",
       "      <th>high_predictions</th>\n",
       "      <th>low_predictions</th>\n",
       "    </tr>\n",
       "  </thead>\n",
       "  <tbody>\n",
       "    <tr>\n",
       "      <th>count</th>\n",
       "      <td>383.000000</td>\n",
       "      <td>383.000000</td>\n",
       "      <td>383.000000</td>\n",
       "      <td>383.000000</td>\n",
       "      <td>3.830000e+02</td>\n",
       "      <td>383.000000</td>\n",
       "      <td>383.000000</td>\n",
       "      <td>383.000000</td>\n",
       "      <td>383.000000</td>\n",
       "      <td>383.000000</td>\n",
       "      <td>...</td>\n",
       "      <td>383.000000</td>\n",
       "      <td>383.000000</td>\n",
       "      <td>383.000000</td>\n",
       "      <td>383.00000</td>\n",
       "      <td>383.000000</td>\n",
       "      <td>383.000000</td>\n",
       "      <td>383.000000</td>\n",
       "      <td>383.000000</td>\n",
       "      <td>383.000000</td>\n",
       "      <td>383.000000</td>\n",
       "    </tr>\n",
       "    <tr>\n",
       "      <th>mean</th>\n",
       "      <td>144.006100</td>\n",
       "      <td>143.621528</td>\n",
       "      <td>143.824493</td>\n",
       "      <td>143.812235</td>\n",
       "      <td>1.071839e+06</td>\n",
       "      <td>1.981723</td>\n",
       "      <td>16.180157</td>\n",
       "      <td>28.446475</td>\n",
       "      <td>0.000320</td>\n",
       "      <td>143.807425</td>\n",
       "      <td>...</td>\n",
       "      <td>143.552757</td>\n",
       "      <td>143.585893</td>\n",
       "      <td>0.294320</td>\n",
       "      <td>191.00000</td>\n",
       "      <td>-0.067703</td>\n",
       "      <td>-0.149428</td>\n",
       "      <td>144.057583</td>\n",
       "      <td>144.404476</td>\n",
       "      <td>144.553904</td>\n",
       "      <td>144.125286</td>\n",
       "    </tr>\n",
       "    <tr>\n",
       "      <th>std</th>\n",
       "      <td>2.272185</td>\n",
       "      <td>2.307626</td>\n",
       "      <td>2.287670</td>\n",
       "      <td>2.282122</td>\n",
       "      <td>8.864986e+05</td>\n",
       "      <td>1.422401</td>\n",
       "      <td>1.869127</td>\n",
       "      <td>17.278944</td>\n",
       "      <td>0.004239</td>\n",
       "      <td>2.271679</td>\n",
       "      <td>...</td>\n",
       "      <td>2.143263</td>\n",
       "      <td>2.050849</td>\n",
       "      <td>0.070494</td>\n",
       "      <td>110.70682</td>\n",
       "      <td>0.479384</td>\n",
       "      <td>0.485754</td>\n",
       "      <td>2.244789</td>\n",
       "      <td>2.245286</td>\n",
       "      <td>2.248250</td>\n",
       "      <td>2.271331</td>\n",
       "    </tr>\n",
       "    <tr>\n",
       "      <th>min</th>\n",
       "      <td>138.729996</td>\n",
       "      <td>137.684998</td>\n",
       "      <td>138.000000</td>\n",
       "      <td>138.210007</td>\n",
       "      <td>2.909000e+05</td>\n",
       "      <td>0.000000</td>\n",
       "      <td>13.000000</td>\n",
       "      <td>0.000000</td>\n",
       "      <td>-0.012805</td>\n",
       "      <td>138.514996</td>\n",
       "      <td>...</td>\n",
       "      <td>140.102064</td>\n",
       "      <td>140.105318</td>\n",
       "      <td>0.143277</td>\n",
       "      <td>0.00000</td>\n",
       "      <td>-1.643507</td>\n",
       "      <td>-1.985554</td>\n",
       "      <td>138.985001</td>\n",
       "      <td>139.779999</td>\n",
       "      <td>139.651284</td>\n",
       "      <td>138.796402</td>\n",
       "    </tr>\n",
       "    <tr>\n",
       "      <th>25%</th>\n",
       "      <td>141.830002</td>\n",
       "      <td>141.400002</td>\n",
       "      <td>141.683899</td>\n",
       "      <td>141.682495</td>\n",
       "      <td>6.190895e+05</td>\n",
       "      <td>1.000000</td>\n",
       "      <td>15.000000</td>\n",
       "      <td>15.000000</td>\n",
       "      <td>-0.001869</td>\n",
       "      <td>141.793898</td>\n",
       "      <td>...</td>\n",
       "      <td>141.733322</td>\n",
       "      <td>141.732757</td>\n",
       "      <td>0.230887</td>\n",
       "      <td>95.50000</td>\n",
       "      <td>-0.371370</td>\n",
       "      <td>-0.463379</td>\n",
       "      <td>142.059998</td>\n",
       "      <td>142.240005</td>\n",
       "      <td>142.332483</td>\n",
       "      <td>141.915309</td>\n",
       "    </tr>\n",
       "    <tr>\n",
       "      <th>50%</th>\n",
       "      <td>144.979996</td>\n",
       "      <td>144.600006</td>\n",
       "      <td>144.780106</td>\n",
       "      <td>144.770004</td>\n",
       "      <td>8.536960e+05</td>\n",
       "      <td>2.000000</td>\n",
       "      <td>16.000000</td>\n",
       "      <td>30.000000</td>\n",
       "      <td>0.000293</td>\n",
       "      <td>144.706781</td>\n",
       "      <td>...</td>\n",
       "      <td>144.622283</td>\n",
       "      <td>144.476201</td>\n",
       "      <td>0.312449</td>\n",
       "      <td>191.00000</td>\n",
       "      <td>-0.133547</td>\n",
       "      <td>-0.215718</td>\n",
       "      <td>145.100403</td>\n",
       "      <td>145.529907</td>\n",
       "      <td>145.400064</td>\n",
       "      <td>145.055173</td>\n",
       "    </tr>\n",
       "    <tr>\n",
       "      <th>75%</th>\n",
       "      <td>145.946556</td>\n",
       "      <td>145.623947</td>\n",
       "      <td>145.777496</td>\n",
       "      <td>145.770004</td>\n",
       "      <td>1.219092e+06</td>\n",
       "      <td>3.000000</td>\n",
       "      <td>18.000000</td>\n",
       "      <td>45.000000</td>\n",
       "      <td>0.002613</td>\n",
       "      <td>145.788010</td>\n",
       "      <td>...</td>\n",
       "      <td>145.265687</td>\n",
       "      <td>145.233258</td>\n",
       "      <td>0.346995</td>\n",
       "      <td>286.50000</td>\n",
       "      <td>0.152822</td>\n",
       "      <td>0.067255</td>\n",
       "      <td>145.860001</td>\n",
       "      <td>146.220001</td>\n",
       "      <td>146.491412</td>\n",
       "      <td>146.077208</td>\n",
       "    </tr>\n",
       "    <tr>\n",
       "      <th>max</th>\n",
       "      <td>147.539993</td>\n",
       "      <td>146.970993</td>\n",
       "      <td>147.399994</td>\n",
       "      <td>147.389999</td>\n",
       "      <td>9.847847e+06</td>\n",
       "      <td>4.000000</td>\n",
       "      <td>19.000000</td>\n",
       "      <td>55.000000</td>\n",
       "      <td>0.019412</td>\n",
       "      <td>147.054996</td>\n",
       "      <td>...</td>\n",
       "      <td>146.399179</td>\n",
       "      <td>146.204545</td>\n",
       "      <td>0.404324</td>\n",
       "      <td>382.00000</td>\n",
       "      <td>2.378459</td>\n",
       "      <td>2.291231</td>\n",
       "      <td>146.970993</td>\n",
       "      <td>147.539993</td>\n",
       "      <td>148.148975</td>\n",
       "      <td>147.670339</td>\n",
       "    </tr>\n",
       "  </tbody>\n",
       "</table>\n",
       "<p>8 rows × 35 columns</p>\n",
       "</div>"
      ],
      "text/plain": [
       "             high         low       close        open        volume  \\\n",
       "count  383.000000  383.000000  383.000000  383.000000  3.830000e+02   \n",
       "mean   144.006100  143.621528  143.824493  143.812235  1.071839e+06   \n",
       "std      2.272185    2.307626    2.287670    2.282122  8.864986e+05   \n",
       "min    138.729996  137.684998  138.000000  138.210007  2.909000e+05   \n",
       "25%    141.830002  141.400002  141.683899  141.682495  6.190895e+05   \n",
       "50%    144.979996  144.600006  144.780106  144.770004  8.536960e+05   \n",
       "75%    145.946556  145.623947  145.777496  145.770004  1.219092e+06   \n",
       "max    147.539993  146.970993  147.399994  147.389999  9.847847e+06   \n",
       "\n",
       "       day_of_week        hour      minute    Return_5  MovingAvg_5  ...  \\\n",
       "count   383.000000  383.000000  383.000000  383.000000   383.000000  ...   \n",
       "mean      1.981723   16.180157   28.446475    0.000320   143.807425  ...   \n",
       "std       1.422401    1.869127   17.278944    0.004239     2.271679  ...   \n",
       "min       0.000000   13.000000    0.000000   -0.012805   138.514996  ...   \n",
       "25%       1.000000   15.000000   15.000000   -0.001869   141.793898  ...   \n",
       "50%       2.000000   16.000000   30.000000    0.000293   144.706781  ...   \n",
       "75%       3.000000   18.000000   45.000000    0.002613   145.788010  ...   \n",
       "max       4.000000   19.000000   55.000000    0.019412   147.054996  ...   \n",
       "\n",
       "       MovingAvg_50  ExpMovingAvg_50  Volatility_50          x   delta_low  \\\n",
       "count    383.000000       383.000000     383.000000  383.00000  383.000000   \n",
       "mean     143.552757       143.585893       0.294320  191.00000   -0.067703   \n",
       "std        2.143263         2.050849       0.070494  110.70682    0.479384   \n",
       "min      140.102064       140.105318       0.143277    0.00000   -1.643507   \n",
       "25%      141.733322       141.732757       0.230887   95.50000   -0.371370   \n",
       "50%      144.622283       144.476201       0.312449  191.00000   -0.133547   \n",
       "75%      145.265687       145.233258       0.346995  286.50000    0.152822   \n",
       "max      146.399179       146.204545       0.404324  382.00000    2.378459   \n",
       "\n",
       "       delta_high  target_low  targets_high  high_predictions  low_predictions  \n",
       "count  383.000000  383.000000    383.000000        383.000000       383.000000  \n",
       "mean    -0.149428  144.057583    144.404476        144.553904       144.125286  \n",
       "std      0.485754    2.244789      2.245286          2.248250         2.271331  \n",
       "min     -1.985554  138.985001    139.779999        139.651284       138.796402  \n",
       "25%     -0.463379  142.059998    142.240005        142.332483       141.915309  \n",
       "50%     -0.215718  145.100403    145.529907        145.400064       145.055173  \n",
       "75%      0.067255  145.860001    146.220001        146.491412       146.077208  \n",
       "max      2.291231  146.970993    147.539993        148.148975       147.670339  \n",
       "\n",
       "[8 rows x 35 columns]"
      ]
     },
     "execution_count": 8,
     "metadata": {},
     "output_type": "execute_result"
    }
   ],
   "source": [
    "df.describe()"
   ]
  },
  {
   "cell_type": "code",
   "execution_count": 9,
   "id": "a4de61fc",
   "metadata": {},
   "outputs": [
    {
     "name": "stdout",
     "output_type": "stream",
     "text": [
      "           high         low       close        open  volume  day_of_week  \\\n",
      "373  146.039993  145.820007  145.889999  145.830994  421537            3   \n",
      "374  145.990005  145.770004  145.770004  145.887497  320403            3   \n",
      "375  145.789993  145.460007  145.490005  145.770004  656287            3   \n",
      "376  145.619995  145.270004  145.580002  145.479996  735085            3   \n",
      "377  145.800003  145.559998  145.690002  145.570007  523325            3   \n",
      "378  145.699997  145.479996  145.630005  145.679993  647701            3   \n",
      "379  145.619995  145.419998  145.535004  145.619995  473299            3   \n",
      "380  145.619995  145.250000  145.470001  145.529999  651644            3   \n",
      "381  145.669998  145.320007  145.389999  145.649994  809226            3   \n",
      "382  145.860001  145.289993  145.690002  145.372101  927392            3   \n",
      "\n",
      "     hour  minute  Return_5  MovingAvg_5  ...  MovingAvg_50  ExpMovingAvg_50  \\\n",
      "373    18      35 -0.000240   145.869202  ...    146.141840       146.120473   \n",
      "374    18      40 -0.000069   145.867203  ...    146.144240       146.106729   \n",
      "375    18      45 -0.003220   145.773203  ...    146.135940       146.082544   \n",
      "376    18      50 -0.002084   145.712402  ...    146.129140       146.062836   \n",
      "377    18      55 -0.000974   145.684003  ...    146.115140       146.048215   \n",
      "378    19       0 -0.001782   145.632004  ...    146.099840       146.031815   \n",
      "379    19       5 -0.001612   145.585004  ...    146.077942       146.012332   \n",
      "380    19      10 -0.000137   145.581003  ...    146.066124       145.991064   \n",
      "381    19      15 -0.001305   145.543002  ...    146.051924       145.967493   \n",
      "382    19      20  0.000000   145.543002  ...    146.049524       145.956611   \n",
      "\n",
      "     Volatility_50    x  delta_low  delta_high  target_low  targets_high  \\\n",
      "373       0.238627  373  -0.408635   -0.561565  145.770004    145.990005   \n",
      "374       0.238986  374  -0.521890   -0.605689  145.559998    145.860001   \n",
      "375       0.239422  375  -0.196803   -0.380027  145.630005    145.880005   \n",
      "376       0.239806  376  -0.194662   -0.378051  145.770004    146.014999   \n",
      "377       0.230419  377  -0.308691   -0.471392  145.770004    146.014999   \n",
      "378       0.230493  378  -0.205114   -0.342825  145.770004    146.014999   \n",
      "379       0.227892  379  -0.108141   -0.236710  145.770004    146.014999   \n",
      "380       0.213916  380  -0.087713   -0.248695  145.770004    146.014999   \n",
      "381       0.214001  381  -0.041922   -0.219327  145.770004    146.014999   \n",
      "382       0.214748  382  -0.366669   -0.573051  145.770004    146.014999   \n",
      "\n",
      "     high_predictions  low_predictions  \n",
      "373        146.551570       146.178640  \n",
      "374        146.465690       146.081888  \n",
      "375        146.260032       145.826808  \n",
      "376        146.393050       145.964667  \n",
      "377        146.486392       146.078695  \n",
      "378        146.357824       145.975118  \n",
      "379        146.251710       145.878146  \n",
      "380        146.263694       145.857717  \n",
      "381        146.234326       145.811926  \n",
      "382        146.588051       146.136674  \n",
      "\n",
      "[10 rows x 35 columns]\n"
     ]
    }
   ],
   "source": [
    "print(df.tail(10))"
   ]
  },
  {
   "cell_type": "code",
   "execution_count": 10,
   "id": "732ced38",
   "metadata": {},
   "outputs": [
    {
     "data": {
      "text/plain": [
       "\"\\ntable = pd.pivot_table(\\n    df, values='delta_low', index=['hour'],\\n    columns=['day_of_week'], aggfunc=np.mean)\\nprint(table)\""
      ]
     },
     "execution_count": 10,
     "metadata": {},
     "output_type": "execute_result"
    }
   ],
   "source": [
    "'''\n",
    "table = pd.pivot_table(\n",
    "    df, values='delta_low', index=['hour'],\n",
    "    columns=['day_of_week'], aggfunc=np.mean)\n",
    "print(table)'''"
   ]
  },
  {
   "cell_type": "code",
   "execution_count": 11,
   "id": "f812c9f8",
   "metadata": {},
   "outputs": [
    {
     "data": {
      "text/plain": [
       "\"table = pd.pivot_table(\\n    df, values='delta_high', index=['hour'],\\n    columns=['day_of_week'], aggfunc=np.mean)\\nprint(table)\""
      ]
     },
     "execution_count": 11,
     "metadata": {},
     "output_type": "execute_result"
    }
   ],
   "source": [
    "'''table = pd.pivot_table(\n",
    "    df, values='delta_high', index=['hour'],\n",
    "    columns=['day_of_week'], aggfunc=np.mean)\n",
    "print(table)'''"
   ]
  },
  {
   "cell_type": "code",
   "execution_count": 12,
   "id": "d9cd7999",
   "metadata": {},
   "outputs": [
    {
     "data": {
      "text/plain": [
       "\"print(df.groupby('hour')['delta_high'].mean())\\nprint(df.groupby('hour')['delta_high'].std())\""
      ]
     },
     "execution_count": 12,
     "metadata": {},
     "output_type": "execute_result"
    }
   ],
   "source": [
    "'''print(df.groupby('hour')['delta_high'].mean())\n",
    "print(df.groupby('hour')['delta_high'].std())'''"
   ]
  },
  {
   "cell_type": "code",
   "execution_count": 13,
   "id": "4de33d9a",
   "metadata": {},
   "outputs": [
    {
     "data": {
      "text/plain": [
       "\"print(df.groupby('hour')['delta_low'].mean())\\nprint(df.groupby('hour')['delta_low'].std())\""
      ]
     },
     "execution_count": 13,
     "metadata": {},
     "output_type": "execute_result"
    }
   ],
   "source": [
    "'''print(df.groupby('hour')['delta_low'].mean())\n",
    "print(df.groupby('hour')['delta_low'].std())'''"
   ]
  },
  {
   "cell_type": "code",
   "execution_count": null,
   "id": "4fbac804",
   "metadata": {},
   "outputs": [],
   "source": []
  }
 ],
 "metadata": {
  "kernelspec": {
   "display_name": "Python 3",
   "language": "python",
   "name": "python3"
  },
  "language_info": {
   "codemirror_mode": {
    "name": "ipython",
    "version": 3
   },
   "file_extension": ".py",
   "mimetype": "text/x-python",
   "name": "python",
   "nbconvert_exporter": "python",
   "pygments_lexer": "ipython3",
   "version": "3.8.8"
  }
 },
 "nbformat": 4,
 "nbformat_minor": 5
}
