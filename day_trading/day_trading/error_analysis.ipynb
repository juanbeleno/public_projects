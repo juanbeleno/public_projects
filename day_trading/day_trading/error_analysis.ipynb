{
 "cells": [
  {
   "cell_type": "code",
   "execution_count": 1,
   "id": "61e84805",
   "metadata": {},
   "outputs": [],
   "source": [
    "# Define ticket\n",
    "ticket = 'META'\n",
    "\n",
    "# Use a new working directory for relative imports\n",
    "from sys import path\n",
    "import os\n",
    "\n",
    "os.chdir(os.path.dirname(path[0]))\n",
    "# print(\"New Working Directory \" , os.getcwd())"
   ]
  },
  {
   "cell_type": "code",
   "execution_count": 2,
   "id": "123a7e9c",
   "metadata": {},
   "outputs": [
    {
     "name": "stdout",
     "output_type": "stream",
     "text": [
      "Getting the data for the ticket\n",
      "Getting data for META\n",
      "Convert the HTTP response into a pandas DataFrame\n",
      "Processing data for META\n",
      "Processing data for META\n",
      "Processing data for META\n",
      "There are 6951 data points.\n",
      "Calculating the cummulative features.\n",
      "Defining the targets.\n",
      "# Samples with NaN: 6951\n",
      "# Samples without NaN: 6888\n",
      "Two weeks ago: 2022-11-04 01:58:08.474250\n",
      "Defining the training data.\n",
      "Defining the test data.\n",
      "Training distribution: 0 (91.21%) - 1 (8.79%)\n",
      "Validation distribution: 0 (86.12%) - 1 (13.88%)\n",
      "           high        low      close       open   volume  day_of_week  hour  \\\n",
      "6170  91.389999  89.449997  89.519997  90.349998  3625744            4    13   \n",
      "6171  90.019997  89.320000  89.889999  89.500000  1108437            4    13   \n",
      "6172  89.786797  88.680000  88.680000  89.750000  1424290            4    13   \n",
      "6173  89.079903  88.330002  88.440002  88.500000  1360099            4    13   \n",
      "6174  88.900002  88.345001  88.884003  88.500000  2009649            4    13   \n",
      "6175  89.699997  88.940002  89.678299  89.000000  1124417            4    13   \n",
      "6176  89.900002  89.459999  89.660004  89.660004  1141405            4    14   \n",
      "6177  89.699997  89.071800  89.160004  89.650002   867009            4    14   \n",
      "6178  89.989998  89.035004  89.985001  89.180000   923213            4    14   \n",
      "6179  90.129997  89.699997  89.959999  89.989998   932291            4    14   \n",
      "\n",
      "      minute  Return_close_3  MovingAvg_close_3  ...  P_Delta_Close_16  \\\n",
      "6170      30        0.002688          89.125000  ...          0.006326   \n",
      "6171      35        0.010511          89.436666  ...          0.002872   \n",
      "6172      40       -0.002475          89.363332  ...          0.001846   \n",
      "6173      45       -0.012064          89.003334  ...          0.000895   \n",
      "6174      50       -0.011191          88.668002  ...          0.001608   \n",
      "6175      55        0.011257          89.000768  ...          0.005121   \n",
      "6176       0        0.013795          89.407435  ...          0.005060   \n",
      "6177       5        0.003105          89.499435  ...          0.010187   \n",
      "6178      10        0.003420          89.601669  ...          0.003882   \n",
      "6179      15        0.003346          89.701668  ...          0.000837   \n",
      "\n",
      "      P_Delta_Close_17  P_Delta_Close_18  P_Delta_Close_19  P_Delta_Close_20  \\\n",
      "6170         -0.000845          0.000394         -0.004111         -0.009589   \n",
      "6171          0.002865         -0.003437         -0.004155         -0.000336   \n",
      "6172          0.007343         -0.004518         -0.002249         -0.001458   \n",
      "6173          0.006326         -0.000845          0.000394         -0.004111   \n",
      "6174          0.002872          0.002865         -0.003437         -0.004155   \n",
      "6175          0.001846          0.007343         -0.004518         -0.002249   \n",
      "6176          0.000895          0.006326         -0.000845          0.000394   \n",
      "6177          0.001608          0.002872          0.002865         -0.003437   \n",
      "6178          0.005121          0.001846          0.007343         -0.004518   \n",
      "6179          0.005060          0.000895          0.006326         -0.000845   \n",
      "\n",
      "            RSI      MACD  MACD_Signal  MACD_Histogram      VWAP  \n",
      "6170  15.431225  0.065597     0.031810        0.033787  0.000346  \n",
      "6171  31.688366  0.022853     0.030019       -0.007166  0.000346  \n",
      "6172  19.699863  0.078650     0.039745        0.038905  0.000346  \n",
      "6173  19.229185  0.138842     0.059564        0.079277  0.000346  \n",
      "6174  31.343311  0.151201     0.077892        0.073310  0.000345  \n",
      "6175  47.417062  0.100307     0.082375        0.017932  0.000345  \n",
      "6176  47.417062  0.060803     0.078060       -0.017257  0.000345  \n",
      "6177  38.702554  0.066226     0.075694       -0.009467  0.000345  \n",
      "6178  54.540062  0.008710     0.062297       -0.053587  0.000345  \n",
      "6179  53.940799 -0.034325     0.042972       -0.077298  0.000345  \n",
      "\n",
      "[10 rows x 53 columns]\n"
     ]
    }
   ],
   "source": [
    "from day_trading.files import DayTradingFiles\n",
    "from day_trading.dataset import DayTradingDataset\n",
    "from sklearn.linear_model import LogisticRegression\n",
    "# from xgboost import XGBClassifier\n",
    "from catboost import CatBoostClassifier\n",
    "import pandas as pd\n",
    "import os\n",
    "\n",
    "# Prepare the models, targets, and features\n",
    "files = DayTradingFiles()\n",
    "dataset = DayTradingDataset()\n",
    "\n",
    "(\n",
    "    features_train_df, label_close_train,\n",
    "    features_test_df, label_close_test\n",
    ") = dataset.test_train_split(ticket, 'long')\n",
    "\n",
    "\n",
    "close_model = CatBoostClassifier()\n",
    "\n",
    "# Train the models\n",
    "close_model.fit(features_train_df, label_close_train, verbose=False)\n",
    "\n",
    "num_train_samples = features_train_df.shape[0]\n",
    "num_test_samples = features_test_df.shape[0]\n",
    "print(f'Training distribution: 0 ({(num_train_samples - sum(label_close_train))*100/num_train_samples:0.2f}%) - 1 ({sum(label_close_train)*100/num_train_samples:0.2f}%)')\n",
    "print(f'Validation distribution: 0 ({(num_test_samples - sum(label_close_test))*100/num_test_samples:0.2f}%) - 1 ({sum(label_close_test)*100/num_test_samples:0.2f}%)')\n",
    "\n",
    "print(features_test_df.head(10))"
   ]
  },
  {
   "cell_type": "code",
   "execution_count": 3,
   "id": "f947832b",
   "metadata": {},
   "outputs": [
    {
     "name": "stdout",
     "output_type": "stream",
     "text": [
      "Feature Importance:\n",
      "['hour', 9.921472164168312]\n",
      "['minute', 7.239636980758841]\n",
      "['volume', 6.403479024188412]\n",
      "['Volatility_close_15', 3.439998578094153]\n",
      "['Volatility_close_6', 3.250072432729325]\n",
      "['Volatility_close_9', 2.782677019710563]\n",
      "['MACD_Signal', 2.739646126308366]\n",
      "['VWAP', 2.5338585566465537]\n",
      "['Volatility_close_12', 2.5325132909169596]\n",
      "['P_Delta_Close_9', 2.446121771429246]\n",
      "['P_Delta_Close_16', 2.2976083611660263]\n",
      "['P_Delta_Close_6', 2.2928726383005795]\n",
      "['P_Delta_Close_13', 2.22946664546961]\n",
      "['P_Delta_Close_10', 2.0880729537057188]\n",
      "['P_Delta_Close_8', 2.078785920584342]\n",
      "['P_Delta_Close_2', 2.077721562308857]\n",
      "['P_Delta_Close_12', 2.0159316011488575]\n",
      "['P_Delta_Close_18', 1.9830695173841548]\n",
      "['P_Delta_Close_15', 1.864689321336259]\n",
      "['P_Delta_Close_7', 1.8524971500268466]\n",
      "['P_Delta_Close_19', 1.8372202219684526]\n",
      "['P_Delta_Close_20', 1.785774375871712]\n",
      "['MACD', 1.7420191215838268]\n",
      "['RSI', 1.7161136696881896]\n",
      "['P_Delta_Close_11', 1.6985295754624925]\n",
      "['MACD_Histogram', 1.6977367574307565]\n",
      "['Return_close_6', 1.6165429329376027]\n",
      "['P_Delta_Close_17', 1.5168355299669651]\n",
      "['Volatility_close_3', 1.4942128958756355]\n",
      "['P_Delta_Close_4', 1.3273645121021693]\n",
      "['P_Delta_Close_14', 1.271019367666503]\n",
      "['Return_close_9', 1.2088385739324847]\n",
      "['day_of_week', 1.1729780449971732]\n",
      "['P_Delta_Close_5', 1.130245022257329]\n",
      "['P_Delta_Close_3', 1.057269203577353]\n",
      "['EMA_close_15', 0.9998452422454536]\n",
      "['P_Delta_Close_1', 0.9563827020168341]\n",
      "['Return_close_15', 0.9472379794006082]\n",
      "['MovingAvg_close_12', 0.9411832701326903]\n",
      "['Return_close_12', 0.9256092621207669]\n",
      "['MovingAvg_close_3', 0.8687261203231148]\n",
      "['open', 0.867077916948886]\n",
      "['MovingAvg_close_9', 0.8296320592443356]\n",
      "['MovingAvg_close_6', 0.7731513669269244]\n",
      "['EMA_close_3', 0.7580637186408403]\n",
      "['EMA_close_9', 0.738388602013054]\n",
      "['EMA_close_12', 0.614461790357523]\n",
      "['MovingAvg_close_15', 0.6057277691559588]\n",
      "['EMA_close_6', 0.5940139045736433]\n",
      "['close', 0.5774899401284562]\n",
      "['low', 0.573921219925312]\n",
      "['high', 0.5438308842083287]\n",
      "['Return_close_3', 0.5423648299366408]\n"
     ]
    }
   ],
   "source": [
    "import numpy as np\n",
    "\n",
    "\"\"\"\n",
    "# Feature importance\n",
    "sorted_idx = np.argsort(close_model.coef_)[::-1][0]\n",
    "print(f'Feature Importance:')\n",
    "for index in sorted_idx:\n",
    "    print([features_train_df.columns[index], close_model.coef_[0][index]])\n",
    "\n",
    "\"\"\"\n",
    "sorted_idx = np.argsort(close_model.feature_importances_)[::-1]\n",
    "print(f'Feature Importance:')\n",
    "for index in sorted_idx:\n",
    "    print([features_test_df.columns[index], close_model.feature_importances_[index]])\n"
   ]
  },
  {
   "cell_type": "code",
   "execution_count": 4,
   "id": "e1093f2c",
   "metadata": {},
   "outputs": [
    {
     "name": "stdout",
     "output_type": "stream",
     "text": [
      "Sample Predictions: [0 0 0 0 0 0 0 0 0 0 0 0 0 0 0 0 0 0 0 0]\n"
     ]
    }
   ],
   "source": [
    "# Make predictions\n",
    "close_predictions = close_model.predict(features_test_df)\n",
    "\n",
    "print(f'Sample Predictions: {close_predictions[:20]}')"
   ]
  },
  {
   "cell_type": "code",
   "execution_count": 5,
   "id": "3d295280",
   "metadata": {},
   "outputs": [
    {
     "name": "stdout",
     "output_type": "stream",
     "text": [
      "Precision: 0.3333333333333333\n",
      "Recall: 0.05555555555555555\n",
      "Accuracy: 0.8534704370179949\n",
      "F1-Score: 0.09523809523809525\n",
      "Confusion Matrix:\n",
      " [[658  12]\n",
      " [102   6]]\n"
     ]
    },
    {
     "data": {
      "image/png": "[encoded data removed]",
      "text/plain": [
       "<Figure size 432x288 with 2 Axes>"
      ]
     },
     "metadata": {
      "needs_background": "light"
     },
     "output_type": "display_data"
    }
   ],
   "source": [
    "from sklearn.metrics import (\n",
    "    precision_score, recall_score, accuracy_score,\n",
    "    confusion_matrix, f1_score, ConfusionMatrixDisplay\n",
    ")\n",
    "\n",
    "print(f'Precision: {precision_score(label_close_test, close_predictions)}')\n",
    "print(f'Recall: {recall_score(label_close_test, close_predictions)}')\n",
    "print(f'Accuracy: {accuracy_score(label_close_test, close_predictions)}')\n",
    "print(f'F1-Score: {f1_score(label_close_test, close_predictions)}')\n",
    "print(f'Confusion Matrix:\\n {confusion_matrix(label_close_test, close_predictions)}')\n",
    "cm_display = ConfusionMatrixDisplay(confusion_matrix(label_close_test, close_predictions)).plot()"
   ]
  },
  {
   "cell_type": "code",
   "execution_count": null,
   "id": "fd077ed4",
   "metadata": {},
   "outputs": [],
   "source": []
  }
 ],
 "metadata": {
  "kernelspec": {
   "display_name": "Python 3",
   "language": "python",
   "name": "python3"
  },
  "language_info": {
   "codemirror_mode": {
    "name": "ipython",
    "version": 3
   },
   "file_extension": ".py",
   "mimetype": "text/x-python",
   "name": "python",
   "nbconvert_exporter": "python",
   "pygments_lexer": "ipython3",
   "version": "3.8.8"
  }
 },
 "nbformat": 4,
 "nbformat_minor": 5
}
