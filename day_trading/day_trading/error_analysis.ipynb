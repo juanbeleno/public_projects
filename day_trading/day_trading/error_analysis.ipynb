{
 "cells": [
  {
   "cell_type": "code",
   "execution_count": 1,
   "id": "61e84805",
   "metadata": {},
   "outputs": [],
   "source": [
    "# Use a new working directory for relative imports\n",
    "from sys import path\n",
    "import os\n",
    "\n",
    "os.chdir(os.path.dirname(path[0]))\n",
    "# print(\"New Working Directory \" , os.getcwd())"
   ]
  },
  {
   "cell_type": "code",
   "execution_count": 2,
   "id": "123a7e9c",
   "metadata": {},
   "outputs": [
    {
     "name": "stderr",
     "output_type": "stream",
     "text": [
      "/Users/juanbeleno/opt/anaconda3/lib/python3.8/site-packages/xgboost/compat.py:31: FutureWarning: pandas.Int64Index is deprecated and will be removed from pandas in a future version. Use pandas.Index with the appropriate dtype instead.\n",
      "  from pandas import MultiIndex, Int64Index\n",
      "/Users/juanbeleno/opt/anaconda3/lib/python3.8/site-packages/sklearn/utils/fixes.py:28: UserWarning: Module day_trading was already imported from None, but /Users/juanbeleno/Desktop/Repositories/nlp_public_projects/day_trading is being added to sys.path\n",
      "  from pkg_resources import parse_version  # type: ignore\n"
     ]
    }
   ],
   "source": [
    "from day_trading.files import DayTradingFiles\n",
    "from xgboost import XGBRegressor\n",
    "import pandas as pd\n",
    "import json\n",
    "import joblib\n",
    "\n",
    "# Prepare the models, targets, and features\n",
    "files = DayTradingFiles()\n",
    "\n",
    "high_regressor = joblib.load(files.high_model_filepath)\n",
    "low_regressor = joblib.load(files.low_model_filepath)\n",
    "\n",
    "with open(files.target_high_filepath) as json_file:\n",
    "    targets_high = json.load(json_file)\n",
    "\n",
    "with open(files.target_low_filepath) as json_file:\n",
    "    targets_low = json.load(json_file)\n",
    "\n",
    "features = pd.read_csv(files.features_filepath)\n"
   ]
  },
  {
   "cell_type": "code",
   "execution_count": 3,
   "id": "e1093f2c",
   "metadata": {},
   "outputs": [
    {
     "name": "stdout",
     "output_type": "stream",
     "text": [
      "Sample High Predictions: [142.82426 142.10399 143.0002  143.04958 142.91951 142.78719 142.64734\n",
      " 142.78865 142.79573 142.94084 142.87975 142.74873 142.23456 142.68507\n",
      " 142.47046 142.36781 142.36992 142.58878 142.5435  142.76231]\n"
     ]
    },
    {
     "name": "stderr",
     "output_type": "stream",
     "text": [
      "/Users/juanbeleno/opt/anaconda3/lib/python3.8/site-packages/xgboost/data.py:192: FutureWarning: pandas.Int64Index is deprecated and will be removed from pandas in a future version. Use pandas.Index with the appropriate dtype instead.\n",
      "  from pandas import MultiIndex, Int64Index\n"
     ]
    }
   ],
   "source": [
    "# Make predictions\n",
    "high_predictions = high_regressor.predict(features)\n",
    "low_predictions = low_regressor.predict(features)\n",
    "\n",
    "print(f'Sample High Predictions: {high_predictions[:20]}')"
   ]
  },
  {
   "cell_type": "code",
   "execution_count": 4,
   "id": "3d295280",
   "metadata": {},
   "outputs": [
    {
     "name": "stdout",
     "output_type": "stream",
     "text": [
      "MAE Low: 0.7345449980494247\n",
      "MAE High: 0.9574382971223279\n"
     ]
    }
   ],
   "source": [
    "from sklearn.metrics import mean_absolute_error\n",
    "\n",
    "low_mae = mean_absolute_error(targets_low, low_predictions)\n",
    "high_mae = mean_absolute_error(targets_high, high_predictions)\n",
    "\n",
    "print(f'MAE Low: {low_mae}')\n",
    "print(f'MAE High: {high_mae}')"
   ]
  },
  {
   "cell_type": "code",
   "execution_count": 5,
   "id": "8cf79104",
   "metadata": {},
   "outputs": [
    {
     "name": "stdout",
     "output_type": "stream",
     "text": [
      "Sample High Deltas: [ 0.21426392 -0.50601196  0.39019775  0.4395752   0.08950806 -0.10281372\n",
      " -0.24266052 -0.10134888 -0.0942688   0.05084229 -0.01025391 -0.24116516\n",
      " -0.75534058 -0.41493225 -0.62954712 -0.73219299 -0.73008728 -0.51123047\n",
      " -0.5565033  -0.33769226]\n"
     ]
    },
    {
     "data": {
      "text/plain": [
       "<AxesSubplot:xlabel='x', ylabel='delta_high'>"
      ]
     },
     "execution_count": 5,
     "metadata": {},
     "output_type": "execute_result"
    },
    {
     "data": {
      "image/png": "[encoded data removed]",
      "text/plain": [
       "<Figure size 432x288 with 1 Axes>"
      ]
     },
     "metadata": {
      "needs_background": "light"
     },
     "output_type": "display_data"
    }
   ],
   "source": [
    "import seaborn as sns\n",
    "\n",
    "# Analyze the errors\n",
    "delta_high_values = high_predictions - targets_high\n",
    "delta_low_values = low_predictions - targets_low\n",
    "\n",
    "df = features.copy()\n",
    "df['x'] = df.index\n",
    "df['delta_low'] = delta_low_values\n",
    "df['delta_high'] = delta_high_values\n",
    "\n",
    "print(f'Sample High Deltas: {delta_high_values[:20]}')\n",
    "\n",
    "sns.barplot(data=df, x=\"x\", y=\"delta_high\")"
   ]
  },
  {
   "cell_type": "code",
   "execution_count": 6,
   "id": "f33644a3",
   "metadata": {},
   "outputs": [
    {
     "data": {
      "text/plain": [
       "<AxesSubplot:xlabel='x', ylabel='delta_low'>"
      ]
     },
     "execution_count": 6,
     "metadata": {},
     "output_type": "execute_result"
    },
    {
     "data": {
      "image/png": "[encoded data removed]",
      "text/plain": [
       "<Figure size 432x288 with 1 Axes>"
      ]
     },
     "metadata": {
      "needs_background": "light"
     },
     "output_type": "display_data"
    }
   ],
   "source": [
    "sns.barplot(data=df, x=\"x\", y=\"delta_low\")"
   ]
  },
  {
   "cell_type": "code",
   "execution_count": null,
   "id": "2289cbe1",
   "metadata": {},
   "outputs": [],
   "source": []
  }
 ],
 "metadata": {
  "kernelspec": {
   "display_name": "Python 3",
   "language": "python",
   "name": "python3"
  },
  "language_info": {
   "codemirror_mode": {
    "name": "ipython",
    "version": 3
   },
   "file_extension": ".py",
   "mimetype": "text/x-python",
   "name": "python",
   "nbconvert_exporter": "python",
   "pygments_lexer": "ipython3",
   "version": "3.8.8"
  }
 },
 "nbformat": 4,
 "nbformat_minor": 5
}
