{
 "cells": [
  {
   "cell_type": "code",
   "execution_count": 1,
   "id": "61e84805",
   "metadata": {},
   "outputs": [],
   "source": [
    "# Define ticket\n",
    "ticket = 'AAPL'\n",
    "\n",
    "# Use a new working directory for relative imports\n",
    "from sys import path\n",
    "import os\n",
    "\n",
    "os.chdir(os.path.dirname(path[0]))\n",
    "# print(\"New Working Directory \" , os.getcwd())"
   ]
  },
  {
   "cell_type": "code",
   "execution_count": 2,
   "id": "123a7e9c",
   "metadata": {},
   "outputs": [
    {
     "name": "stdout",
     "output_type": "stream",
     "text": [
      "Getting the data for the ticket\n",
      "Getting data for AAPL\n",
      "Convert the HTTP response into a pandas DataFrame\n",
      "Processing data for AAPL\n",
      "Processing data for AAPL\n",
      "Processing data for AAPL\n",
      "There are 6995 data points.\n",
      "Calculating the cummulative features.\n",
      "Defining the targets.\n",
      "# Samples with NaN: 6995\n",
      "# Samples without NaN: 6989\n",
      "Two weeks ago: 2022-11-03 18:34:36.451917\n",
      "Defining the training data.\n",
      "Defining the test data.\n",
      "Training distribution High: 0 (79.01%) - 1 (20.99%)\n",
      "Validation distribution High: 0 (69.19%) - 1 (30.81%)\n",
      "Training distribution Low: 0 (21.42%) - 1 (78.58%)\n",
      "Validation distribution Low: 0 (29.11%) - 1 (70.89%)\n",
      "            high         low       close        open  volume  day_of_week  \\\n",
      "6226  140.029999  139.755005  139.830002  139.919998  634199            3   \n",
      "6227  140.009995  139.750000  139.794998  139.839996  782946            3   \n",
      "6228  140.100006  139.759995  140.020096  139.789993  616009            3   \n",
      "6229  140.089996  139.919998  140.009995  140.009995  451049            3   \n",
      "6230  140.350006  139.904999  140.240005  140.009995  740969            3   \n",
      "6231  140.330002  140.050003  140.110001  140.240005  860473            3   \n",
      "6232  140.139999  139.729996  139.730804  140.119995  666964            3   \n",
      "6233  139.889999  139.669998  139.710007  139.736206  600444            3   \n",
      "6234  139.880005  139.649994  139.699997  139.710007  650213            3   \n",
      "6235  139.880005  139.690002  139.800003  139.699905  715662            3   \n",
      "\n",
      "      hour  minute  Return_high_3  MovingAvg_high_3  ...  Volatility_high_3  \\\n",
      "6226    18      35       0.000214        140.086665  ...           0.101487   \n",
      "6227    18      40      -0.000785        140.049998  ...           0.037861   \n",
      "6228    18      45      -0.000071        140.046666  ...           0.086224   \n",
      "6229    18      50       0.000428        140.066666  ...           0.060838   \n",
      "6230    18      55       0.002428        140.180003  ...           0.136513   \n",
      "6231    19       0       0.001642        140.256668  ...           0.158860   \n",
      "6232    19       5       0.000357        140.273336  ...           0.227236   \n",
      "6233    19      10      -0.003278        140.120000  ...           0.119302   \n",
      "6234    19      15      -0.003207        139.970001  ...           0.124903   \n",
      "6235    19      20      -0.001855        139.883336  ...           0.141541   \n",
      "\n",
      "      Return_low_3  MovingAvg_low_3   EMA_low_3  Volatility_low_3        RSI  \\\n",
      "6226      0.001541       139.870000  139.771411          0.307462  50.029289   \n",
      "6227     -0.001536       139.798335  139.760706          0.065059  47.885582   \n",
      "6228     -0.000929       139.755000  139.760350          0.079733  58.402391   \n",
      "6229      0.001181       139.809998  139.840174          0.091247  58.402391   \n",
      "6230      0.001109       139.861664  139.872586          0.094652  67.208920   \n",
      "6231      0.002075       139.958333  139.961295          0.096998  59.055237   \n",
      "6232     -0.001358       139.894999  139.845645          0.236244  41.615705   \n",
      "6233     -0.001680       139.816666  139.757822          0.233047  40.682536   \n",
      "6234     -0.002856       139.683329  139.703908          0.162894  40.284318   \n",
      "6235     -0.000286       139.669998  139.696955          0.050336  46.344362   \n",
      "\n",
      "          MACD  MACD_Signal  MACD_Histogram      VWAP  \n",
      "6226  0.133227     0.171835       -0.038609  0.000167  \n",
      "6227  0.125694     0.162607       -0.036913  0.000167  \n",
      "6228  0.101661     0.150418       -0.048757  0.000167  \n",
      "6229  0.082446     0.136823       -0.054377  0.000167  \n",
      "6230  0.049488     0.119356       -0.069868  0.000167  \n",
      "6231  0.032823     0.102050       -0.069226  0.000167  \n",
      "6232  0.047448     0.091130       -0.043681  0.000167  \n",
      "6233  0.059785     0.084861       -0.025075  0.000167  \n",
      "6234  0.069393     0.081767       -0.012375  0.000167  \n",
      "6235  0.068632     0.079140       -0.010508  0.000167  \n",
      "\n",
      "[10 rows x 21 columns]\n"
     ]
    }
   ],
   "source": [
    "from day_trading.files import DayTradingFiles\n",
    "from day_trading.dataset import DayTradingDataset\n",
    "from sklearn.linear_model import LogisticRegression\n",
    "from xgboost import XGBClassifier\n",
    "import pandas as pd\n",
    "import os\n",
    "\n",
    "# Prepare the models, targets, and features\n",
    "files = DayTradingFiles()\n",
    "dataset = DayTradingDataset()\n",
    "\n",
    "(\n",
    "    features_train_df, target_high_train, target_low_train,\n",
    "    features_test_df, target_high_test, target_low_test\n",
    ") = dataset.test_train_split(ticket, 'long')\n",
    "\n",
    "\n",
    "high_model = LogisticRegression()\n",
    "low_model = LogisticRegression()\n",
    "\n",
    "# Train the models\n",
    "high_model.fit(features_train_df, target_high_train)\n",
    "low_model.fit(features_train_df, target_low_train)\n",
    "\n",
    "num_train_samples = features_train_df.shape[0]\n",
    "num_test_samples = features_test_df.shape[0]\n",
    "print(f'Training distribution High: 0 ({(num_train_samples - sum(target_high_train))*100/num_train_samples:0.2f}%) - 1 ({sum(target_high_train)*100/num_train_samples:0.2f}%)')\n",
    "print(f'Validation distribution High: 0 ({(num_test_samples - sum(target_high_test))*100/num_test_samples:0.2f}%) - 1 ({sum(target_high_test)*100/num_test_samples:0.2f}%)')\n",
    "print(f'Training distribution Low: 0 ({(num_train_samples - sum(target_low_train))*100/num_train_samples:0.2f}%) - 1 ({sum(target_low_train)*100/num_train_samples:0.2f}%)')\n",
    "print(f'Validation distribution Low: 0 ({(num_test_samples - sum(target_low_test))*100/num_test_samples:0.2f}%) - 1 ({sum(target_low_test)*100/num_test_samples:0.2f}%)')\n",
    "\n",
    "print(features_test_df.head(10))"
   ]
  },
  {
   "cell_type": "code",
   "execution_count": 3,
   "id": "f947832b",
   "metadata": {},
   "outputs": [
    {
     "name": "stdout",
     "output_type": "stream",
     "text": [
      "Feature Importance for high regressor:\n",
      "['MovingAvg_high_3', -0.0016228650402083085]\n",
      "['EMA_high_3', -0.001622807689643793]\n",
      "['high', -0.001622526922521744]\n",
      "['open', -0.0016219131941325286]\n",
      "['close', -0.0016218685343376393]\n",
      "['MovingAvg_low_3', -0.0016210076896678704]\n",
      "['EMA_low_3', -0.001621007597600478]\n",
      "['low', -0.0016210032104494168]\n",
      "['RSI', -0.0005120435891974763]\n",
      "['minute', -0.00024708336231701297]\n",
      "['hour', -0.00017217859526643824]\n",
      "['day_of_week', -1.9677706786119477e-05]\n",
      "['Volatility_low_3', -5.653125018933269e-07]\n",
      "['Volatility_high_3', -3.759347079881913e-07]\n",
      "['VWAP', -1.9711987831746873e-09]\n",
      "['Return_low_3', 6.849608436900105e-10]\n",
      "['Return_high_3', 4.922119186522857e-09]\n",
      "['MACD_Histogram', 1.1602200669694225e-08]\n",
      "['MACD_Signal', 3.258628437568485e-08]\n",
      "['MACD', 4.418848504537902e-08]\n",
      "['volume', 6.976706856166278e-07]\n",
      "--------------------------------------\n",
      "Feature Importance for low regressor:\n",
      "['volume', -6.390263871014452e-07]\n",
      "['MACD', -2.4939860448951814e-07]\n",
      "['MACD_Histogram', -1.6464470417533388e-07]\n",
      "['MACD_Signal', -8.475390031418436e-08]\n",
      "['VWAP', 1.872665445558288e-09]\n",
      "['Return_high_3', 3.744566428382449e-09]\n",
      "['Return_low_3', 8.901126038584837e-09]\n",
      "['Volatility_low_3', 1.3719339650598014e-07]\n",
      "['Volatility_high_3', 1.8404976474009054e-07]\n",
      "['day_of_week', 1.832734075840292e-05]\n",
      "['hour', 0.0001657368732079573]\n",
      "['minute', 0.00023107033239960005]\n",
      "['RSI', 0.0005089060996539539]\n",
      "['MovingAvg_low_3', 0.0015435885984908838]\n",
      "['EMA_low_3', 0.0015436229940804739]\n",
      "['low', 0.0015440651284360412]\n",
      "['close', 0.001544741132528245]\n",
      "['open', 0.0015447638899521623]\n",
      "['EMA_high_3', 0.0015451831858988754]\n",
      "['MovingAvg_high_3', 0.0015451913118649497]\n",
      "['high', 0.0015453327152240878]\n"
     ]
    },
    {
     "data": {
      "text/plain": [
       "\"\\nsorted_idx = np.argsort(high_model.feature_importances_)[::-1]\\nprint(f'Feature Importance for high regressor:')\\nfor index in sorted_idx:\\n    print([features_test_df.columns[index], high_model.feature_importances_[index]])\\n\\nprint('--------------------------------------')\\nsorted_idx = np.argsort(low_model.feature_importances_)[::-1]\\nprint(f'Feature Importance for low regressor:')\\nfor index in sorted_idx:\\n    print([features_test_df.columns[index], low_model.feature_importances_[index]])\\n\""
      ]
     },
     "execution_count": 3,
     "metadata": {},
     "output_type": "execute_result"
    }
   ],
   "source": [
    "import numpy as np\n",
    "\n",
    "\n",
    "# Feature importance\n",
    "sorted_idx = np.argsort(high_model.coef_)[::-1][0]\n",
    "print(f'Feature Importance for high regressor:')\n",
    "for index in sorted_idx:\n",
    "    print([features_train_df.columns[index], high_model.coef_[0][index]])\n",
    "\n",
    "print('--------------------------------------')\n",
    "sorted_idx = np.argsort(low_model.coef_)[::-1][0]\n",
    "print(f'Feature Importance for low regressor:')\n",
    "for index in sorted_idx:\n",
    "    print([features_train_df.columns[index], low_model.coef_[0][index]])\n",
    "\n",
    "\"\"\"\n",
    "sorted_idx = np.argsort(high_model.feature_importances_)[::-1]\n",
    "print(f'Feature Importance for high regressor:')\n",
    "for index in sorted_idx:\n",
    "    print([features_test_df.columns[index], high_model.feature_importances_[index]])\n",
    "\n",
    "print('--------------------------------------')\n",
    "sorted_idx = np.argsort(low_model.feature_importances_)[::-1]\n",
    "print(f'Feature Importance for low regressor:')\n",
    "for index in sorted_idx:\n",
    "    print([features_test_df.columns[index], low_model.feature_importances_[index]])\n",
    "\"\"\""
   ]
  },
  {
   "cell_type": "code",
   "execution_count": 4,
   "id": "e1093f2c",
   "metadata": {},
   "outputs": [
    {
     "name": "stdout",
     "output_type": "stream",
     "text": [
      "Sample High Predictions: [0 0 0 0 0 0 0 0 0 0 0 0 0 0 0 0 1 1 1 1]\n"
     ]
    }
   ],
   "source": [
    "# Make predictions\n",
    "high_predictions = high_model.predict(features_test_df)\n",
    "low_predictions = low_model.predict(features_test_df)\n",
    "\n",
    "print(f'Sample High Predictions: {high_predictions[:20]}')"
   ]
  },
  {
   "cell_type": "code",
   "execution_count": 5,
   "id": "3d295280",
   "metadata": {},
   "outputs": [
    {
     "name": "stdout",
     "output_type": "stream",
     "text": [
      "Low Precision: 0.7219973009446694\n",
      "Low Recall: 0.9852670349907919\n",
      "Low Accuracy: 0.720626631853786\n",
      "Low F1-Score: 0.8333333333333333\n",
      "Low Confusion Matrix:\n",
      "\n",
      "----------------------------------\n",
      "High Precision: 0.48148148148148145\n",
      "High Recall: 0.05508474576271186\n",
      "High Accuracy: 0.6906005221932114\n",
      "High F1-Score: 0.09885931558935361\n",
      "High Confusion Matrix:\n",
      "\n"
     ]
    },
    {
     "data": {
      "image/png": "[encoded data removed]",
      "text/plain": [
       "<Figure size 432x288 with 2 Axes>"
      ]
     },
     "metadata": {
      "needs_background": "light"
     },
     "output_type": "display_data"
    },
    {
     "data": {
      "image/png": "[encoded data removed]",
      "text/plain": [
       "<Figure size 432x288 with 2 Axes>"
      ]
     },
     "metadata": {
      "needs_background": "light"
     },
     "output_type": "display_data"
    }
   ],
   "source": [
    "from sklearn.metrics import (\n",
    "    precision_score, recall_score, accuracy_score,\n",
    "    confusion_matrix, f1_score, ConfusionMatrixDisplay\n",
    ")\n",
    "\n",
    "print(f'Low Precision: {precision_score(target_low_test, low_predictions)}')\n",
    "print(f'Low Recall: {recall_score(target_low_test, low_predictions)}')\n",
    "print(f'Low Accuracy: {accuracy_score(target_low_test, low_predictions)}')\n",
    "print(f'Low F1-Score: {f1_score(target_low_test, low_predictions)}')\n",
    "print(f'Low Confusion Matrix:\\n')\n",
    "cm_display = ConfusionMatrixDisplay(confusion_matrix(target_low_test, low_predictions)).plot()\n",
    "\n",
    "print('----------------------------------')\n",
    "print(f'High Precision: {precision_score(target_high_test, high_predictions)}')\n",
    "print(f'High Recall: {recall_score(target_high_test, high_predictions)}')\n",
    "print(f'High Accuracy: {accuracy_score(target_high_test, high_predictions)}')\n",
    "print(f'High F1-Score: {f1_score(target_high_test, high_predictions)}')\n",
    "print(f'High Confusion Matrix:\\n')\n",
    "cm_display = ConfusionMatrixDisplay(confusion_matrix(target_high_test, high_predictions)).plot()"
   ]
  }
 ],
 "metadata": {
  "kernelspec": {
   "display_name": "Python 3",
   "language": "python",
   "name": "python3"
  },
  "language_info": {
   "codemirror_mode": {
    "name": "ipython",
    "version": 3
   },
   "file_extension": ".py",
   "mimetype": "text/x-python",
   "name": "python",
   "nbconvert_exporter": "python",
   "pygments_lexer": "ipython3",
   "version": "3.8.8"
  }
 },
 "nbformat": 4,
 "nbformat_minor": 5
}
